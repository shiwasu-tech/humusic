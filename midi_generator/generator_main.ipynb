{
 "cells": [
  {
   "cell_type": "markdown",
   "metadata": {},
   "source": [
    "## 初期設定"
   ]
  },
  {
   "cell_type": "markdown",
   "metadata": {},
   "source": [
    "### ライブラリのimport"
   ]
  },
  {
   "cell_type": "code",
   "execution_count": 1,
   "metadata": {},
   "outputs": [
    {
     "name": "stderr",
     "output_type": "stream",
     "text": [
      "/Users/hapticslab/Programming/humusic/.venv/lib/python3.9/site-packages/tqdm/auto.py:21: TqdmWarning: IProgress not found. Please update jupyter and ipywidgets. See https://ipywidgets.readthedocs.io/en/stable/user_install.html\n",
      "  from .autonotebook import tqdm as notebook_tqdm\n"
     ]
    }
   ],
   "source": [
    "from miditok import REMI, TokenizerConfig\n",
    "from miditok.pytorch_data import DatasetMIDI, DataCollator\n",
    "from miditok.utils import split_files_for_training\n",
    "from torch.utils.data import DataLoader\n",
    "from pathlib import Path\n",
    "\n",
    "from tqdm import tqdm\n",
    "import torch\n",
    "import torch.nn.functional as F\n",
    "from torch.nn.utils.rnn import pad_sequence\n",
    "import time\n",
    "import icecream as ic\n",
    "import os\n",
    "from symusic import Score\n",
    "import datetime\n",
    "\n",
    "import json\n",
    "import platform"
   ]
  },
  {
   "cell_type": "code",
   "execution_count": 2,
   "metadata": {},
   "outputs": [],
   "source": [
    "torch.cuda.empty_cache()"
   ]
  },
  {
   "cell_type": "markdown",
   "metadata": {},
   "source": [
    "### deviceの設定"
   ]
  },
  {
   "cell_type": "code",
   "execution_count": 13,
   "metadata": {},
   "outputs": [
    {
     "data": {
      "text/plain": [
       "False"
      ]
     },
     "execution_count": 13,
     "metadata": {},
     "output_type": "execute_result"
    }
   ],
   "source": [
    "#device setting\n",
    "\n",
    "device = torch.device(\"cuda\" if torch.cuda.is_available() else \"cpu\")\n",
    "#device = torch.device(\"cpu\")\n",
    "torch.cuda.is_available()"
   ]
  },
  {
   "cell_type": "markdown",
   "metadata": {},
   "source": [
    "## データセットとトークナイザーの設定"
   ]
  },
  {
   "cell_type": "markdown",
   "metadata": {},
   "source": [
    "## 共通環境"
   ]
  },
  {
   "cell_type": "code",
   "execution_count": 4,
   "metadata": {},
   "outputs": [
    {
     "name": "stdout",
     "output_type": "stream",
     "text": [
      "Darwin piano1_only\n"
     ]
    }
   ],
   "source": [
    "platform_name = platform.system()\n",
    "dataset_name = \"piano1_only\"\n",
    "print(platform_name, dataset_name)"
   ]
  },
  {
   "cell_type": "markdown",
   "metadata": {},
   "source": [
    "### tokenizrの設定"
   ]
  },
  {
   "cell_type": "code",
   "execution_count": 5,
   "metadata": {},
   "outputs": [
    {
     "name": "stderr",
     "output_type": "stream",
     "text": [
      "/Users/hapticslab/Programming/humusic/.venv/lib/python3.9/site-packages/miditok/tokenizations/remi.py:77: UserWarning: Attribute controls are not compatible with 'config.one_token_stream_for_programs' and multi-vocabulary tokenizers. Disabling them from the config.\n",
      "  super().__init__(tokenizer_config, params)\n"
     ]
    }
   ],
   "source": [
    "# Creating a multitrack tokenizer, read the doc to explore all the parameters\n",
    "config = TokenizerConfig(num_velocities=16, use_chords=True, use_programs=True)\n",
    "tokenizer = REMI(config)"
   ]
  },
  {
   "cell_type": "code",
   "execution_count": 6,
   "metadata": {},
   "outputs": [
    {
     "name": "stdout",
     "output_type": "stream",
     "text": [
      "/Users/hapticslab/Programming/humusic/datasets/piano1_only \n",
      " /Users/hapticslab/Programming/humusic/midi_generator/tokens/piano1_token/tokenizer.json \n",
      " /Users/hapticslab/Programming/humusic/midi_generator/midi_chunk/piano1_only\n"
     ]
    }
   ],
   "source": [
    "# JSONファイルを読み込む\n",
    "with open(\"datasets_path.json\", \"r\", encoding=\"utf-8\") as json_file:\n",
    "    loaded_paths = json.load(json_file)[platform_name][dataset_name]\n",
    "\n",
    "\n",
    "# パスを取得\n",
    "dataset_dir = Path(loaded_paths[\"dataset_dir\"])\n",
    "files_paths = list(dataset_dir.glob(\"**/*.mid\"))\n",
    "tokenizer_path = Path(loaded_paths[\"tokenizer_path\"])\n",
    "chunks_dir = Path(loaded_paths[\"chunks_dir\"])\n",
    "#directory_path = Path(loaded_paths[\"directory_path\"])\n",
    "\n",
    "print(dataset_dir, \"\\n\", tokenizer_path, \"\\n\", chunks_dir)\n",
    "#print(f\"Directory path: {directory_path}\")"
   ]
  },
  {
   "cell_type": "markdown",
   "metadata": {},
   "source": [
    "### Tokenizerの作成とデータセットの分割（新規データのみ）"
   ]
  },
  {
   "cell_type": "code",
   "execution_count": 7,
   "metadata": {},
   "outputs": [
    {
     "name": "stdout",
     "output_type": "stream",
     "text": [
      "\n",
      "\n",
      "\n"
     ]
    },
    {
     "name": "stderr",
     "output_type": "stream",
     "text": [
      "huggingface/tokenizers: The current process just got forked, after parallelism has already been used. Disabling parallelism to avoid deadlocks...\n",
      "To disable this warning, you can either:\n",
      "\t- Avoid using `tokenizers` before the fork if possible\n",
      "\t- Explicitly set the environment variable TOKENIZERS_PARALLELISM=(true | false)\n",
      "Splitting music files (/Users/hapticslab/Programming/humusic/midi_generator/midi_chunk/piano1_only): 100%|██████████| 280/280 [00:00<00:00, 1456.85it/s]\n"
     ]
    },
    {
     "data": {
      "text/plain": [
       "[PosixPath('/Users/hapticslab/Programming/humusic/midi_generator/midi_chunk/piano1_only/piano1_only_muss_2_0.mid'),\n",
       " PosixPath('/Users/hapticslab/Programming/humusic/midi_generator/midi_chunk/piano1_only/piano1_only_grieg_butterfly_0.mid'),\n",
       " PosixPath('/Users/hapticslab/Programming/humusic/midi_generator/midi_chunk/piano1_only/piano1_only_burg_erwachen_0.mid'),\n",
       " PosixPath('/Users/hapticslab/Programming/humusic/midi_generator/midi_chunk/piano1_only/piano1_only_alb_se8_0.mid'),\n",
       " PosixPath('/Users/hapticslab/Programming/humusic/midi_generator/midi_chunk/piano1_only/piano1_only_alb_se8_1.mid'),\n",
       " PosixPath('/Users/hapticslab/Programming/humusic/midi_generator/midi_chunk/piano1_only/piano1_only_mendel_op62_3_0.mid'),\n",
       " PosixPath('/Users/hapticslab/Programming/humusic/midi_generator/midi_chunk/piano1_only/piano1_only_haydn_35_3_0.mid'),\n",
       " PosixPath('/Users/hapticslab/Programming/humusic/midi_generator/midi_chunk/piano1_only/piano1_only_haydn_35_2_0.mid'),\n",
       " PosixPath('/Users/hapticslab/Programming/humusic/midi_generator/midi_chunk/piano1_only/piano1_only_grieg_spring_0.mid'),\n",
       " PosixPath('/Users/hapticslab/Programming/humusic/midi_generator/midi_chunk/piano1_only/piano1_only_liz_rhap02_0.mid'),\n",
       " PosixPath('/Users/hapticslab/Programming/humusic/midi_generator/midi_chunk/piano1_only/piano1_only_liz_rhap02_1.mid'),\n",
       " PosixPath('/Users/hapticslab/Programming/humusic/midi_generator/midi_chunk/piano1_only/piano1_only_liz_rhap02_2.mid'),\n",
       " PosixPath('/Users/hapticslab/Programming/humusic/midi_generator/midi_chunk/piano1_only/piano1_only_liz_rhap02_3.mid'),\n",
       " PosixPath('/Users/hapticslab/Programming/humusic/midi_generator/midi_chunk/piano1_only/piano1_only_muss_3_0.mid'),\n",
       " PosixPath('/Users/hapticslab/Programming/humusic/midi_generator/midi_chunk/piano1_only/piano1_only_muss_1_0.mid'),\n",
       " PosixPath('/Users/hapticslab/Programming/humusic/midi_generator/midi_chunk/piano1_only/piano1_only_haydn_35_1_0.mid'),\n",
       " PosixPath('/Users/hapticslab/Programming/humusic/midi_generator/midi_chunk/piano1_only/piano1_only_haydn_35_1_1.mid'),\n",
       " PosixPath('/Users/hapticslab/Programming/humusic/midi_generator/midi_chunk/piano1_only/piano1_only_scn16_8_0.mid'),\n",
       " PosixPath('/Users/hapticslab/Programming/humusic/midi_generator/midi_chunk/piano1_only/piano1_only_scn16_8_1.mid'),\n",
       " PosixPath('/Users/hapticslab/Programming/humusic/midi_generator/midi_chunk/piano1_only/piano1_only_schub_d760_4_0.mid'),\n",
       " PosixPath('/Users/hapticslab/Programming/humusic/midi_generator/midi_chunk/piano1_only/piano1_only_schub_d760_4_1.mid'),\n",
       " PosixPath('/Users/hapticslab/Programming/humusic/midi_generator/midi_chunk/piano1_only/piano1_only_chpn-p8_0.mid'),\n",
       " PosixPath('/Users/hapticslab/Programming/humusic/midi_generator/midi_chunk/piano1_only/piano1_only_liz_rhap15_0.mid'),\n",
       " PosixPath('/Users/hapticslab/Programming/humusic/midi_generator/midi_chunk/piano1_only/piano1_only_liz_rhap15_1.mid'),\n",
       " PosixPath('/Users/hapticslab/Programming/humusic/midi_generator/midi_chunk/piano1_only/piano1_only_liz_rhap15_2.mid'),\n",
       " PosixPath('/Users/hapticslab/Programming/humusic/midi_generator/midi_chunk/piano1_only/piano1_only_liz_rhap15_3.mid'),\n",
       " PosixPath('/Users/hapticslab/Programming/humusic/midi_generator/midi_chunk/piano1_only/piano1_only_grieg_wanderer_0.mid'),\n",
       " PosixPath('/Users/hapticslab/Programming/humusic/midi_generator/midi_chunk/piano1_only/piano1_only_mz_545_2_0.mid'),\n",
       " PosixPath('/Users/hapticslab/Programming/humusic/midi_generator/midi_chunk/piano1_only/piano1_only_muss_4_0.mid'),\n",
       " PosixPath('/Users/hapticslab/Programming/humusic/midi_generator/midi_chunk/piano1_only/piano1_only_haydn_33_3_0.mid'),\n",
       " PosixPath('/Users/hapticslab/Programming/humusic/midi_generator/midi_chunk/piano1_only/piano1_only_haydn_33_3_1.mid'),\n",
       " PosixPath('/Users/hapticslab/Programming/humusic/midi_generator/midi_chunk/piano1_only/piano1_only_mz_330_2_0.mid'),\n",
       " PosixPath('/Users/hapticslab/Programming/humusic/midi_generator/midi_chunk/piano1_only/piano1_only_appass_1_0.mid'),\n",
       " PosixPath('/Users/hapticslab/Programming/humusic/midi_generator/midi_chunk/piano1_only/piano1_only_appass_1_1.mid'),\n",
       " PosixPath('/Users/hapticslab/Programming/humusic/midi_generator/midi_chunk/piano1_only/piano1_only_appass_1_2.mid'),\n",
       " PosixPath('/Users/hapticslab/Programming/humusic/midi_generator/midi_chunk/piano1_only/piano1_only_appass_1_3.mid'),\n",
       " PosixPath('/Users/hapticslab/Programming/humusic/midi_generator/midi_chunk/piano1_only/piano1_only_mendel_op62_5_0.mid'),\n",
       " PosixPath('/Users/hapticslab/Programming/humusic/midi_generator/midi_chunk/piano1_only/piano1_only_ty_september_0.mid'),\n",
       " PosixPath('/Users/hapticslab/Programming/humusic/midi_generator/midi_chunk/piano1_only/piano1_only_ty_september_1.mid'),\n",
       " PosixPath('/Users/hapticslab/Programming/humusic/midi_generator/midi_chunk/piano1_only/piano1_only_mendel_op62_4_0.mid'),\n",
       " PosixPath('/Users/hapticslab/Programming/humusic/midi_generator/midi_chunk/piano1_only/piano1_only_chpn_op27_2_0.mid'),\n",
       " PosixPath('/Users/hapticslab/Programming/humusic/midi_generator/midi_chunk/piano1_only/piano1_only_schub_d760_1_0.mid'),\n",
       " PosixPath('/Users/hapticslab/Programming/humusic/midi_generator/midi_chunk/piano1_only/piano1_only_schub_d760_1_1.mid'),\n",
       " PosixPath('/Users/hapticslab/Programming/humusic/midi_generator/midi_chunk/piano1_only/piano1_only_schub_d760_1_2.mid'),\n",
       " PosixPath('/Users/hapticslab/Programming/humusic/midi_generator/midi_chunk/piano1_only/piano1_only_islamei_0.mid'),\n",
       " PosixPath('/Users/hapticslab/Programming/humusic/midi_generator/midi_chunk/piano1_only/piano1_only_islamei_1.mid'),\n",
       " PosixPath('/Users/hapticslab/Programming/humusic/midi_generator/midi_chunk/piano1_only/piano1_only_islamei_2.mid'),\n",
       " PosixPath('/Users/hapticslab/Programming/humusic/midi_generator/midi_chunk/piano1_only/piano1_only_islamei_3.mid'),\n",
       " PosixPath('/Users/hapticslab/Programming/humusic/midi_generator/midi_chunk/piano1_only/piano1_only_islamei_4.mid'),\n",
       " PosixPath('/Users/hapticslab/Programming/humusic/midi_generator/midi_chunk/piano1_only/piano1_only_brahms_opus117_1_0.mid'),\n",
       " PosixPath('/Users/hapticslab/Programming/humusic/midi_generator/midi_chunk/piano1_only/piano1_only_mz_330_3_0.mid'),\n",
       " PosixPath('/Users/hapticslab/Programming/humusic/midi_generator/midi_chunk/piano1_only/piano1_only_mz_330_3_1.mid'),\n",
       " PosixPath('/Users/hapticslab/Programming/humusic/midi_generator/midi_chunk/piano1_only/piano1_only_mz_330_3_2.mid'),\n",
       " PosixPath('/Users/hapticslab/Programming/humusic/midi_generator/midi_chunk/piano1_only/piano1_only_liz_rhap10_0.mid'),\n",
       " PosixPath('/Users/hapticslab/Programming/humusic/midi_generator/midi_chunk/piano1_only/piano1_only_liz_rhap10_1.mid'),\n",
       " PosixPath('/Users/hapticslab/Programming/humusic/midi_generator/midi_chunk/piano1_only/piano1_only_liz_rhap10_2.mid'),\n",
       " PosixPath('/Users/hapticslab/Programming/humusic/midi_generator/midi_chunk/piano1_only/piano1_only_schu_143_1_0.mid'),\n",
       " PosixPath('/Users/hapticslab/Programming/humusic/midi_generator/midi_chunk/piano1_only/piano1_only_schu_143_1_1.mid'),\n",
       " PosixPath('/Users/hapticslab/Programming/humusic/midi_generator/midi_chunk/piano1_only/piano1_only_schu_143_1_2.mid'),\n",
       " PosixPath('/Users/hapticslab/Programming/humusic/midi_generator/midi_chunk/piano1_only/piano1_only_mz_332_1_0.mid'),\n",
       " PosixPath('/Users/hapticslab/Programming/humusic/midi_generator/midi_chunk/piano1_only/piano1_only_mz_332_1_1.mid'),\n",
       " PosixPath('/Users/hapticslab/Programming/humusic/midi_generator/midi_chunk/piano1_only/piano1_only_mz_332_1_2.mid'),\n",
       " PosixPath('/Users/hapticslab/Programming/humusic/midi_generator/midi_chunk/piano1_only/piano1_only_ty_oktober_0.mid'),\n",
       " PosixPath('/Users/hapticslab/Programming/humusic/midi_generator/midi_chunk/piano1_only/piano1_only_haydn_33_2_0.mid'),\n",
       " PosixPath('/Users/hapticslab/Programming/humusic/midi_generator/midi_chunk/piano1_only/piano1_only_muss_5_0.mid'),\n",
       " PosixPath('/Users/hapticslab/Programming/humusic/midi_generator/midi_chunk/piano1_only/piano1_only_grieg_waechter_0.mid'),\n",
       " PosixPath('/Users/hapticslab/Programming/humusic/midi_generator/midi_chunk/piano1_only/piano1_only_mz_545_3_0.mid'),\n",
       " PosixPath('/Users/hapticslab/Programming/humusic/midi_generator/midi_chunk/piano1_only/piano1_only_mz_545_1_0.mid'),\n",
       " PosixPath('/Users/hapticslab/Programming/humusic/midi_generator/midi_chunk/piano1_only/piano1_only_mz_545_1_1.mid'),\n",
       " PosixPath('/Users/hapticslab/Programming/humusic/midi_generator/midi_chunk/piano1_only/piano1_only_muss_7_0.mid'),\n",
       " PosixPath('/Users/hapticslab/Programming/humusic/midi_generator/midi_chunk/piano1_only/piano1_only_muss_7_1.mid'),\n",
       " PosixPath('/Users/hapticslab/Programming/humusic/midi_generator/midi_chunk/piano1_only/piano1_only_muss_7_2.mid'),\n",
       " PosixPath('/Users/hapticslab/Programming/humusic/midi_generator/midi_chunk/piano1_only/piano1_only_mz_332_3_0.mid'),\n",
       " PosixPath('/Users/hapticslab/Programming/humusic/midi_generator/midi_chunk/piano1_only/piano1_only_mz_332_3_1.mid'),\n",
       " PosixPath('/Users/hapticslab/Programming/humusic/midi_generator/midi_chunk/piano1_only/piano1_only_mz_332_3_2.mid'),\n",
       " PosixPath('/Users/hapticslab/Programming/humusic/midi_generator/midi_chunk/piano1_only/piano1_only_mz_332_3_3.mid'),\n",
       " PosixPath('/Users/hapticslab/Programming/humusic/midi_generator/midi_chunk/piano1_only/piano1_only_schu_143_3_0.mid'),\n",
       " PosixPath('/Users/hapticslab/Programming/humusic/midi_generator/midi_chunk/piano1_only/piano1_only_schu_143_3_1.mid'),\n",
       " PosixPath('/Users/hapticslab/Programming/humusic/midi_generator/midi_chunk/piano1_only/piano1_only_liz_rhap12_0.mid'),\n",
       " PosixPath('/Users/hapticslab/Programming/humusic/midi_generator/midi_chunk/piano1_only/piano1_only_liz_rhap12_1.mid'),\n",
       " PosixPath('/Users/hapticslab/Programming/humusic/midi_generator/midi_chunk/piano1_only/piano1_only_liz_rhap12_2.mid'),\n",
       " PosixPath('/Users/hapticslab/Programming/humusic/midi_generator/midi_chunk/piano1_only/piano1_only_liz_rhap12_3.mid'),\n",
       " PosixPath('/Users/hapticslab/Programming/humusic/midi_generator/midi_chunk/piano1_only/piano1_only_liz_rhap12_4.mid'),\n",
       " PosixPath('/Users/hapticslab/Programming/humusic/midi_generator/midi_chunk/piano1_only/piano1_only_mz_330_1_0.mid'),\n",
       " PosixPath('/Users/hapticslab/Programming/humusic/midi_generator/midi_chunk/piano1_only/piano1_only_mz_330_1_1.mid'),\n",
       " PosixPath('/Users/hapticslab/Programming/humusic/midi_generator/midi_chunk/piano1_only/piano1_only_mz_330_1_2.mid'),\n",
       " PosixPath('/Users/hapticslab/Programming/humusic/midi_generator/midi_chunk/piano1_only/piano1_only_appass_2_0.mid'),\n",
       " PosixPath('/Users/hapticslab/Programming/humusic/midi_generator/midi_chunk/piano1_only/piano1_only_schub_d760_3_0.mid'),\n",
       " PosixPath('/Users/hapticslab/Programming/humusic/midi_generator/midi_chunk/piano1_only/piano1_only_schub_d760_3_1.mid'),\n",
       " PosixPath('/Users/hapticslab/Programming/humusic/midi_generator/midi_chunk/piano1_only/piano1_only_schub_d760_3_2.mid'),\n",
       " PosixPath('/Users/hapticslab/Programming/humusic/midi_generator/midi_chunk/piano1_only/piano1_only_grieg_zwerge_0.mid'),\n",
       " PosixPath('/Users/hapticslab/Programming/humusic/midi_generator/midi_chunk/piano1_only/piano1_only_grieg_zwerge_1.mid'),\n",
       " PosixPath('/Users/hapticslab/Programming/humusic/midi_generator/midi_chunk/piano1_only/piano1_only_schub_d760_2_0.mid'),\n",
       " PosixPath('/Users/hapticslab/Programming/humusic/midi_generator/midi_chunk/piano1_only/piano1_only_schub_d760_2_1.mid'),\n",
       " PosixPath('/Users/hapticslab/Programming/humusic/midi_generator/midi_chunk/piano1_only/piano1_only_chpn_op27_1_0.mid'),\n",
       " PosixPath('/Users/hapticslab/Programming/humusic/midi_generator/midi_chunk/piano1_only/piano1_only_brahms_opus117_2_0.mid'),\n",
       " PosixPath('/Users/hapticslab/Programming/humusic/midi_generator/midi_chunk/piano1_only/piano1_only_appass_3_0.mid'),\n",
       " PosixPath('/Users/hapticslab/Programming/humusic/midi_generator/midi_chunk/piano1_only/piano1_only_appass_3_1.mid'),\n",
       " PosixPath('/Users/hapticslab/Programming/humusic/midi_generator/midi_chunk/piano1_only/piano1_only_appass_3_2.mid'),\n",
       " PosixPath('/Users/hapticslab/Programming/humusic/midi_generator/midi_chunk/piano1_only/piano1_only_appass_3_3.mid'),\n",
       " PosixPath('/Users/hapticslab/Programming/humusic/midi_generator/midi_chunk/piano1_only/piano1_only_mz_332_2_0.mid'),\n",
       " PosixPath('/Users/hapticslab/Programming/humusic/midi_generator/midi_chunk/piano1_only/piano1_only_schu_143_2_0.mid'),\n",
       " PosixPath('/Users/hapticslab/Programming/humusic/midi_generator/midi_chunk/piano1_only/piano1_only_haydn_33_1_0.mid'),\n",
       " PosixPath('/Users/hapticslab/Programming/humusic/midi_generator/midi_chunk/piano1_only/piano1_only_haydn_33_1_1.mid'),\n",
       " PosixPath('/Users/hapticslab/Programming/humusic/midi_generator/midi_chunk/piano1_only/piano1_only_muss_6_0.mid'),\n",
       " PosixPath('/Users/hapticslab/Programming/humusic/midi_generator/midi_chunk/piano1_only/piano1_only_chpn-p15_0.mid'),\n",
       " PosixPath('/Users/hapticslab/Programming/humusic/midi_generator/midi_chunk/piano1_only/piano1_only_beethoven_les_adieux_3_0.mid'),\n",
       " PosixPath('/Users/hapticslab/Programming/humusic/midi_generator/midi_chunk/piano1_only/piano1_only_beethoven_les_adieux_3_1.mid'),\n",
       " PosixPath('/Users/hapticslab/Programming/humusic/midi_generator/midi_chunk/piano1_only/piano1_only_beethoven_les_adieux_3_2.mid'),\n",
       " PosixPath('/Users/hapticslab/Programming/humusic/midi_generator/midi_chunk/piano1_only/piano1_only_mz_311_2_0.mid'),\n",
       " PosixPath('/Users/hapticslab/Programming/humusic/midi_generator/midi_chunk/piano1_only/piano1_only_mendel_op19_2_0.mid'),\n",
       " PosixPath('/Users/hapticslab/Programming/humusic/midi_generator/midi_chunk/piano1_only/piano1_only_ty_januar_0.mid'),\n",
       " PosixPath('/Users/hapticslab/Programming/humusic/midi_generator/midi_chunk/piano1_only/piano1_only_beethoven_opus22_1_0.mid'),\n",
       " PosixPath('/Users/hapticslab/Programming/humusic/midi_generator/midi_chunk/piano1_only/piano1_only_beethoven_opus22_1_1.mid'),\n",
       " PosixPath('/Users/hapticslab/Programming/humusic/midi_generator/midi_chunk/piano1_only/piano1_only_beethoven_opus22_1_2.mid'),\n",
       " PosixPath('/Users/hapticslab/Programming/humusic/midi_generator/midi_chunk/piano1_only/piano1_only_alb_esp6_0.mid'),\n",
       " PosixPath('/Users/hapticslab/Programming/humusic/midi_generator/midi_chunk/piano1_only/piano1_only_mendel_op19_3_0.mid'),\n",
       " PosixPath('/Users/hapticslab/Programming/humusic/midi_generator/midi_chunk/piano1_only/piano1_only_elise_0.mid'),\n",
       " PosixPath('/Users/hapticslab/Programming/humusic/midi_generator/midi_chunk/piano1_only/piano1_only_grieg_album_0.mid'),\n",
       " PosixPath('/Users/hapticslab/Programming/humusic/midi_generator/midi_chunk/piano1_only/piano1_only_haydn_7_1_0.mid'),\n",
       " PosixPath('/Users/hapticslab/Programming/humusic/midi_generator/midi_chunk/piano1_only/piano1_only_mz_311_3_0.mid'),\n",
       " PosixPath('/Users/hapticslab/Programming/humusic/midi_generator/midi_chunk/piano1_only/piano1_only_mz_311_3_1.mid'),\n",
       " PosixPath('/Users/hapticslab/Programming/humusic/midi_generator/midi_chunk/piano1_only/piano1_only_debussy_cc_6_0.mid'),\n",
       " PosixPath('/Users/hapticslab/Programming/humusic/midi_generator/midi_chunk/piano1_only/piano1_only_beethoven_les_adieux_2_0.mid'),\n",
       " PosixPath('/Users/hapticslab/Programming/humusic/midi_generator/midi_chunk/piano1_only/piano1_only_chpn-p16_0.mid'),\n",
       " PosixPath('/Users/hapticslab/Programming/humusic/midi_generator/midi_chunk/piano1_only/piano1_only_debussy_cc_4_0.mid'),\n",
       " PosixPath('/Users/hapticslab/Programming/humusic/midi_generator/midi_chunk/piano1_only/piano1_only_haydn_7_3_0.mid'),\n",
       " PosixPath('/Users/hapticslab/Programming/humusic/midi_generator/midi_chunk/piano1_only/piano1_only_mz_311_1_0.mid'),\n",
       " PosixPath('/Users/hapticslab/Programming/humusic/midi_generator/midi_chunk/piano1_only/piano1_only_mz_311_1_1.mid'),\n",
       " PosixPath('/Users/hapticslab/Programming/humusic/midi_generator/midi_chunk/piano1_only/piano1_only_scn15_8_0.mid'),\n",
       " PosixPath('/Users/hapticslab/Programming/humusic/midi_generator/midi_chunk/piano1_only/piano1_only_mendel_op19_1_0.mid'),\n",
       " PosixPath('/Users/hapticslab/Programming/humusic/midi_generator/midi_chunk/piano1_only/piano1_only_beethoven_opus22_2_0.mid'),\n",
       " PosixPath('/Users/hapticslab/Programming/humusic/midi_generator/midi_chunk/piano1_only/piano1_only_alb_esp5_0.mid'),\n",
       " PosixPath('/Users/hapticslab/Programming/humusic/midi_generator/midi_chunk/piano1_only/piano1_only_alb_esp4_0.mid'),\n",
       " PosixPath('/Users/hapticslab/Programming/humusic/midi_generator/midi_chunk/piano1_only/piano1_only_beethoven_opus22_3_0.mid'),\n",
       " PosixPath('/Users/hapticslab/Programming/humusic/midi_generator/midi_chunk/piano1_only/piano1_only_scn15_9_0.mid'),\n",
       " PosixPath('/Users/hapticslab/Programming/humusic/midi_generator/midi_chunk/piano1_only/piano1_only_haydn_7_2_0.mid'),\n",
       " PosixPath('/Users/hapticslab/Programming/humusic/midi_generator/midi_chunk/piano1_only/piano1_only_beethoven_les_adieux_1_0.mid'),\n",
       " PosixPath('/Users/hapticslab/Programming/humusic/midi_generator/midi_chunk/piano1_only/piano1_only_beethoven_les_adieux_1_1.mid'),\n",
       " PosixPath('/Users/hapticslab/Programming/humusic/midi_generator/midi_chunk/piano1_only/piano1_only_chpn-p17_0.mid'),\n",
       " PosixPath('/Users/hapticslab/Programming/humusic/midi_generator/midi_chunk/piano1_only/piano1_only_grieg_halling_0.mid'),\n",
       " PosixPath('/Users/hapticslab/Programming/humusic/midi_generator/midi_chunk/piano1_only/piano1_only_ty_juni_0.mid'),\n",
       " PosixPath('/Users/hapticslab/Programming/humusic/midi_generator/midi_chunk/piano1_only/piano1_only_chpn-p13_0.mid'),\n",
       " PosixPath('/Users/hapticslab/Programming/humusic/midi_generator/midi_chunk/piano1_only/piano1_only_debussy_cc_1_0.mid'),\n",
       " PosixPath('/Users/hapticslab/Programming/humusic/midi_generator/midi_chunk/piano1_only/piano1_only_liz_et_trans8_0.mid'),\n",
       " PosixPath('/Users/hapticslab/Programming/humusic/midi_generator/midi_chunk/piano1_only/piano1_only_liz_et_trans8_1.mid'),\n",
       " PosixPath('/Users/hapticslab/Programming/humusic/midi_generator/midi_chunk/piano1_only/piano1_only_liz_et_trans8_2.mid'),\n",
       " PosixPath('/Users/hapticslab/Programming/humusic/midi_generator/midi_chunk/piano1_only/piano1_only_liz_et_trans8_3.mid'),\n",
       " PosixPath('/Users/hapticslab/Programming/humusic/midi_generator/midi_chunk/piano1_only/piano1_only_mendel_op19_4_0.mid'),\n",
       " PosixPath('/Users/hapticslab/Programming/humusic/midi_generator/midi_chunk/piano1_only/piano1_only_mz_331_1_0.mid'),\n",
       " PosixPath('/Users/hapticslab/Programming/humusic/midi_generator/midi_chunk/piano1_only/piano1_only_mz_331_1_1.mid'),\n",
       " PosixPath('/Users/hapticslab/Programming/humusic/midi_generator/midi_chunk/piano1_only/piano1_only_mz_331_1_2.mid'),\n",
       " PosixPath('/Users/hapticslab/Programming/humusic/midi_generator/midi_chunk/piano1_only/piano1_only_mz_331_1_3.mid'),\n",
       " PosixPath('/Users/hapticslab/Programming/humusic/midi_generator/midi_chunk/piano1_only/piano1_only_mz_333_3_0.mid'),\n",
       " PosixPath('/Users/hapticslab/Programming/humusic/midi_generator/midi_chunk/piano1_only/piano1_only_mz_333_3_1.mid'),\n",
       " PosixPath('/Users/hapticslab/Programming/humusic/midi_generator/midi_chunk/piano1_only/piano1_only_mz_333_2_0.mid'),\n",
       " PosixPath('/Users/hapticslab/Programming/humusic/midi_generator/midi_chunk/piano1_only/piano1_only_mz_333_2_1.mid'),\n",
       " PosixPath('/Users/hapticslab/Programming/humusic/midi_generator/midi_chunk/piano1_only/piano1_only_alb_esp1_0.mid'),\n",
       " PosixPath('/Users/hapticslab/Programming/humusic/midi_generator/midi_chunk/piano1_only/piano1_only_mendel_op19_5_0.mid'),\n",
       " PosixPath('/Users/hapticslab/Programming/humusic/midi_generator/midi_chunk/piano1_only/piano1_only_mendel_op19_5_1.mid'),\n",
       " PosixPath('/Users/hapticslab/Programming/humusic/midi_generator/midi_chunk/piano1_only/piano1_only_burg_spinnerlied_0.mid'),\n",
       " PosixPath('/Users/hapticslab/Programming/humusic/midi_generator/midi_chunk/piano1_only/piano1_only_chpn-p12_0.mid'),\n",
       " PosixPath('/Users/hapticslab/Programming/humusic/midi_generator/midi_chunk/piano1_only/piano1_only_deb_menu_0.mid'),\n",
       " PosixPath('/Users/hapticslab/Programming/humusic/midi_generator/midi_chunk/piano1_only/piano1_only_deb_menu_1.mid'),\n",
       " PosixPath('/Users/hapticslab/Programming/humusic/midi_generator/midi_chunk/piano1_only/piano1_only_burg_geschwindigkeit_0.mid'),\n",
       " PosixPath('/Users/hapticslab/Programming/humusic/midi_generator/midi_chunk/piano1_only/piano1_only_debussy_cc_2_0.mid'),\n",
       " PosixPath('/Users/hapticslab/Programming/humusic/midi_generator/midi_chunk/piano1_only/piano1_only_mz_331_2_0.mid'),\n",
       " PosixPath('/Users/hapticslab/Programming/humusic/midi_generator/midi_chunk/piano1_only/piano1_only_mz_331_2_1.mid'),\n",
       " PosixPath('/Users/hapticslab/Programming/humusic/midi_generator/midi_chunk/piano1_only/piano1_only_alb_esp3_0.mid'),\n",
       " PosixPath('/Users/hapticslab/Programming/humusic/midi_generator/midi_chunk/piano1_only/piano1_only_beethoven_opus22_4_0.mid'),\n",
       " PosixPath('/Users/hapticslab/Programming/humusic/midi_generator/midi_chunk/piano1_only/piano1_only_beethoven_opus22_4_1.mid'),\n",
       " PosixPath('/Users/hapticslab/Programming/humusic/midi_generator/midi_chunk/piano1_only/piano1_only_mz_333_1_0.mid'),\n",
       " PosixPath('/Users/hapticslab/Programming/humusic/midi_generator/midi_chunk/piano1_only/piano1_only_mz_333_1_1.mid'),\n",
       " PosixPath('/Users/hapticslab/Programming/humusic/midi_generator/midi_chunk/piano1_only/piano1_only_mz_333_1_2.mid'),\n",
       " PosixPath('/Users/hapticslab/Programming/humusic/midi_generator/midi_chunk/piano1_only/piano1_only_mz_333_1_3.mid'),\n",
       " PosixPath('/Users/hapticslab/Programming/humusic/midi_generator/midi_chunk/piano1_only/piano1_only_alb_esp2_0.mid'),\n",
       " PosixPath('/Users/hapticslab/Programming/humusic/midi_generator/midi_chunk/piano1_only/piano1_only_mendel_op19_6_0.mid'),\n",
       " PosixPath('/Users/hapticslab/Programming/humusic/midi_generator/midi_chunk/piano1_only/piano1_only_mz_331_3_0.mid'),\n",
       " PosixPath('/Users/hapticslab/Programming/humusic/midi_generator/midi_chunk/piano1_only/piano1_only_mz_331_3_1.mid'),\n",
       " PosixPath('/Users/hapticslab/Programming/humusic/midi_generator/midi_chunk/piano1_only/piano1_only_grieg_once_upon_a_time_0.mid'),\n",
       " PosixPath('/Users/hapticslab/Programming/humusic/midi_generator/midi_chunk/piano1_only/piano1_only_debussy_cc_3_0.mid'),\n",
       " PosixPath('/Users/hapticslab/Programming/humusic/midi_generator/midi_chunk/piano1_only/piano1_only_grieg_march_0.mid'),\n",
       " PosixPath('/Users/hapticslab/Programming/humusic/midi_generator/midi_chunk/piano1_only/piano1_only_scn15_2_0.mid'),\n",
       " PosixPath('/Users/hapticslab/Programming/humusic/midi_generator/midi_chunk/piano1_only/piano1_only_bach_850_0.mid'),\n",
       " PosixPath('/Users/hapticslab/Programming/humusic/midi_generator/midi_chunk/piano1_only/piano1_only_schumm-4_0.mid'),\n",
       " PosixPath('/Users/hapticslab/Programming/humusic/midi_generator/midi_chunk/piano1_only/piano1_only_schumm-4_1.mid'),\n",
       " PosixPath('/Users/hapticslab/Programming/humusic/midi_generator/midi_chunk/piano1_only/piano1_only_beethoven_hammerklavier_3_0.mid'),\n",
       " PosixPath('/Users/hapticslab/Programming/humusic/midi_generator/midi_chunk/piano1_only/piano1_only_beethoven_hammerklavier_3_1.mid'),\n",
       " PosixPath('/Users/hapticslab/Programming/humusic/midi_generator/midi_chunk/piano1_only/piano1_only_beethoven_hammerklavier_3_2.mid'),\n",
       " PosixPath('/Users/hapticslab/Programming/humusic/midi_generator/midi_chunk/piano1_only/piano1_only_beethoven_hammerklavier_2_0.mid'),\n",
       " PosixPath('/Users/hapticslab/Programming/humusic/midi_generator/midi_chunk/piano1_only/piano1_only_schumm-5_0.mid'),\n",
       " PosixPath('/Users/hapticslab/Programming/humusic/midi_generator/midi_chunk/piano1_only/piano1_only_schumm-5_1.mid'),\n",
       " PosixPath('/Users/hapticslab/Programming/humusic/midi_generator/midi_chunk/piano1_only/piano1_only_chpn_op33_2_0.mid'),\n",
       " PosixPath('/Users/hapticslab/Programming/humusic/midi_generator/midi_chunk/piano1_only/piano1_only_grieg_kobold_0.mid'),\n",
       " PosixPath('/Users/hapticslab/Programming/humusic/midi_generator/midi_chunk/piano1_only/piano1_only_grieg_wedding_0.mid'),\n",
       " PosixPath('/Users/hapticslab/Programming/humusic/midi_generator/midi_chunk/piano1_only/piano1_only_grieg_wedding_1.mid'),\n",
       " PosixPath('/Users/hapticslab/Programming/humusic/midi_generator/midi_chunk/piano1_only/piano1_only_grieg_wedding_2.mid'),\n",
       " PosixPath('/Users/hapticslab/Programming/humusic/midi_generator/midi_chunk/piano1_only/piano1_only_scn68_12_0.mid'),\n",
       " PosixPath('/Users/hapticslab/Programming/humusic/midi_generator/midi_chunk/piano1_only/piano1_only_beethoven_opus90_2_0.mid'),\n",
       " PosixPath('/Users/hapticslab/Programming/humusic/midi_generator/midi_chunk/piano1_only/piano1_only_beethoven_opus90_2_1.mid'),\n",
       " PosixPath('/Users/hapticslab/Programming/humusic/midi_generator/midi_chunk/piano1_only/piano1_only_chpn_op25_e11_0.mid'),\n",
       " PosixPath('/Users/hapticslab/Programming/humusic/midi_generator/midi_chunk/piano1_only/piano1_only_chpn_op25_e11_1.mid'),\n",
       " PosixPath('/Users/hapticslab/Programming/humusic/midi_generator/midi_chunk/piano1_only/piano1_only_ty_november_0.mid'),\n",
       " PosixPath('/Users/hapticslab/Programming/humusic/midi_generator/midi_chunk/piano1_only/piano1_only_chpn_op35_4_0.mid'),\n",
       " PosixPath('/Users/hapticslab/Programming/humusic/midi_generator/midi_chunk/piano1_only/piano1_only_chpn-p21_0.mid'),\n",
       " PosixPath('/Users/hapticslab/Programming/humusic/midi_generator/midi_chunk/piano1_only/piano1_only_chpn-p23_0.mid'),\n",
       " PosixPath('/Users/hapticslab/Programming/humusic/midi_generator/midi_chunk/piano1_only/piano1_only_liz_et_trans4_0.mid'),\n",
       " PosixPath('/Users/hapticslab/Programming/humusic/midi_generator/midi_chunk/piano1_only/piano1_only_liz_et_trans4_1.mid'),\n",
       " PosixPath('/Users/hapticslab/Programming/humusic/midi_generator/midi_chunk/piano1_only/piano1_only_liz_et_trans4_2.mid'),\n",
       " PosixPath('/Users/hapticslab/Programming/humusic/midi_generator/midi_chunk/piano1_only/piano1_only_liz_et_trans4_3.mid'),\n",
       " PosixPath('/Users/hapticslab/Programming/humusic/midi_generator/midi_chunk/piano1_only/piano1_only_ty_februar_0.mid'),\n",
       " PosixPath('/Users/hapticslab/Programming/humusic/midi_generator/midi_chunk/piano1_only/piano1_only_scn68_10_0.mid'),\n",
       " PosixPath('/Users/hapticslab/Programming/humusic/midi_generator/midi_chunk/piano1_only/piano1_only_burg_sylphen_0.mid'),\n",
       " PosixPath('/Users/hapticslab/Programming/humusic/midi_generator/midi_chunk/piano1_only/piano1_only_bach_847_0.mid'),\n",
       " PosixPath('/Users/hapticslab/Programming/humusic/midi_generator/midi_chunk/piano1_only/piano1_only_br_rhap_0.mid'),\n",
       " PosixPath('/Users/hapticslab/Programming/humusic/midi_generator/midi_chunk/piano1_only/piano1_only_br_rhap_1.mid'),\n",
       " PosixPath('/Users/hapticslab/Programming/humusic/midi_generator/midi_chunk/piano1_only/piano1_only_beethoven_hammerklavier_1_0.mid'),\n",
       " PosixPath('/Users/hapticslab/Programming/humusic/midi_generator/midi_chunk/piano1_only/piano1_only_beethoven_hammerklavier_1_1.mid'),\n",
       " PosixPath('/Users/hapticslab/Programming/humusic/midi_generator/midi_chunk/piano1_only/piano1_only_beethoven_hammerklavier_1_2.mid'),\n",
       " PosixPath('/Users/hapticslab/Programming/humusic/midi_generator/midi_chunk/piano1_only/piano1_only_beethoven_hammerklavier_1_3.mid'),\n",
       " PosixPath('/Users/hapticslab/Programming/humusic/midi_generator/midi_chunk/piano1_only/piano1_only_beethoven_hammerklavier_1_4.mid'),\n",
       " PosixPath('/Users/hapticslab/Programming/humusic/midi_generator/midi_chunk/piano1_only/piano1_only_schumm-6_0.mid'),\n",
       " PosixPath('/Users/hapticslab/Programming/humusic/midi_generator/midi_chunk/piano1_only/piano1_only_scn15_11_0.mid'),\n",
       " PosixPath('/Users/hapticslab/Programming/humusic/midi_generator/midi_chunk/piano1_only/piano1_only_bach_846_0.mid'),\n",
       " PosixPath('/Users/hapticslab/Programming/humusic/midi_generator/midi_chunk/piano1_only/piano1_only_beethoven_opus90_1_0.mid'),\n",
       " PosixPath('/Users/hapticslab/Programming/humusic/midi_generator/midi_chunk/piano1_only/piano1_only_beethoven_opus90_1_1.mid'),\n",
       " PosixPath('/Users/hapticslab/Programming/humusic/midi_generator/midi_chunk/piano1_only/piano1_only_liz_et_trans5_0.mid'),\n",
       " PosixPath('/Users/hapticslab/Programming/humusic/midi_generator/midi_chunk/piano1_only/piano1_only_liz_et_trans5_1.mid'),\n",
       " PosixPath('/Users/hapticslab/Programming/humusic/midi_generator/midi_chunk/piano1_only/piano1_only_liz_et_trans5_2.mid'),\n",
       " PosixPath('/Users/hapticslab/Programming/humusic/midi_generator/midi_chunk/piano1_only/piano1_only_chpn-p22_0.mid'),\n",
       " PosixPath('/Users/hapticslab/Programming/humusic/midi_generator/midi_chunk/piano1_only/piano1_only_grieg_elfentanz_0.mid'),\n",
       " PosixPath('/Users/hapticslab/Programming/humusic/midi_generator/midi_chunk/piano1_only/piano1_only_chpn_op35_3_0.mid'),\n",
       " PosixPath('/Users/hapticslab/Programming/humusic/midi_generator/midi_chunk/piano1_only/piano1_only_burg_trennung_0.mid'),\n",
       " PosixPath('/Users/hapticslab/Programming/humusic/midi_generator/midi_chunk/piano1_only/piano1_only_schumm-2_0.mid'),\n",
       " PosixPath('/Users/hapticslab/Programming/humusic/midi_generator/midi_chunk/piano1_only/piano1_only_beethoven_hammerklavier_4_0.mid'),\n",
       " PosixPath('/Users/hapticslab/Programming/humusic/midi_generator/midi_chunk/piano1_only/piano1_only_beethoven_hammerklavier_4_1.mid'),\n",
       " PosixPath('/Users/hapticslab/Programming/humusic/midi_generator/midi_chunk/piano1_only/piano1_only_beethoven_hammerklavier_4_2.mid'),\n",
       " PosixPath('/Users/hapticslab/Programming/humusic/midi_generator/midi_chunk/piano1_only/piano1_only_beethoven_hammerklavier_4_3.mid'),\n",
       " PosixPath('/Users/hapticslab/Programming/humusic/midi_generator/midi_chunk/piano1_only/piano1_only_beethoven_hammerklavier_4_4.mid'),\n",
       " PosixPath('/Users/hapticslab/Programming/humusic/midi_generator/midi_chunk/piano1_only/piano1_only_schumm-3_0.mid'),\n",
       " PosixPath('/Users/hapticslab/Programming/humusic/midi_generator/midi_chunk/piano1_only/piano1_only_chpn_op33_4_0.mid'),\n",
       " PosixPath('/Users/hapticslab/Programming/humusic/midi_generator/midi_chunk/piano1_only/piano1_only_liz_donjuan_0.mid'),\n",
       " PosixPath('/Users/hapticslab/Programming/humusic/midi_generator/midi_chunk/piano1_only/piano1_only_liz_donjuan_1.mid'),\n",
       " PosixPath('/Users/hapticslab/Programming/humusic/midi_generator/midi_chunk/piano1_only/piano1_only_liz_donjuan_2.mid'),\n",
       " PosixPath('/Users/hapticslab/Programming/humusic/midi_generator/midi_chunk/piano1_only/piano1_only_liz_donjuan_3.mid'),\n",
       " PosixPath('/Users/hapticslab/Programming/humusic/midi_generator/midi_chunk/piano1_only/piano1_only_liz_donjuan_4.mid'),\n",
       " PosixPath('/Users/hapticslab/Programming/humusic/midi_generator/midi_chunk/piano1_only/piano1_only_liz_donjuan_5.mid'),\n",
       " PosixPath('/Users/hapticslab/Programming/humusic/midi_generator/midi_chunk/piano1_only/piano1_only_liz_donjuan_6.mid'),\n",
       " PosixPath('/Users/hapticslab/Programming/humusic/midi_generator/midi_chunk/piano1_only/piano1_only_liz_donjuan_7.mid'),\n",
       " PosixPath('/Users/hapticslab/Programming/humusic/midi_generator/midi_chunk/piano1_only/piano1_only_liz_donjuan_8.mid'),\n",
       " PosixPath('/Users/hapticslab/Programming/humusic/midi_generator/midi_chunk/piano1_only/piano1_only_liz_donjuan_9.mid'),\n",
       " PosixPath('/Users/hapticslab/Programming/humusic/midi_generator/midi_chunk/piano1_only/piano1_only_scn15_5_0.mid'),\n",
       " PosixPath('/Users/hapticslab/Programming/humusic/midi_generator/midi_chunk/piano1_only/piano1_only_haydn_9_1_0.mid'),\n",
       " PosixPath('/Users/hapticslab/Programming/humusic/midi_generator/midi_chunk/piano1_only/piano1_only_ty_juli_0.mid'),\n",
       " PosixPath('/Users/hapticslab/Programming/humusic/midi_generator/midi_chunk/piano1_only/piano1_only_chpn_op35_2_0.mid'),\n",
       " PosixPath('/Users/hapticslab/Programming/humusic/midi_generator/midi_chunk/piano1_only/piano1_only_chpn_op35_2_1.mid'),\n",
       " PosixPath('/Users/hapticslab/Programming/humusic/midi_generator/midi_chunk/piano1_only/piano1_only_chpn_op35_2_2.mid'),\n",
       " PosixPath('/Users/hapticslab/Programming/humusic/midi_generator/midi_chunk/piano1_only/piano1_only_chpn-p19_0.mid'),\n",
       " PosixPath('/Users/hapticslab/Programming/humusic/midi_generator/midi_chunk/piano1_only/piano1_only_haydn_9_3_0.mid'),\n",
       " PosixPath('/Users/hapticslab/Programming/humusic/midi_generator/midi_chunk/piano1_only/piano1_only_scn15_7_0.mid'),\n",
       " PosixPath('/Users/hapticslab/Programming/humusic/midi_generator/midi_chunk/piano1_only/piano1_only_mond_3_0.mid'),\n",
       " PosixPath('/Users/hapticslab/Programming/humusic/midi_generator/midi_chunk/piano1_only/piano1_only_mond_3_1.mid'),\n",
       " PosixPath('/Users/hapticslab/Programming/humusic/midi_generator/midi_chunk/piano1_only/piano1_only_mond_3_2.mid'),\n",
       " PosixPath('/Users/hapticslab/Programming/humusic/midi_generator/midi_chunk/piano1_only/piano1_only_mond_3_3.mid'),\n",
       " PosixPath('/Users/hapticslab/Programming/humusic/midi_generator/midi_chunk/piano1_only/piano1_only_schumm-1_0.mid'),\n",
       " PosixPath('/Users/hapticslab/Programming/humusic/midi_generator/midi_chunk/piano1_only/piano1_only_schumm-1_1.mid'),\n",
       " PosixPath('/Users/hapticslab/Programming/humusic/midi_generator/midi_chunk/piano1_only/piano1_only_mond_2_0.mid'),\n",
       " PosixPath('/Users/hapticslab/Programming/humusic/midi_generator/midi_chunk/piano1_only/piano1_only_scn15_6_0.mid'),\n",
       " PosixPath('/Users/hapticslab/Programming/humusic/midi_generator/midi_chunk/piano1_only/piano1_only_chpn_op53_0.mid'),\n",
       " PosixPath('/Users/hapticslab/Programming/humusic/midi_generator/midi_chunk/piano1_only/piano1_only_chpn_op53_1.mid'),\n",
       " PosixPath('/Users/hapticslab/Programming/humusic/midi_generator/midi_chunk/piano1_only/piano1_only_chpn_op53_2.mid'),\n",
       " PosixPath('/Users/hapticslab/Programming/humusic/midi_generator/midi_chunk/piano1_only/piano1_only_chpn_op53_3.mid'),\n",
       " PosixPath('/Users/hapticslab/Programming/humusic/midi_generator/midi_chunk/piano1_only/piano1_only_haydn_9_2_0.mid'),\n",
       " PosixPath('/Users/hapticslab/Programming/humusic/midi_generator/midi_chunk/piano1_only/piano1_only_chpn-p24_0.mid'),\n",
       " PosixPath('/Users/hapticslab/Programming/humusic/midi_generator/midi_chunk/piano1_only/piano1_only_chpn_op35_1_0.mid'),\n",
       " PosixPath('/Users/hapticslab/Programming/humusic/midi_generator/midi_chunk/piano1_only/piano1_only_chpn_op35_1_1.mid'),\n",
       " PosixPath('/Users/hapticslab/Programming/humusic/midi_generator/midi_chunk/piano1_only/piano1_only_chpn_op35_1_2.mid'),\n",
       " PosixPath('/Users/hapticslab/Programming/humusic/midi_generator/midi_chunk/piano1_only/piano1_only_chpn-p18_0.mid'),\n",
       " PosixPath('/Users/hapticslab/Programming/humusic/midi_generator/midi_chunk/piano1_only/piano1_only_gra_esp_4_0.mid'),\n",
       " PosixPath('/Users/hapticslab/Programming/humusic/midi_generator/midi_chunk/piano1_only/piano1_only_gra_esp_4_1.mid'),\n",
       " PosixPath('/Users/hapticslab/Programming/humusic/midi_generator/midi_chunk/piano1_only/piano1_only_brahms_opus1_3_0.mid'),\n",
       " PosixPath('/Users/hapticslab/Programming/humusic/midi_generator/midi_chunk/piano1_only/piano1_only_brahms_opus1_3_1.mid'),\n",
       " PosixPath('/Users/hapticslab/Programming/humusic/midi_generator/midi_chunk/piano1_only/piano1_only_brahms_opus1_3_2.mid'),\n",
       " PosixPath('/Users/hapticslab/Programming/humusic/midi_generator/midi_chunk/piano1_only/piano1_only_brahms_opus1_3_3.mid'),\n",
       " PosixPath('/Users/hapticslab/Programming/humusic/midi_generator/midi_chunk/piano1_only/piano1_only_schubert_D935_1_0.mid'),\n",
       " PosixPath('/Users/hapticslab/Programming/humusic/midi_generator/midi_chunk/piano1_only/piano1_only_schubert_D935_1_1.mid'),\n",
       " PosixPath('/Users/hapticslab/Programming/humusic/midi_generator/midi_chunk/piano1_only/piano1_only_schubert_D935_1_2.mid'),\n",
       " PosixPath('/Users/hapticslab/Programming/humusic/midi_generator/midi_chunk/piano1_only/piano1_only_mendel_op30_4_0.mid'),\n",
       " PosixPath('/Users/hapticslab/Programming/humusic/midi_generator/midi_chunk/piano1_only/piano1_only_bor_ps4_0.mid'),\n",
       " PosixPath('/Users/hapticslab/Programming/humusic/midi_generator/midi_chunk/piano1_only/piano1_only_alb_se1_0.mid'),\n",
       " PosixPath('/Users/hapticslab/Programming/humusic/midi_generator/midi_chunk/piano1_only/piano1_only_alb_se1_1.mid'),\n",
       " PosixPath('/Users/hapticslab/Programming/humusic/midi_generator/midi_chunk/piano1_only/piano1_only_schuim-3_0.mid'),\n",
       " PosixPath('/Users/hapticslab/Programming/humusic/midi_generator/midi_chunk/piano1_only/piano1_only_schuim-3_1.mid'),\n",
       " PosixPath('/Users/hapticslab/Programming/humusic/midi_generator/midi_chunk/piano1_only/piano1_only_chpn_op10_e05_0.mid'),\n",
       " PosixPath('/Users/hapticslab/Programming/humusic/midi_generator/midi_chunk/piano1_only/piano1_only_schubert_D850_1_0.mid'),\n",
       " PosixPath('/Users/hapticslab/Programming/humusic/midi_generator/midi_chunk/piano1_only/piano1_only_schubert_D850_1_1.mid'),\n",
       " PosixPath('/Users/hapticslab/Programming/humusic/midi_generator/midi_chunk/piano1_only/piano1_only_schubert_D850_1_2.mid'),\n",
       " PosixPath('/Users/hapticslab/Programming/humusic/midi_generator/midi_chunk/piano1_only/piano1_only_schubert_D850_1_3.mid'),\n",
       " PosixPath('/Users/hapticslab/Programming/humusic/midi_generator/midi_chunk/piano1_only/piano1_only_schubert_D850_1_4.mid'),\n",
       " PosixPath('/Users/hapticslab/Programming/humusic/midi_generator/midi_chunk/piano1_only/piano1_only_ty_mai_0.mid'),\n",
       " PosixPath('/Users/hapticslab/Programming/humusic/midi_generator/midi_chunk/piano1_only/piano1_only_scn16_3_0.mid'),\n",
       " PosixPath('/Users/hapticslab/Programming/humusic/midi_generator/midi_chunk/piano1_only/piano1_only_scn16_3_1.mid'),\n",
       " PosixPath('/Users/hapticslab/Programming/humusic/midi_generator/midi_chunk/piano1_only/piano1_only_scn16_2_0.mid'),\n",
       " PosixPath('/Users/hapticslab/Programming/humusic/midi_generator/midi_chunk/piano1_only/piano1_only_scn16_2_1.mid'),\n",
       " PosixPath('/Users/hapticslab/Programming/humusic/midi_generator/midi_chunk/piano1_only/piano1_only_liz_et6_0.mid'),\n",
       " PosixPath('/Users/hapticslab/Programming/humusic/midi_generator/midi_chunk/piano1_only/piano1_only_liz_et6_1.mid'),\n",
       " PosixPath('/Users/hapticslab/Programming/humusic/midi_generator/midi_chunk/piano1_only/piano1_only_liz_et6_2.mid'),\n",
       " PosixPath('/Users/hapticslab/Programming/humusic/midi_generator/midi_chunk/piano1_only/piano1_only_schuim-2_0.mid'),\n",
       " PosixPath('/Users/hapticslab/Programming/humusic/midi_generator/midi_chunk/piano1_only/piano1_only_schuim-2_1.mid'),\n",
       " PosixPath('/Users/hapticslab/Programming/humusic/midi_generator/midi_chunk/piano1_only/piano1_only_schuim-2_2.mid'),\n",
       " PosixPath('/Users/hapticslab/Programming/humusic/midi_generator/midi_chunk/piano1_only/piano1_only_mendel_op30_5_0.mid'),\n",
       " PosixPath('/Users/hapticslab/Programming/humusic/midi_generator/midi_chunk/piano1_only/piano1_only_brahms_opus1_2_0.mid'),\n",
       " PosixPath('/Users/hapticslab/Programming/humusic/midi_generator/midi_chunk/piano1_only/piano1_only_hay_40_2_0.mid'),\n",
       " PosixPath('/Users/hapticslab/Programming/humusic/midi_generator/midi_chunk/piano1_only/piano1_only_muss_8_0.mid'),\n",
       " PosixPath('/Users/hapticslab/Programming/humusic/midi_generator/midi_chunk/piano1_only/piano1_only_muss_8_1.mid'),\n",
       " PosixPath('/Users/hapticslab/Programming/humusic/midi_generator/midi_chunk/piano1_only/piano1_only_muss_8_2.mid'),\n",
       " PosixPath('/Users/hapticslab/Programming/humusic/midi_generator/midi_chunk/piano1_only/piano1_only_muss_8_3.mid'),\n",
       " PosixPath('/Users/hapticslab/Programming/humusic/midi_generator/midi_chunk/piano1_only/piano1_only_chpn_op25_e4_0.mid'),\n",
       " PosixPath('/Users/hapticslab/Programming/humusic/midi_generator/midi_chunk/piano1_only/piano1_only_chpn_op23_0.mid'),\n",
       " PosixPath('/Users/hapticslab/Programming/humusic/midi_generator/midi_chunk/piano1_only/piano1_only_chpn_op23_1.mid'),\n",
       " PosixPath('/Users/hapticslab/Programming/humusic/midi_generator/midi_chunk/piano1_only/piano1_only_chpn_op23_2.mid'),\n",
       " PosixPath('/Users/hapticslab/Programming/humusic/midi_generator/midi_chunk/piano1_only/piano1_only_liz_rhap09_0.mid'),\n",
       " PosixPath('/Users/hapticslab/Programming/humusic/midi_generator/midi_chunk/piano1_only/piano1_only_liz_rhap09_1.mid'),\n",
       " PosixPath('/Users/hapticslab/Programming/humusic/midi_generator/midi_chunk/piano1_only/piano1_only_liz_rhap09_2.mid'),\n",
       " PosixPath('/Users/hapticslab/Programming/humusic/midi_generator/midi_chunk/piano1_only/piano1_only_liz_rhap09_3.mid'),\n",
       " PosixPath('/Users/hapticslab/Programming/humusic/midi_generator/midi_chunk/piano1_only/piano1_only_liz_rhap09_4.mid'),\n",
       " PosixPath('/Users/hapticslab/Programming/humusic/midi_generator/midi_chunk/piano1_only/piano1_only_liz_rhap09_5.mid'),\n",
       " PosixPath('/Users/hapticslab/Programming/humusic/midi_generator/midi_chunk/piano1_only/piano1_only_br_im5_0.mid'),\n",
       " PosixPath('/Users/hapticslab/Programming/humusic/midi_generator/midi_chunk/piano1_only/piano1_only_schubert_D935_2_0.mid'),\n",
       " PosixPath('/Users/hapticslab/Programming/humusic/midi_generator/midi_chunk/piano1_only/piano1_only_schubert_D935_2_1.mid'),\n",
       " PosixPath('/Users/hapticslab/Programming/humusic/midi_generator/midi_chunk/piano1_only/piano1_only_bor_ps7_0.mid'),\n",
       " PosixPath('/Users/hapticslab/Programming/humusic/midi_generator/midi_chunk/piano1_only/piano1_only_liz_liebestraum_0.mid'),\n",
       " PosixPath('/Users/hapticslab/Programming/humusic/midi_generator/midi_chunk/piano1_only/piano1_only_alb_se2_0.mid'),\n",
       " PosixPath('/Users/hapticslab/Programming/humusic/midi_generator/midi_chunk/piano1_only/piano1_only_alb_se2_1.mid'),\n",
       " PosixPath('/Users/hapticslab/Programming/humusic/midi_generator/midi_chunk/piano1_only/piano1_only_chpn_op10_e12_0.mid'),\n",
       " PosixPath('/Users/hapticslab/Programming/humusic/midi_generator/midi_chunk/piano1_only/piano1_only_liz_et4_0.mid'),\n",
       " PosixPath('/Users/hapticslab/Programming/humusic/midi_generator/midi_chunk/piano1_only/piano1_only_ty_august_0.mid'),\n",
       " PosixPath('/Users/hapticslab/Programming/humusic/midi_generator/midi_chunk/piano1_only/piano1_only_ty_august_1.mid'),\n",
       " PosixPath('/Users/hapticslab/Programming/humusic/midi_generator/midi_chunk/piano1_only/piano1_only_schubert_D850_2_0.mid'),\n",
       " PosixPath('/Users/hapticslab/Programming/humusic/midi_generator/midi_chunk/piano1_only/piano1_only_schubert_D850_2_1.mid'),\n",
       " PosixPath('/Users/hapticslab/Programming/humusic/midi_generator/midi_chunk/piano1_only/piano1_only_schubert_D850_2_2.mid'),\n",
       " PosixPath('/Users/hapticslab/Programming/humusic/midi_generator/midi_chunk/piano1_only/piano1_only_scn16_1_0.mid'),\n",
       " PosixPath('/Users/hapticslab/Programming/humusic/midi_generator/midi_chunk/piano1_only/piano1_only_scn16_1_1.mid'),\n",
       " PosixPath('/Users/hapticslab/Programming/humusic/midi_generator/midi_chunk/piano1_only/piano1_only_schubert_D850_3_0.mid'),\n",
       " PosixPath('/Users/hapticslab/Programming/humusic/midi_generator/midi_chunk/piano1_only/piano1_only_schubert_D850_3_1.mid'),\n",
       " PosixPath('/Users/hapticslab/Programming/humusic/midi_generator/midi_chunk/piano1_only/piano1_only_schubert_D850_3_2.mid'),\n",
       " PosixPath('/Users/hapticslab/Programming/humusic/midi_generator/midi_chunk/piano1_only/piano1_only_schubert_D850_3_3.mid'),\n",
       " PosixPath('/Users/hapticslab/Programming/humusic/midi_generator/midi_chunk/piano1_only/piano1_only_ty_maerz_0.mid'),\n",
       " PosixPath('/Users/hapticslab/Programming/humusic/midi_generator/midi_chunk/piano1_only/piano1_only_liz_et5_0.mid'),\n",
       " PosixPath('/Users/hapticslab/Programming/humusic/midi_generator/midi_chunk/piano1_only/piano1_only_liz_et5_1.mid'),\n",
       " PosixPath('/Users/hapticslab/Programming/humusic/midi_generator/midi_chunk/piano1_only/piano1_only_schum_abegg_0.mid'),\n",
       " PosixPath('/Users/hapticslab/Programming/humusic/midi_generator/midi_chunk/piano1_only/piano1_only_schum_abegg_1.mid'),\n",
       " PosixPath('/Users/hapticslab/Programming/humusic/midi_generator/midi_chunk/piano1_only/piano1_only_schum_abegg_2.mid'),\n",
       " PosixPath('/Users/hapticslab/Programming/humusic/midi_generator/midi_chunk/piano1_only/piano1_only_schum_abegg_3.mid'),\n",
       " PosixPath('/Users/hapticslab/Programming/humusic/midi_generator/midi_chunk/piano1_only/piano1_only_schuim-1_0.mid'),\n",
       " PosixPath('/Users/hapticslab/Programming/humusic/midi_generator/midi_chunk/piano1_only/piano1_only_schuim-1_1.mid'),\n",
       " PosixPath('/Users/hapticslab/Programming/humusic/midi_generator/midi_chunk/piano1_only/piano1_only_schuim-1_2.mid'),\n",
       " PosixPath('/Users/hapticslab/Programming/humusic/midi_generator/midi_chunk/piano1_only/piano1_only_alb_se3_0.mid'),\n",
       " PosixPath('/Users/hapticslab/Programming/humusic/midi_generator/midi_chunk/piano1_only/piano1_only_alb_se3_1.mid'),\n",
       " PosixPath('/Users/hapticslab/Programming/humusic/midi_generator/midi_chunk/piano1_only/piano1_only_bor_ps6_0.mid'),\n",
       " PosixPath('/Users/hapticslab/Programming/humusic/midi_generator/midi_chunk/piano1_only/piano1_only_mendel_op53_5_0.mid'),\n",
       " PosixPath('/Users/hapticslab/Programming/humusic/midi_generator/midi_chunk/piano1_only/piano1_only_burg_quelle_0.mid'),\n",
       " PosixPath('/Users/hapticslab/Programming/humusic/midi_generator/midi_chunk/piano1_only/piano1_only_schubert_D935_3_0.mid'),\n",
       " PosixPath('/Users/hapticslab/Programming/humusic/midi_generator/midi_chunk/piano1_only/piano1_only_schubert_D935_3_1.mid'),\n",
       " PosixPath('/Users/hapticslab/Programming/humusic/midi_generator/midi_chunk/piano1_only/piano1_only_schubert_D935_3_2.mid'),\n",
       " PosixPath('/Users/hapticslab/Programming/humusic/midi_generator/midi_chunk/piano1_only/piano1_only_schubert_D935_3_3.mid'),\n",
       " PosixPath('/Users/hapticslab/Programming/humusic/midi_generator/midi_chunk/piano1_only/piano1_only_brahms_opus1_1_0.mid'),\n",
       " PosixPath('/Users/hapticslab/Programming/humusic/midi_generator/midi_chunk/piano1_only/piano1_only_brahms_opus1_1_1.mid'),\n",
       " PosixPath('/Users/hapticslab/Programming/humusic/midi_generator/midi_chunk/piano1_only/piano1_only_brahms_opus1_1_2.mid'),\n",
       " PosixPath('/Users/hapticslab/Programming/humusic/midi_generator/midi_chunk/piano1_only/piano1_only_brahms_opus1_1_3.mid'),\n",
       " PosixPath('/Users/hapticslab/Programming/humusic/midi_generator/midi_chunk/piano1_only/piano1_only_hay_40_1_0.mid'),\n",
       " PosixPath('/Users/hapticslab/Programming/humusic/midi_generator/midi_chunk/piano1_only/piano1_only_hay_40_1_1.mid'),\n",
       " PosixPath('/Users/hapticslab/Programming/humusic/midi_generator/midi_chunk/piano1_only/piano1_only_mz_570_2_0.mid'),\n",
       " PosixPath('/Users/hapticslab/Programming/humusic/midi_generator/midi_chunk/piano1_only/piano1_only_gra_esp_2_0.mid'),\n",
       " PosixPath('/Users/hapticslab/Programming/humusic/midi_generator/midi_chunk/piano1_only/piano1_only_haydn_43_3_0.mid'),\n",
       " PosixPath('/Users/hapticslab/Programming/humusic/midi_generator/midi_chunk/piano1_only/piano1_only_haydn_43_3_1.mid'),\n",
       " PosixPath('/Users/hapticslab/Programming/humusic/midi_generator/midi_chunk/piano1_only/piano1_only_mendel_op30_2_0.mid'),\n",
       " PosixPath('/Users/hapticslab/Programming/humusic/midi_generator/midi_chunk/piano1_only/piano1_only_bor_ps2_0.mid'),\n",
       " PosixPath('/Users/hapticslab/Programming/humusic/midi_generator/midi_chunk/piano1_only/piano1_only_burg_gewitter_0.mid'),\n",
       " PosixPath('/Users/hapticslab/Programming/humusic/midi_generator/midi_chunk/piano1_only/piano1_only_alb_se7_0.mid'),\n",
       " PosixPath('/Users/hapticslab/Programming/humusic/midi_generator/midi_chunk/piano1_only/piano1_only_alb_se7_1.mid'),\n",
       " PosixPath('/Users/hapticslab/Programming/humusic/midi_generator/midi_chunk/piano1_only/piano1_only_chpn-p5_0.mid'),\n",
       " PosixPath('/Users/hapticslab/Programming/humusic/midi_generator/midi_chunk/piano1_only/piano1_only_grieg_voeglein_0.mid'),\n",
       " PosixPath('/Users/hapticslab/Programming/humusic/midi_generator/midi_chunk/piano1_only/piano1_only_liz_et1_0.mid'),\n",
       " PosixPath('/Users/hapticslab/Programming/humusic/midi_generator/midi_chunk/piano1_only/piano1_only_beethoven_opus10_2_0.mid'),\n",
       " PosixPath('/Users/hapticslab/Programming/humusic/midi_generator/midi_chunk/piano1_only/piano1_only_grieg_walzer_0.mid'),\n",
       " PosixPath('/Users/hapticslab/Programming/humusic/midi_generator/midi_chunk/piano1_only/piano1_only_grieg_berceuse_0.mid'),\n",
       " PosixPath('/Users/hapticslab/Programming/humusic/midi_generator/midi_chunk/piano1_only/piano1_only_scn16_5_0.mid'),\n",
       " PosixPath('/Users/hapticslab/Programming/humusic/midi_generator/midi_chunk/piano1_only/piano1_only_scn16_4_0.mid'),\n",
       " PosixPath('/Users/hapticslab/Programming/humusic/midi_generator/midi_chunk/piano1_only/piano1_only_beethoven_opus10_3_0.mid'),\n",
       " PosixPath('/Users/hapticslab/Programming/humusic/midi_generator/midi_chunk/piano1_only/piano1_only_beethoven_opus10_3_1.mid'),\n",
       " PosixPath('/Users/hapticslab/Programming/humusic/midi_generator/midi_chunk/piano1_only/piano1_only_burg_perlen_0.mid'),\n",
       " PosixPath('/Users/hapticslab/Programming/humusic/midi_generator/midi_chunk/piano1_only/piano1_only_schuim-4_0.mid'),\n",
       " PosixPath('/Users/hapticslab/Programming/humusic/midi_generator/midi_chunk/piano1_only/piano1_only_schuim-4_1.mid'),\n",
       " PosixPath('/Users/hapticslab/Programming/humusic/midi_generator/midi_chunk/piano1_only/piano1_only_schuim-4_2.mid'),\n",
       " PosixPath('/Users/hapticslab/Programming/humusic/midi_generator/midi_chunk/piano1_only/piano1_only_schuim-4_3.mid'),\n",
       " PosixPath('/Users/hapticslab/Programming/humusic/midi_generator/midi_chunk/piano1_only/piano1_only_alb_se6_0.mid'),\n",
       " PosixPath('/Users/hapticslab/Programming/humusic/midi_generator/midi_chunk/piano1_only/piano1_only_alb_se6_1.mid'),\n",
       " PosixPath('/Users/hapticslab/Programming/humusic/midi_generator/midi_chunk/piano1_only/piano1_only_chpn_op7_1_0.mid'),\n",
       " PosixPath('/Users/hapticslab/Programming/humusic/midi_generator/midi_chunk/piano1_only/piano1_only_ty_april_0.mid'),\n",
       " PosixPath('/Users/hapticslab/Programming/humusic/midi_generator/midi_chunk/piano1_only/piano1_only_bor_ps3_0.mid'),\n",
       " PosixPath('/Users/hapticslab/Programming/humusic/midi_generator/midi_chunk/piano1_only/piano1_only_mendel_op30_3_0.mid'),\n",
       " PosixPath('/Users/hapticslab/Programming/humusic/midi_generator/midi_chunk/piano1_only/piano1_only_haydn_43_2_0.mid'),\n",
       " PosixPath('/Users/hapticslab/Programming/humusic/midi_generator/midi_chunk/piano1_only/piano1_only_gra_esp_3_0.mid'),\n",
       " PosixPath('/Users/hapticslab/Programming/humusic/midi_generator/midi_chunk/piano1_only/piano1_only_gra_esp_3_1.mid'),\n",
       " PosixPath('/Users/hapticslab/Programming/humusic/midi_generator/midi_chunk/piano1_only/piano1_only_brahms_opus1_4_0.mid'),\n",
       " PosixPath('/Users/hapticslab/Programming/humusic/midi_generator/midi_chunk/piano1_only/piano1_only_brahms_opus1_4_1.mid'),\n",
       " PosixPath('/Users/hapticslab/Programming/humusic/midi_generator/midi_chunk/piano1_only/piano1_only_brahms_opus1_4_2.mid'),\n",
       " PosixPath('/Users/hapticslab/Programming/humusic/midi_generator/midi_chunk/piano1_only/piano1_only_brahms_opus1_4_3.mid'),\n",
       " PosixPath('/Users/hapticslab/Programming/humusic/midi_generator/midi_chunk/piano1_only/piano1_only_mz_570_3_0.mid'),\n",
       " PosixPath('/Users/hapticslab/Programming/humusic/midi_generator/midi_chunk/piano1_only/piano1_only_ty_dezember_0.mid'),\n",
       " PosixPath('/Users/hapticslab/Programming/humusic/midi_generator/midi_chunk/piano1_only/piano1_only_mz_570_1_0.mid'),\n",
       " PosixPath('/Users/hapticslab/Programming/humusic/midi_generator/midi_chunk/piano1_only/piano1_only_mz_570_1_1.mid'),\n",
       " PosixPath('/Users/hapticslab/Programming/humusic/midi_generator/midi_chunk/piano1_only/piano1_only_mz_570_1_2.mid'),\n",
       " PosixPath('/Users/hapticslab/Programming/humusic/midi_generator/midi_chunk/piano1_only/piano1_only_chpn_op25_e2_0.mid'),\n",
       " PosixPath('/Users/hapticslab/Programming/humusic/midi_generator/midi_chunk/piano1_only/piano1_only_mendel_op30_1_0.mid'),\n",
       " PosixPath('/Users/hapticslab/Programming/humusic/midi_generator/midi_chunk/piano1_only/piano1_only_schubert_D935_4_0.mid'),\n",
       " PosixPath('/Users/hapticslab/Programming/humusic/midi_generator/midi_chunk/piano1_only/piano1_only_schubert_D935_4_1.mid'),\n",
       " PosixPath('/Users/hapticslab/Programming/humusic/midi_generator/midi_chunk/piano1_only/piano1_only_schubert_D935_4_2.mid'),\n",
       " PosixPath('/Users/hapticslab/Programming/humusic/midi_generator/midi_chunk/piano1_only/piano1_only_grieg_brooklet_0.mid'),\n",
       " PosixPath('/Users/hapticslab/Programming/humusic/midi_generator/midi_chunk/piano1_only/piano1_only_bor_ps1_0.mid'),\n",
       " PosixPath('/Users/hapticslab/Programming/humusic/midi_generator/midi_chunk/piano1_only/piano1_only_chpn-p6_0.mid'),\n",
       " PosixPath('/Users/hapticslab/Programming/humusic/midi_generator/midi_chunk/piano1_only/piano1_only_alb_se4_0.mid'),\n",
       " PosixPath('/Users/hapticslab/Programming/humusic/midi_generator/midi_chunk/piano1_only/piano1_only_chp_op18_0.mid'),\n",
       " PosixPath('/Users/hapticslab/Programming/humusic/midi_generator/midi_chunk/piano1_only/piano1_only_chp_op18_1.mid'),\n",
       " PosixPath('/Users/hapticslab/Programming/humusic/midi_generator/midi_chunk/piano1_only/piano1_only_schubert_D850_4_0.mid'),\n",
       " PosixPath('/Users/hapticslab/Programming/humusic/midi_generator/midi_chunk/piano1_only/piano1_only_schubert_D850_4_1.mid'),\n",
       " PosixPath('/Users/hapticslab/Programming/humusic/midi_generator/midi_chunk/piano1_only/piano1_only_schubert_D850_4_2.mid'),\n",
       " PosixPath('/Users/hapticslab/Programming/humusic/midi_generator/midi_chunk/piano1_only/piano1_only_schubert_D850_4_3.mid'),\n",
       " PosixPath('/Users/hapticslab/Programming/humusic/midi_generator/midi_chunk/piano1_only/piano1_only_liz_et2_0.mid'),\n",
       " PosixPath('/Users/hapticslab/Programming/humusic/midi_generator/midi_chunk/piano1_only/piano1_only_liz_et2_1.mid'),\n",
       " PosixPath('/Users/hapticslab/Programming/humusic/midi_generator/midi_chunk/piano1_only/piano1_only_beethoven_opus10_1_0.mid'),\n",
       " PosixPath('/Users/hapticslab/Programming/humusic/midi_generator/midi_chunk/piano1_only/piano1_only_beethoven_opus10_1_1.mid'),\n",
       " PosixPath('/Users/hapticslab/Programming/humusic/midi_generator/midi_chunk/piano1_only/piano1_only_scn16_6_0.mid'),\n",
       " PosixPath('/Users/hapticslab/Programming/humusic/midi_generator/midi_chunk/piano1_only/piano1_only_scn16_7_0.mid'),\n",
       " PosixPath('/Users/hapticslab/Programming/humusic/midi_generator/midi_chunk/piano1_only/piano1_only_liz_et3_0.mid'),\n",
       " PosixPath('/Users/hapticslab/Programming/humusic/midi_generator/midi_chunk/piano1_only/piano1_only_liz_et3_1.mid'),\n",
       " PosixPath('/Users/hapticslab/Programming/humusic/midi_generator/midi_chunk/piano1_only/piano1_only_liz_et3_2.mid'),\n",
       " PosixPath('/Users/hapticslab/Programming/humusic/midi_generator/midi_chunk/piano1_only/piano1_only_chp_op31_0.mid'),\n",
       " PosixPath('/Users/hapticslab/Programming/humusic/midi_generator/midi_chunk/piano1_only/piano1_only_chp_op31_1.mid'),\n",
       " PosixPath('/Users/hapticslab/Programming/humusic/midi_generator/midi_chunk/piano1_only/piano1_only_chp_op31_2.mid'),\n",
       " PosixPath('/Users/hapticslab/Programming/humusic/midi_generator/midi_chunk/piano1_only/piano1_only_deb_prel_0.mid'),\n",
       " PosixPath('/Users/hapticslab/Programming/humusic/midi_generator/midi_chunk/piano1_only/piano1_only_chpn_op10_e01_0.mid'),\n",
       " PosixPath('/Users/hapticslab/Programming/humusic/midi_generator/midi_chunk/piano1_only/piano1_only_chpn_op7_2_0.mid'),\n",
       " PosixPath('/Users/hapticslab/Programming/humusic/midi_generator/midi_chunk/piano1_only/piano1_only_alb_se5_0.mid'),\n",
       " PosixPath('/Users/hapticslab/Programming/humusic/midi_generator/midi_chunk/piano1_only/piano1_only_alb_se5_1.mid'),\n",
       " PosixPath('/Users/hapticslab/Programming/humusic/midi_generator/midi_chunk/piano1_only/piano1_only_haydn_8_1_0.mid'),\n",
       " PosixPath('/Users/hapticslab/Programming/humusic/midi_generator/midi_chunk/piano1_only/piano1_only_br_im2_0.mid'),\n",
       " PosixPath('/Users/hapticslab/Programming/humusic/midi_generator/midi_chunk/piano1_only/piano1_only_haydn_43_1_0.mid'),\n",
       " PosixPath('/Users/hapticslab/Programming/humusic/midi_generator/midi_chunk/piano1_only/piano1_only_haydn_43_1_1.mid'),\n",
       " PosixPath('/Users/hapticslab/Programming/humusic/midi_generator/midi_chunk/piano1_only/piano1_only_chpn_op25_e3_0.mid')]"
      ]
     },
     "execution_count": 7,
     "metadata": {},
     "output_type": "execute_result"
    }
   ],
   "source": [
    "\n",
    "tokenizer.train(vocab_size=30000, files_paths=files_paths)\n",
    "\n",
    "tokenizer.save(tokenizer_path)\n",
    "\n",
    "split_files_for_training(\n",
    "    files_paths=files_paths,\n",
    "    tokenizer=tokenizer,\n",
    "    save_dir=chunks_dir,\n",
    "    max_seq_len=1024,\n",
    ")\n"
   ]
  },
  {
   "cell_type": "code",
   "execution_count": 8,
   "metadata": {},
   "outputs": [
    {
     "name": "stderr",
     "output_type": "stream",
     "text": [
      "/Users/hapticslab/Programming/humusic/.venv/lib/python3.9/site-packages/miditok/tokenizations/remi.py:77: UserWarning: Attribute controls are not compatible with 'config.one_token_stream_for_programs' and multi-vocabulary tokenizers. Disabling them from the config.\n",
      "  super().__init__(tokenizer_config, params)\n"
     ]
    }
   ],
   "source": [
    "\n",
    "tokenizer = REMI(params=Path(\"tokens/piano1_token/tokenizer.json\"))\n",
    "\n",
    "# Create a Dataset, a DataLoader and a collator to train a model\n",
    "dataset = DatasetMIDI(\n",
    "    files_paths=list(chunks_dir.glob(\"**/*.mid\")),\n",
    "    tokenizer=tokenizer,\n",
    "    max_seq_len=1024,\n",
    ")\n",
    "collator = DataCollator(tokenizer.pad_token_id, copy_inputs_as_labels=True)\n",
    "dataloader = DataLoader(dataset, batch_size=16, collate_fn=collator)"
   ]
  },
  {
   "cell_type": "markdown",
   "metadata": {},
   "source": [
    "### Mac環境"
   ]
  },
  {
   "cell_type": "code",
   "execution_count": 4,
   "metadata": {},
   "outputs": [],
   "source": [
    "\n",
    "# Train the tokenizer with Byte Pair Encoding (BPE)\n",
    "#files_paths = list(Path(\"../datasets\").glob(\"**/*.mid\"))\n",
    "dataset_dir = Path(\"/Users/hapticslab/Programming/humusic/datasets/orchestra\")\n",
    "#dataset_dir = Path(\"C:/Users/keisu/Programming/humor/humusic/datasets/orchestra\")\n",
    "#dataset_dir = Path(\"C:/Users/keisu/Programming/humor/humusic/datasets/piano1_only\")\n",
    "files_paths = list(dataset_dir.glob(\"**/*.mid\"))\n",
    "\n",
    "tokenizer.train(vocab_size=30000, files_paths=files_paths)\n",
    "\n",
    "#tokenizer.save(Path(\"path\", \"to\", \"save\", \"tokenizer.json\"))\n",
    "'''\n",
    "tokenizer.save(Path(\"/Users/hapticslab/Programming/humusic/midi_generator/tokens/orchestra_token/tokenizer.json\"))\n",
    "'''\n",
    "#tokenizer.save(Path(\"C:/Users/keisu/Programming/humor/humusic/midi_generator/tokens/orchestra_token/tokenizer.json\"))\n",
    "#tokenizer.save(Path(\"C:/Users/keisu/Programming/humor/humusic/midi_generator/tokens/piano1_token/tokenizer.json\"))\n",
    "# And pushing it to the Hugging Face hub (you can download it back with .from_pretrained)\n",
    "#tokenizer.push_to_hub(\"username/model-name\", private=True, token=\"your_hf_token\")\n",
    "\n",
    "# Split MIDIs into smaller chunks for training\n",
    "dataset_chunks_dir = Path(\"/Users/hapticslab/Programming/humusic/midi_generator/midi_chunk/orchestra\")\n",
    "#dataset_chunks_dir = Path(\"C:/Users/keisu/Programming/humor/humusic/midi_generator/midi_chunk/orchestra\")\n",
    "#dataset_chunks_dir = Path(\"C:/Users/keisu/Programming/humor/humusic/midi_generator/midi_chunk/piano1_only\")\n",
    "\n"
   ]
  },
  {
   "cell_type": "markdown",
   "metadata": {},
   "source": [
    "### Windows環境"
   ]
  },
  {
   "cell_type": "code",
   "execution_count": 5,
   "metadata": {},
   "outputs": [],
   "source": [
    "\n",
    "\n",
    "\n",
    "# Train the tokenizer with Byte Pair Encoding (BPE)\n",
    "#files_paths = list(Path(\"../datasets\").glob(\"**/*.mid\"))\n",
    "#dataset_dir = Path(\"/Users/hapticslab/Programming/humusic/datasets/piano1_only\")\n",
    "#dataset_dir = Path(\"C:/Users/keisu/Programming/humor/humusic/datasets/orchestra\")\n",
    "dataset_dir = Path(\"C:/Users/keisu/Programming/humor/humusic/datasets/piano1_only\")\n",
    "#dataset_dir = Path(\"C:/Users/keisu/Programming/humor/humusic/datasets/maestro-v3.0.0\")\n",
    "files_paths = list(dataset_dir.glob(\"**/*.mid\"))\n",
    "\n",
    "\n",
    "#tokenizer.train(vocab_size=30000, files_paths=files_paths)\n",
    "\n",
    "\n",
    "#tokenizer.save(Path(\"path\", \"to\", \"save\", \"tokenizer.json\"))\n",
    "\n",
    "#tokenizer.save(Path(\"/Users/hapticslab/Programming/humusic/midi_generator/tokens/piano1_token/tokenizer.json\"))\n",
    "\n",
    "tokenizer.save(Path(\"C:/Users/keisu/Programming/humor/humusic/midi_generator/tokens/piano1_token/tokenizer.json\"))\n",
    "#tokenizer.save(Path(\"C:/Users/keisu/Programming/humor/humusic/midi_generator/tokens/maestro/tokenizer.json\"))\n",
    "# And pushing it to the Hugging Face hub (you can download it back with .from_pretrained)\n",
    "#tokenizer.push_to_hub(\"username/model-name\", private=True, token=\"your_hf_token\")\n",
    "\n",
    "# Split MIDIs into smaller chunks for training\n",
    "#dataset_chunks_dir = Path(\"/Users/hapticslab/Programming/humusic/midi_generator/midi_chunk/piano1_only\")\n",
    "dataset_chunks_dir = Path(\"C:/Users/keisu/Programming/humor/humusic/midi_generator/midi_chunk/piano1_only\")\n",
    "#dataset_chunks_dir = Path(\"C:/Users/keisu/Programming/humor/humusic/midi_generator/midi_chunk/maestro\")\n"
   ]
  },
  {
   "cell_type": "code",
   "execution_count": 4,
   "metadata": {},
   "outputs": [
    {
     "name": "stderr",
     "output_type": "stream",
     "text": [
      "C:\\Users\\keisu\\AppData\\Roaming\\Python\\Python39\\site-packages\\miditok\\tokenizations\\remi.py:77: UserWarning: Attribute controls are not compatible with 'config.one_token_stream_for_programs' and multi-vocabulary tokenizers. Disabling them from the config.\n",
      "  super().__init__(tokenizer_config, params)\n"
     ]
    }
   ],
   "source": [
    "tokenizer = REMI(params=Path(\"tokens/piano1_token/tokenizer.json\"))"
   ]
  },
  {
   "cell_type": "markdown",
   "metadata": {},
   "source": [
    "### トークンをDataloaderに保存"
   ]
  },
  {
   "cell_type": "code",
   "execution_count": 25,
   "metadata": {},
   "outputs": [],
   "source": [
    "'''\n",
    "split_files_for_training(\n",
    "    files_paths=files_paths,\n",
    "    tokenizer=tokenizer,\n",
    "    save_dir=dataset_chunks_dir,\n",
    "    max_seq_len=1024,\n",
    ")\n",
    "'''\n",
    "\n",
    "\n",
    "# Create a Dataset, a DataLoader and a collator to train a model\n",
    "dataset = DatasetMIDI(\n",
    "    files_paths=list(dataset_chunks_dir.glob(\"**/*.mid\")),\n",
    "    tokenizer=tokenizer,\n",
    "    max_seq_len=1024,\n",
    "    bos_token_id=tokenizer[\"BOS_None\"],\n",
    "    eos_token_id=tokenizer[\"EOS_None\"],\n",
    ")\n",
    "collator = DataCollator(tokenizer.pad_token_id, copy_inputs_as_labels=True)\n",
    "dataloader = DataLoader(dataset, batch_size=64, collate_fn=collator)"
   ]
  },
  {
   "cell_type": "markdown",
   "metadata": {},
   "source": [
    "## Attention付きLSTMによる学習，生成"
   ]
  },
  {
   "cell_type": "markdown",
   "metadata": {},
   "source": [
    "学習パラメータの設定"
   ]
  },
  {
   "cell_type": "code",
   "execution_count": 9,
   "metadata": {},
   "outputs": [],
   "source": [
    "os.environ['CUDA_LAUNCH_BLOCKING'] = \"1\"\n",
    "# LSMT with Attention\n",
    "from LSTMwithAtt import LSTMwithAtt\n",
    "\n",
    "\n",
    "hidden_size = 200\n",
    "model = LSTMwithAtt(tokenizer, hidden_size)\n",
    "optimizer = torch.optim.Adam(model.parameters(), lr=0.01)\n",
    "criterion = torch.nn.CrossEntropyLoss(ignore_index=-100)\n",
    "\n",
    "num_epoch = 100\n",
    "\n",
    "model = model.to(device)\n"
   ]
  },
  {
   "cell_type": "code",
   "execution_count": null,
   "metadata": {},
   "outputs": [
    {
     "name": "stderr",
     "output_type": "stream",
     "text": [
      "Epoch 1/100 |: 100%|██████████| 8/8 [00:16<00:00,  2.09s/batch]\n"
     ]
    },
    {
     "name": "stdout",
     "output_type": "stream",
     "text": [
      "epoch 1/100 | loss 53.097999572753906 | time 16.68554973602295\n"
     ]
    },
    {
     "name": "stderr",
     "output_type": "stream",
     "text": [
      "Epoch 2/100 |: 100%|██████████| 8/8 [00:14<00:00,  1.87s/batch]\n"
     ]
    },
    {
     "name": "stdout",
     "output_type": "stream",
     "text": [
      "epoch 2/100 | loss 35.28253936767578 | time 14.983150005340576\n"
     ]
    },
    {
     "name": "stderr",
     "output_type": "stream",
     "text": [
      "Epoch 3/100 |: 100%|██████████| 8/8 [00:14<00:00,  1.80s/batch]\n"
     ]
    },
    {
     "name": "stdout",
     "output_type": "stream",
     "text": [
      "epoch 3/100 | loss 26.82324981689453 | time 14.419851541519165\n"
     ]
    },
    {
     "name": "stderr",
     "output_type": "stream",
     "text": [
      "Epoch 4/100 |: 100%|██████████| 8/8 [00:14<00:00,  1.81s/batch]\n"
     ]
    },
    {
     "name": "stdout",
     "output_type": "stream",
     "text": [
      "epoch 4/100 | loss 26.696746826171875 | time 14.463761568069458\n"
     ]
    },
    {
     "name": "stderr",
     "output_type": "stream",
     "text": [
      "Epoch 5/100 |: 100%|██████████| 8/8 [00:14<00:00,  1.87s/batch]\n"
     ]
    },
    {
     "name": "stdout",
     "output_type": "stream",
     "text": [
      "epoch 5/100 | loss 26.047178268432617 | time 14.942992448806763\n"
     ]
    },
    {
     "name": "stderr",
     "output_type": "stream",
     "text": [
      "Epoch 6/100 |: 100%|██████████| 8/8 [00:15<00:00,  1.93s/batch]\n"
     ]
    },
    {
     "name": "stdout",
     "output_type": "stream",
     "text": [
      "epoch 6/100 | loss 25.791162490844727 | time 15.418697357177734\n"
     ]
    },
    {
     "name": "stderr",
     "output_type": "stream",
     "text": [
      "Epoch 7/100 |: 100%|██████████| 8/8 [00:14<00:00,  1.84s/batch]\n"
     ]
    },
    {
     "name": "stdout",
     "output_type": "stream",
     "text": [
      "epoch 7/100 | loss 25.340930938720703 | time 14.725812673568726\n"
     ]
    },
    {
     "name": "stderr",
     "output_type": "stream",
     "text": [
      "Epoch 8/100 |: 100%|██████████| 8/8 [00:14<00:00,  1.85s/batch]\n"
     ]
    },
    {
     "name": "stdout",
     "output_type": "stream",
     "text": [
      "epoch 8/100 | loss 24.937702178955078 | time 14.789016962051392\n"
     ]
    },
    {
     "name": "stderr",
     "output_type": "stream",
     "text": [
      "Epoch 9/100 |: 100%|██████████| 8/8 [00:14<00:00,  1.81s/batch]\n"
     ]
    },
    {
     "name": "stdout",
     "output_type": "stream",
     "text": [
      "epoch 9/100 | loss 24.297531127929688 | time 14.484031915664673\n"
     ]
    },
    {
     "name": "stderr",
     "output_type": "stream",
     "text": [
      "Epoch 10/100 |: 100%|██████████| 8/8 [00:14<00:00,  1.77s/batch]\n"
     ]
    },
    {
     "name": "stdout",
     "output_type": "stream",
     "text": [
      "epoch 10/100 | loss 24.129179000854492 | time 14.179299592971802\n"
     ]
    },
    {
     "name": "stderr",
     "output_type": "stream",
     "text": [
      "Epoch 11/100 |: 100%|██████████| 8/8 [00:15<00:00,  1.94s/batch]\n"
     ]
    },
    {
     "name": "stdout",
     "output_type": "stream",
     "text": [
      "epoch 11/100 | loss 23.262279510498047 | time 15.504584789276123\n"
     ]
    },
    {
     "name": "stderr",
     "output_type": "stream",
     "text": [
      "Epoch 12/100 |: 100%|██████████| 8/8 [00:15<00:00,  1.92s/batch]\n"
     ]
    },
    {
     "name": "stdout",
     "output_type": "stream",
     "text": [
      "epoch 12/100 | loss 22.362049102783203 | time 15.340266466140747\n"
     ]
    },
    {
     "name": "stderr",
     "output_type": "stream",
     "text": [
      "Epoch 13/100 |: 100%|██████████| 8/8 [00:14<00:00,  1.84s/batch]\n"
     ]
    },
    {
     "name": "stdout",
     "output_type": "stream",
     "text": [
      "epoch 13/100 | loss 22.00443458557129 | time 14.685998678207397\n"
     ]
    },
    {
     "name": "stderr",
     "output_type": "stream",
     "text": [
      "Epoch 14/100 |: 100%|██████████| 8/8 [00:14<00:00,  1.81s/batch]\n"
     ]
    },
    {
     "name": "stdout",
     "output_type": "stream",
     "text": [
      "epoch 14/100 | loss 21.375980377197266 | time 14.50864577293396\n"
     ]
    },
    {
     "name": "stderr",
     "output_type": "stream",
     "text": [
      "Epoch 15/100 |: 100%|██████████| 8/8 [00:14<00:00,  1.77s/batch]\n"
     ]
    },
    {
     "name": "stdout",
     "output_type": "stream",
     "text": [
      "epoch 15/100 | loss 21.00498390197754 | time 14.19074010848999\n"
     ]
    },
    {
     "name": "stderr",
     "output_type": "stream",
     "text": [
      "Epoch 16/100 |: 100%|██████████| 8/8 [00:14<00:00,  1.84s/batch]\n"
     ]
    },
    {
     "name": "stdout",
     "output_type": "stream",
     "text": [
      "epoch 16/100 | loss 20.556867599487305 | time 14.74929428100586\n"
     ]
    },
    {
     "name": "stderr",
     "output_type": "stream",
     "text": [
      "Epoch 17/100 |: 100%|██████████| 8/8 [00:14<00:00,  1.84s/batch]\n"
     ]
    },
    {
     "name": "stdout",
     "output_type": "stream",
     "text": [
      "epoch 17/100 | loss 20.42462921142578 | time 14.739850997924805\n"
     ]
    },
    {
     "name": "stderr",
     "output_type": "stream",
     "text": [
      "Epoch 18/100 |: 100%|██████████| 8/8 [00:15<00:00,  1.89s/batch]\n"
     ]
    },
    {
     "name": "stdout",
     "output_type": "stream",
     "text": [
      "epoch 18/100 | loss 19.675508499145508 | time 15.091823101043701\n"
     ]
    },
    {
     "name": "stderr",
     "output_type": "stream",
     "text": [
      "Epoch 19/100 |: 100%|██████████| 8/8 [00:14<00:00,  1.85s/batch]\n"
     ]
    },
    {
     "name": "stdout",
     "output_type": "stream",
     "text": [
      "epoch 19/100 | loss 19.85062026977539 | time 14.811589479446411\n"
     ]
    },
    {
     "name": "stderr",
     "output_type": "stream",
     "text": [
      "Epoch 20/100 |: 100%|██████████| 8/8 [00:14<00:00,  1.87s/batch]\n"
     ]
    },
    {
     "name": "stdout",
     "output_type": "stream",
     "text": [
      "epoch 20/100 | loss 19.29778289794922 | time 14.985620737075806\n"
     ]
    },
    {
     "name": "stderr",
     "output_type": "stream",
     "text": [
      "Epoch 21/100 |: 100%|██████████| 8/8 [00:15<00:00,  1.94s/batch]\n"
     ]
    },
    {
     "name": "stdout",
     "output_type": "stream",
     "text": [
      "epoch 21/100 | loss 18.97947883605957 | time 15.513256549835205\n"
     ]
    },
    {
     "name": "stderr",
     "output_type": "stream",
     "text": [
      "Epoch 22/100 |: 100%|██████████| 8/8 [00:15<00:00,  1.94s/batch]\n"
     ]
    },
    {
     "name": "stdout",
     "output_type": "stream",
     "text": [
      "epoch 22/100 | loss 17.945283889770508 | time 15.52844524383545\n"
     ]
    },
    {
     "name": "stderr",
     "output_type": "stream",
     "text": [
      "Epoch 23/100 |: 100%|██████████| 8/8 [00:15<00:00,  1.91s/batch]\n"
     ]
    },
    {
     "name": "stdout",
     "output_type": "stream",
     "text": [
      "epoch 23/100 | loss 17.691177368164062 | time 15.311229705810547\n"
     ]
    },
    {
     "name": "stderr",
     "output_type": "stream",
     "text": [
      "Epoch 24/100 |: 100%|██████████| 8/8 [00:14<00:00,  1.85s/batch]\n"
     ]
    },
    {
     "name": "stdout",
     "output_type": "stream",
     "text": [
      "epoch 24/100 | loss 16.94034194946289 | time 14.81178069114685\n"
     ]
    },
    {
     "name": "stderr",
     "output_type": "stream",
     "text": [
      "Epoch 25/100 |: 100%|██████████| 8/8 [00:15<00:00,  1.90s/batch]\n"
     ]
    },
    {
     "name": "stdout",
     "output_type": "stream",
     "text": [
      "epoch 25/100 | loss 16.84226417541504 | time 15.230429410934448\n"
     ]
    },
    {
     "name": "stderr",
     "output_type": "stream",
     "text": [
      "Epoch 26/100 |: 100%|██████████| 8/8 [00:14<00:00,  1.87s/batch]\n"
     ]
    },
    {
     "name": "stdout",
     "output_type": "stream",
     "text": [
      "epoch 26/100 | loss 16.689037322998047 | time 14.951366186141968\n"
     ]
    },
    {
     "name": "stderr",
     "output_type": "stream",
     "text": [
      "Epoch 27/100 |: 100%|██████████| 8/8 [00:15<00:00,  1.90s/batch]\n"
     ]
    },
    {
     "name": "stdout",
     "output_type": "stream",
     "text": [
      "epoch 27/100 | loss 16.441593170166016 | time 15.206826448440552\n"
     ]
    },
    {
     "name": "stderr",
     "output_type": "stream",
     "text": [
      "Epoch 28/100 |: 100%|██████████| 8/8 [00:16<00:00,  2.00s/batch]\n"
     ]
    },
    {
     "name": "stdout",
     "output_type": "stream",
     "text": [
      "epoch 28/100 | loss 15.96037483215332 | time 16.01823878288269\n"
     ]
    },
    {
     "name": "stderr",
     "output_type": "stream",
     "text": [
      "Epoch 29/100 |: 100%|██████████| 8/8 [00:15<00:00,  1.93s/batch]\n"
     ]
    },
    {
     "name": "stdout",
     "output_type": "stream",
     "text": [
      "epoch 29/100 | loss 15.828655242919922 | time 15.454419136047363\n"
     ]
    },
    {
     "name": "stderr",
     "output_type": "stream",
     "text": [
      "Epoch 30/100 |: 100%|██████████| 8/8 [00:14<00:00,  1.85s/batch]\n"
     ]
    },
    {
     "name": "stdout",
     "output_type": "stream",
     "text": [
      "epoch 30/100 | loss 15.962679862976074 | time 14.78234577178955\n"
     ]
    },
    {
     "name": "stderr",
     "output_type": "stream",
     "text": [
      "Epoch 31/100 |: 100%|██████████| 8/8 [00:14<00:00,  1.86s/batch]\n"
     ]
    },
    {
     "name": "stdout",
     "output_type": "stream",
     "text": [
      "epoch 31/100 | loss 15.65489387512207 | time 14.866543769836426\n"
     ]
    },
    {
     "name": "stderr",
     "output_type": "stream",
     "text": [
      "Epoch 32/100 |: 100%|██████████| 8/8 [00:15<00:00,  1.88s/batch]\n"
     ]
    },
    {
     "name": "stdout",
     "output_type": "stream",
     "text": [
      "epoch 32/100 | loss 15.53884220123291 | time 15.062664031982422\n"
     ]
    },
    {
     "name": "stderr",
     "output_type": "stream",
     "text": [
      "Epoch 33/100 |: 100%|██████████| 8/8 [00:15<00:00,  1.88s/batch]\n"
     ]
    },
    {
     "name": "stdout",
     "output_type": "stream",
     "text": [
      "epoch 33/100 | loss 15.232527732849121 | time 15.03161096572876\n"
     ]
    },
    {
     "name": "stderr",
     "output_type": "stream",
     "text": [
      "Epoch 34/100 |: 100%|██████████| 8/8 [00:15<00:00,  1.90s/batch]\n"
     ]
    },
    {
     "name": "stdout",
     "output_type": "stream",
     "text": [
      "epoch 34/100 | loss 15.092109680175781 | time 15.172271728515625\n"
     ]
    },
    {
     "name": "stderr",
     "output_type": "stream",
     "text": [
      "Epoch 35/100 |: 100%|██████████| 8/8 [00:15<00:00,  1.91s/batch]\n"
     ]
    },
    {
     "name": "stdout",
     "output_type": "stream",
     "text": [
      "epoch 35/100 | loss 14.916648864746094 | time 15.279842376708984\n"
     ]
    },
    {
     "name": "stderr",
     "output_type": "stream",
     "text": [
      "Epoch 36/100 |: 100%|██████████| 8/8 [00:14<00:00,  1.83s/batch]\n"
     ]
    },
    {
     "name": "stdout",
     "output_type": "stream",
     "text": [
      "epoch 36/100 | loss 15.013956069946289 | time 14.615631341934204\n"
     ]
    },
    {
     "name": "stderr",
     "output_type": "stream",
     "text": [
      "Epoch 37/100 |: 100%|██████████| 8/8 [00:15<00:00,  1.90s/batch]\n"
     ]
    },
    {
     "name": "stdout",
     "output_type": "stream",
     "text": [
      "epoch 37/100 | loss 14.672782897949219 | time 15.194403409957886\n"
     ]
    },
    {
     "name": "stderr",
     "output_type": "stream",
     "text": [
      "Epoch 38/100 |: 100%|██████████| 8/8 [00:16<00:00,  2.05s/batch]\n"
     ]
    },
    {
     "name": "stdout",
     "output_type": "stream",
     "text": [
      "epoch 38/100 | loss 14.898781776428223 | time 16.400429010391235\n"
     ]
    },
    {
     "name": "stderr",
     "output_type": "stream",
     "text": [
      "Epoch 39/100 |: 100%|██████████| 8/8 [00:14<00:00,  1.84s/batch]\n"
     ]
    },
    {
     "name": "stdout",
     "output_type": "stream",
     "text": [
      "epoch 39/100 | loss 14.957802772521973 | time 14.760414123535156\n"
     ]
    },
    {
     "name": "stderr",
     "output_type": "stream",
     "text": [
      "Epoch 40/100 |: 100%|██████████| 8/8 [00:15<00:00,  1.95s/batch]\n"
     ]
    },
    {
     "name": "stdout",
     "output_type": "stream",
     "text": [
      "epoch 40/100 | loss 15.05335521697998 | time 15.601012468338013\n"
     ]
    },
    {
     "name": "stderr",
     "output_type": "stream",
     "text": [
      "Epoch 41/100 |: 100%|██████████| 8/8 [00:15<00:00,  1.91s/batch]\n"
     ]
    },
    {
     "name": "stdout",
     "output_type": "stream",
     "text": [
      "epoch 41/100 | loss 14.717511177062988 | time 15.29643702507019\n"
     ]
    },
    {
     "name": "stderr",
     "output_type": "stream",
     "text": [
      "Epoch 42/100 |: 100%|██████████| 8/8 [00:16<00:00,  2.05s/batch]\n"
     ]
    },
    {
     "name": "stdout",
     "output_type": "stream",
     "text": [
      "epoch 42/100 | loss 14.912382125854492 | time 16.414351224899292\n"
     ]
    },
    {
     "name": "stderr",
     "output_type": "stream",
     "text": [
      "Epoch 43/100 |: 100%|██████████| 8/8 [00:15<00:00,  1.96s/batch]\n"
     ]
    },
    {
     "name": "stdout",
     "output_type": "stream",
     "text": [
      "epoch 43/100 | loss 14.841286659240723 | time 15.671698093414307\n"
     ]
    },
    {
     "name": "stderr",
     "output_type": "stream",
     "text": [
      "Epoch 44/100 |:  38%|███▊      | 3/8 [00:05<00:09,  1.94s/batch]"
     ]
    }
   ],
   "source": [
    "model.train()\n",
    "start_time = time.time()\n",
    "\n",
    "for epoch in range(num_epoch):\n",
    "    epoch_start_time = time.time()\n",
    "    i = 0\n",
    "    loss  = 0\n",
    "    \n",
    "\n",
    "    for batch in tqdm(dataloader, desc=f'Epoch {epoch+1}/{num_epoch} |', unit='batch'):\n",
    "        encoder_input = batch[\"input_ids\"][:,1:].to(device)\n",
    "        decoder_input = batch[\"input_ids\"][:,:-1].to(device)\n",
    "        labels = batch[\"input_ids\"][:,1:].to(device)\n",
    "        labels_one_hot = F.one_hot(labels, num_classes=tokenizer.vocab_size).float()\n",
    "        \n",
    "        out = model(encoder_input, decoder_input)\n",
    "        loss = criterion(out[0],labels_one_hot[0])\n",
    "        \n",
    "        for h in range(1,len(out)):\n",
    "            loss += criterion(out[h],labels_one_hot[h])\n",
    "        optimizer.zero_grad()\n",
    "        loss.backward()\n",
    "        optimizer.step()\n",
    "        i += 1\n",
    "    \n",
    "    print(f'epoch {epoch+1}/{num_epoch} | loss {loss} | time {time.time()-epoch_start_time}')\n",
    "    outfile = \"models/\" + \"lstmwithatt_\" + str(hidden_size) + \"_\" + dataset_name + \"_\" + str(epoch+1) + \".pt\"\n",
    "    torch.save(model.state_dict(),outfile)  \n",
    "    "
   ]
  },
  {
   "cell_type": "code",
   "execution_count": 27,
   "metadata": {},
   "outputs": [
    {
     "name": "stderr",
     "output_type": "stream",
     "text": [
      "Epoch 1/100 |: 100%|██████████| 8/8 [00:19<00:00,  2.39s/batch]\n"
     ]
    },
    {
     "name": "stdout",
     "output_type": "stream",
     "text": [
      "epoch 1/100 | loss 71.67308807373047 | time 19.12471103668213\n"
     ]
    },
    {
     "name": "stderr",
     "output_type": "stream",
     "text": [
      "Epoch 2/100 |: 100%|██████████| 8/8 [00:18<00:00,  2.37s/batch]\n"
     ]
    },
    {
     "name": "stdout",
     "output_type": "stream",
     "text": [
      "epoch 2/100 | loss 70.7986068725586 | time 18.9780433177948\n"
     ]
    },
    {
     "name": "stderr",
     "output_type": "stream",
     "text": [
      "Epoch 3/100 |: 100%|██████████| 8/8 [00:18<00:00,  2.35s/batch]\n"
     ]
    },
    {
     "name": "stdout",
     "output_type": "stream",
     "text": [
      "epoch 3/100 | loss 68.76653289794922 | time 18.804734706878662\n"
     ]
    },
    {
     "name": "stderr",
     "output_type": "stream",
     "text": [
      "Epoch 4/100 |: 100%|██████████| 8/8 [00:19<00:00,  2.39s/batch]\n"
     ]
    },
    {
     "name": "stdout",
     "output_type": "stream",
     "text": [
      "epoch 4/100 | loss 61.068626403808594 | time 19.14573645591736\n"
     ]
    },
    {
     "name": "stderr",
     "output_type": "stream",
     "text": [
      "Epoch 5/100 |: 100%|██████████| 8/8 [00:19<00:00,  2.41s/batch]\n"
     ]
    },
    {
     "name": "stdout",
     "output_type": "stream",
     "text": [
      "epoch 5/100 | loss 54.794654846191406 | time 19.259551525115967\n"
     ]
    },
    {
     "name": "stderr",
     "output_type": "stream",
     "text": [
      "Epoch 6/100 |: 100%|██████████| 8/8 [00:18<00:00,  2.29s/batch]\n"
     ]
    },
    {
     "name": "stdout",
     "output_type": "stream",
     "text": [
      "epoch 6/100 | loss 50.6503791809082 | time 18.352508544921875\n"
     ]
    },
    {
     "name": "stderr",
     "output_type": "stream",
     "text": [
      "Epoch 7/100 |: 100%|██████████| 8/8 [00:18<00:00,  2.26s/batch]\n"
     ]
    },
    {
     "name": "stdout",
     "output_type": "stream",
     "text": [
      "epoch 7/100 | loss 47.3660888671875 | time 18.070428371429443\n"
     ]
    },
    {
     "name": "stderr",
     "output_type": "stream",
     "text": [
      "Epoch 8/100 |: 100%|██████████| 8/8 [00:18<00:00,  2.35s/batch]\n"
     ]
    },
    {
     "name": "stdout",
     "output_type": "stream",
     "text": [
      "epoch 8/100 | loss 45.04960250854492 | time 18.799615621566772\n"
     ]
    },
    {
     "name": "stderr",
     "output_type": "stream",
     "text": [
      "Epoch 9/100 |: 100%|██████████| 8/8 [00:18<00:00,  2.27s/batch]\n"
     ]
    },
    {
     "name": "stdout",
     "output_type": "stream",
     "text": [
      "epoch 9/100 | loss 43.98419952392578 | time 18.19895887374878\n"
     ]
    },
    {
     "name": "stderr",
     "output_type": "stream",
     "text": [
      "Epoch 10/100 |: 100%|██████████| 8/8 [00:18<00:00,  2.31s/batch]\n"
     ]
    },
    {
     "name": "stdout",
     "output_type": "stream",
     "text": [
      "epoch 10/100 | loss 43.69457244873047 | time 18.481234788894653\n"
     ]
    },
    {
     "name": "stderr",
     "output_type": "stream",
     "text": [
      "Epoch 11/100 |: 100%|██████████| 8/8 [00:19<00:00,  2.45s/batch]\n"
     ]
    },
    {
     "name": "stdout",
     "output_type": "stream",
     "text": [
      "epoch 11/100 | loss 43.123958587646484 | time 19.595670700073242\n"
     ]
    },
    {
     "name": "stderr",
     "output_type": "stream",
     "text": [
      "Epoch 12/100 |: 100%|██████████| 8/8 [00:18<00:00,  2.31s/batch]\n"
     ]
    },
    {
     "name": "stdout",
     "output_type": "stream",
     "text": [
      "epoch 12/100 | loss 42.31206512451172 | time 18.505943775177002\n"
     ]
    },
    {
     "name": "stderr",
     "output_type": "stream",
     "text": [
      "Epoch 13/100 |: 100%|██████████| 8/8 [00:18<00:00,  2.31s/batch]\n"
     ]
    },
    {
     "name": "stdout",
     "output_type": "stream",
     "text": [
      "epoch 13/100 | loss 41.581153869628906 | time 18.4601149559021\n"
     ]
    },
    {
     "name": "stderr",
     "output_type": "stream",
     "text": [
      "Epoch 14/100 |: 100%|██████████| 8/8 [00:18<00:00,  2.37s/batch]\n"
     ]
    },
    {
     "name": "stdout",
     "output_type": "stream",
     "text": [
      "epoch 14/100 | loss 40.6914176940918 | time 18.92789578437805\n"
     ]
    },
    {
     "name": "stderr",
     "output_type": "stream",
     "text": [
      "Epoch 15/100 |: 100%|██████████| 8/8 [00:18<00:00,  2.30s/batch]\n"
     ]
    },
    {
     "name": "stdout",
     "output_type": "stream",
     "text": [
      "epoch 15/100 | loss 39.7229118347168 | time 18.438380241394043\n"
     ]
    },
    {
     "name": "stderr",
     "output_type": "stream",
     "text": [
      "Epoch 16/100 |: 100%|██████████| 8/8 [00:18<00:00,  2.30s/batch]\n"
     ]
    },
    {
     "name": "stdout",
     "output_type": "stream",
     "text": [
      "epoch 16/100 | loss 38.76359939575195 | time 18.439972162246704\n"
     ]
    },
    {
     "name": "stderr",
     "output_type": "stream",
     "text": [
      "Epoch 17/100 |: 100%|██████████| 8/8 [00:18<00:00,  2.31s/batch]\n"
     ]
    },
    {
     "name": "stdout",
     "output_type": "stream",
     "text": [
      "epoch 17/100 | loss 37.83285903930664 | time 18.48227024078369\n"
     ]
    },
    {
     "name": "stderr",
     "output_type": "stream",
     "text": [
      "Epoch 18/100 |: 100%|██████████| 8/8 [00:18<00:00,  2.26s/batch]\n"
     ]
    },
    {
     "name": "stdout",
     "output_type": "stream",
     "text": [
      "epoch 18/100 | loss 36.91071701049805 | time 18.07557725906372\n"
     ]
    },
    {
     "name": "stderr",
     "output_type": "stream",
     "text": [
      "Epoch 19/100 |: 100%|██████████| 8/8 [00:18<00:00,  2.29s/batch]\n"
     ]
    },
    {
     "name": "stdout",
     "output_type": "stream",
     "text": [
      "epoch 19/100 | loss 35.95454788208008 | time 18.293341159820557\n"
     ]
    },
    {
     "name": "stderr",
     "output_type": "stream",
     "text": [
      "Epoch 20/100 |: 100%|██████████| 8/8 [00:17<00:00,  2.24s/batch]\n"
     ]
    },
    {
     "name": "stdout",
     "output_type": "stream",
     "text": [
      "epoch 20/100 | loss 34.96541213989258 | time 17.91993260383606\n"
     ]
    },
    {
     "name": "stderr",
     "output_type": "stream",
     "text": [
      "Epoch 21/100 |: 100%|██████████| 8/8 [00:18<00:00,  2.30s/batch]\n"
     ]
    },
    {
     "name": "stdout",
     "output_type": "stream",
     "text": [
      "epoch 21/100 | loss 33.93700408935547 | time 18.44291663169861\n"
     ]
    },
    {
     "name": "stderr",
     "output_type": "stream",
     "text": [
      "Epoch 22/100 |: 100%|██████████| 8/8 [00:18<00:00,  2.26s/batch]\n"
     ]
    },
    {
     "name": "stdout",
     "output_type": "stream",
     "text": [
      "epoch 22/100 | loss 32.83905029296875 | time 18.095988988876343\n"
     ]
    },
    {
     "name": "stderr",
     "output_type": "stream",
     "text": [
      "Epoch 23/100 |: 100%|██████████| 8/8 [00:18<00:00,  2.27s/batch]\n"
     ]
    },
    {
     "name": "stdout",
     "output_type": "stream",
     "text": [
      "epoch 23/100 | loss 31.755268096923828 | time 18.17275595664978\n"
     ]
    },
    {
     "name": "stderr",
     "output_type": "stream",
     "text": [
      "Epoch 24/100 |: 100%|██████████| 8/8 [00:18<00:00,  2.28s/batch]\n"
     ]
    },
    {
     "name": "stdout",
     "output_type": "stream",
     "text": [
      "epoch 24/100 | loss 30.799394607543945 | time 18.210826635360718\n"
     ]
    },
    {
     "name": "stderr",
     "output_type": "stream",
     "text": [
      "Epoch 25/100 |: 100%|██████████| 8/8 [00:18<00:00,  2.31s/batch]\n"
     ]
    },
    {
     "name": "stdout",
     "output_type": "stream",
     "text": [
      "epoch 25/100 | loss 29.95745849609375 | time 18.51432156562805\n"
     ]
    },
    {
     "name": "stderr",
     "output_type": "stream",
     "text": [
      "Epoch 26/100 |: 100%|██████████| 8/8 [00:18<00:00,  2.30s/batch]\n"
     ]
    },
    {
     "name": "stdout",
     "output_type": "stream",
     "text": [
      "epoch 26/100 | loss 29.205224990844727 | time 18.399906158447266\n"
     ]
    },
    {
     "name": "stderr",
     "output_type": "stream",
     "text": [
      "Epoch 27/100 |: 100%|██████████| 8/8 [00:17<00:00,  2.24s/batch]\n"
     ]
    },
    {
     "name": "stdout",
     "output_type": "stream",
     "text": [
      "epoch 27/100 | loss 28.505475997924805 | time 17.94415259361267\n"
     ]
    },
    {
     "name": "stderr",
     "output_type": "stream",
     "text": [
      "Epoch 28/100 |: 100%|██████████| 8/8 [00:18<00:00,  2.33s/batch]\n"
     ]
    },
    {
     "name": "stdout",
     "output_type": "stream",
     "text": [
      "epoch 28/100 | loss 27.86959457397461 | time 18.6503586769104\n"
     ]
    },
    {
     "name": "stderr",
     "output_type": "stream",
     "text": [
      "Epoch 29/100 |: 100%|██████████| 8/8 [00:18<00:00,  2.29s/batch]\n"
     ]
    },
    {
     "name": "stdout",
     "output_type": "stream",
     "text": [
      "epoch 29/100 | loss 27.346464157104492 | time 18.304810762405396\n"
     ]
    },
    {
     "name": "stderr",
     "output_type": "stream",
     "text": [
      "Epoch 30/100 |: 100%|██████████| 8/8 [00:17<00:00,  2.24s/batch]\n"
     ]
    },
    {
     "name": "stdout",
     "output_type": "stream",
     "text": [
      "epoch 30/100 | loss 26.800310134887695 | time 17.9246084690094\n"
     ]
    },
    {
     "name": "stderr",
     "output_type": "stream",
     "text": [
      "Epoch 31/100 |: 100%|██████████| 8/8 [00:18<00:00,  2.34s/batch]\n"
     ]
    },
    {
     "name": "stdout",
     "output_type": "stream",
     "text": [
      "epoch 31/100 | loss 26.23245620727539 | time 18.71366024017334\n"
     ]
    },
    {
     "name": "stderr",
     "output_type": "stream",
     "text": [
      "Epoch 32/100 |: 100%|██████████| 8/8 [00:18<00:00,  2.28s/batch]\n"
     ]
    },
    {
     "name": "stdout",
     "output_type": "stream",
     "text": [
      "epoch 32/100 | loss 25.970794677734375 | time 18.21896004676819\n"
     ]
    },
    {
     "name": "stderr",
     "output_type": "stream",
     "text": [
      "Epoch 33/100 |: 100%|██████████| 8/8 [00:18<00:00,  2.28s/batch]\n"
     ]
    },
    {
     "name": "stdout",
     "output_type": "stream",
     "text": [
      "epoch 33/100 | loss 25.66429901123047 | time 18.233699798583984\n"
     ]
    },
    {
     "name": "stderr",
     "output_type": "stream",
     "text": [
      "Epoch 34/100 |: 100%|██████████| 8/8 [00:18<00:00,  2.31s/batch]\n"
     ]
    },
    {
     "name": "stdout",
     "output_type": "stream",
     "text": [
      "epoch 34/100 | loss 25.478504180908203 | time 18.444890022277832\n"
     ]
    },
    {
     "name": "stderr",
     "output_type": "stream",
     "text": [
      "Epoch 35/100 |: 100%|██████████| 8/8 [00:18<00:00,  2.28s/batch]\n"
     ]
    },
    {
     "name": "stdout",
     "output_type": "stream",
     "text": [
      "epoch 35/100 | loss 25.177947998046875 | time 18.281246423721313\n"
     ]
    },
    {
     "name": "stderr",
     "output_type": "stream",
     "text": [
      "Epoch 36/100 |: 100%|██████████| 8/8 [00:18<00:00,  2.26s/batch]\n"
     ]
    },
    {
     "name": "stdout",
     "output_type": "stream",
     "text": [
      "epoch 36/100 | loss 24.88973045349121 | time 18.109646320343018\n"
     ]
    },
    {
     "name": "stderr",
     "output_type": "stream",
     "text": [
      "Epoch 37/100 |: 100%|██████████| 8/8 [00:18<00:00,  2.25s/batch]\n"
     ]
    },
    {
     "name": "stdout",
     "output_type": "stream",
     "text": [
      "epoch 37/100 | loss 24.7061710357666 | time 18.014063119888306\n"
     ]
    },
    {
     "name": "stderr",
     "output_type": "stream",
     "text": [
      "Epoch 38/100 |: 100%|██████████| 8/8 [00:18<00:00,  2.28s/batch]\n"
     ]
    },
    {
     "name": "stdout",
     "output_type": "stream",
     "text": [
      "epoch 38/100 | loss 24.543638229370117 | time 18.240792512893677\n"
     ]
    },
    {
     "name": "stderr",
     "output_type": "stream",
     "text": [
      "Epoch 39/100 |: 100%|██████████| 8/8 [00:18<00:00,  2.32s/batch]\n"
     ]
    },
    {
     "name": "stdout",
     "output_type": "stream",
     "text": [
      "epoch 39/100 | loss 24.29388427734375 | time 18.531623363494873\n"
     ]
    },
    {
     "name": "stderr",
     "output_type": "stream",
     "text": [
      "Epoch 40/100 |: 100%|██████████| 8/8 [00:18<00:00,  2.30s/batch]\n"
     ]
    },
    {
     "name": "stdout",
     "output_type": "stream",
     "text": [
      "epoch 40/100 | loss 24.02041244506836 | time 18.414289236068726\n"
     ]
    },
    {
     "name": "stderr",
     "output_type": "stream",
     "text": [
      "Epoch 41/100 |: 100%|██████████| 8/8 [00:18<00:00,  2.32s/batch]\n"
     ]
    },
    {
     "name": "stdout",
     "output_type": "stream",
     "text": [
      "epoch 41/100 | loss 23.779375076293945 | time 18.571631908416748\n"
     ]
    },
    {
     "name": "stderr",
     "output_type": "stream",
     "text": [
      "Epoch 42/100 |: 100%|██████████| 8/8 [00:18<00:00,  2.31s/batch]\n"
     ]
    },
    {
     "name": "stdout",
     "output_type": "stream",
     "text": [
      "epoch 42/100 | loss 23.569080352783203 | time 18.484516859054565\n"
     ]
    },
    {
     "name": "stderr",
     "output_type": "stream",
     "text": [
      "Epoch 43/100 |: 100%|██████████| 8/8 [00:18<00:00,  2.29s/batch]\n"
     ]
    },
    {
     "name": "stdout",
     "output_type": "stream",
     "text": [
      "epoch 43/100 | loss 23.34670066833496 | time 18.35188937187195\n"
     ]
    },
    {
     "name": "stderr",
     "output_type": "stream",
     "text": [
      "Epoch 44/100 |: 100%|██████████| 8/8 [00:18<00:00,  2.34s/batch]\n"
     ]
    },
    {
     "name": "stdout",
     "output_type": "stream",
     "text": [
      "epoch 44/100 | loss 23.209064483642578 | time 18.708815097808838\n"
     ]
    },
    {
     "name": "stderr",
     "output_type": "stream",
     "text": [
      "Epoch 45/100 |: 100%|██████████| 8/8 [00:18<00:00,  2.33s/batch]\n"
     ]
    },
    {
     "name": "stdout",
     "output_type": "stream",
     "text": [
      "epoch 45/100 | loss 23.094009399414062 | time 18.682703733444214\n"
     ]
    },
    {
     "name": "stderr",
     "output_type": "stream",
     "text": [
      "Epoch 46/100 |: 100%|██████████| 8/8 [00:18<00:00,  2.34s/batch]\n"
     ]
    },
    {
     "name": "stdout",
     "output_type": "stream",
     "text": [
      "epoch 46/100 | loss 22.98200035095215 | time 18.697852611541748\n"
     ]
    },
    {
     "name": "stderr",
     "output_type": "stream",
     "text": [
      "Epoch 47/100 |: 100%|██████████| 8/8 [00:18<00:00,  2.27s/batch]\n"
     ]
    },
    {
     "name": "stdout",
     "output_type": "stream",
     "text": [
      "epoch 47/100 | loss 22.801498413085938 | time 18.190155744552612\n"
     ]
    },
    {
     "name": "stderr",
     "output_type": "stream",
     "text": [
      "Epoch 48/100 |: 100%|██████████| 8/8 [00:18<00:00,  2.32s/batch]\n"
     ]
    },
    {
     "name": "stdout",
     "output_type": "stream",
     "text": [
      "epoch 48/100 | loss 22.833206176757812 | time 18.568655967712402\n"
     ]
    },
    {
     "name": "stderr",
     "output_type": "stream",
     "text": [
      "Epoch 49/100 |: 100%|██████████| 8/8 [00:18<00:00,  2.30s/batch]\n"
     ]
    },
    {
     "name": "stdout",
     "output_type": "stream",
     "text": [
      "epoch 49/100 | loss 22.599960327148438 | time 18.410383939743042\n"
     ]
    },
    {
     "name": "stderr",
     "output_type": "stream",
     "text": [
      "Epoch 50/100 |: 100%|██████████| 8/8 [00:17<00:00,  2.24s/batch]\n"
     ]
    },
    {
     "name": "stdout",
     "output_type": "stream",
     "text": [
      "epoch 50/100 | loss 22.45964241027832 | time 17.899072647094727\n"
     ]
    },
    {
     "name": "stderr",
     "output_type": "stream",
     "text": [
      "Epoch 51/100 |: 100%|██████████| 8/8 [00:18<00:00,  2.32s/batch]\n"
     ]
    },
    {
     "name": "stdout",
     "output_type": "stream",
     "text": [
      "epoch 51/100 | loss 22.31334686279297 | time 18.58606719970703\n"
     ]
    },
    {
     "name": "stderr",
     "output_type": "stream",
     "text": [
      "Epoch 52/100 |: 100%|██████████| 8/8 [00:18<00:00,  2.25s/batch]\n"
     ]
    },
    {
     "name": "stdout",
     "output_type": "stream",
     "text": [
      "epoch 52/100 | loss 22.14278793334961 | time 18.042356967926025\n"
     ]
    },
    {
     "name": "stderr",
     "output_type": "stream",
     "text": [
      "Epoch 53/100 |: 100%|██████████| 8/8 [00:18<00:00,  2.26s/batch]\n"
     ]
    },
    {
     "name": "stdout",
     "output_type": "stream",
     "text": [
      "epoch 53/100 | loss 22.077226638793945 | time 18.098283767700195\n"
     ]
    },
    {
     "name": "stderr",
     "output_type": "stream",
     "text": [
      "Epoch 54/100 |: 100%|██████████| 8/8 [00:18<00:00,  2.28s/batch]\n"
     ]
    },
    {
     "name": "stdout",
     "output_type": "stream",
     "text": [
      "epoch 54/100 | loss 21.919111251831055 | time 18.220266580581665\n"
     ]
    },
    {
     "name": "stderr",
     "output_type": "stream",
     "text": [
      "Epoch 55/100 |: 100%|██████████| 8/8 [00:18<00:00,  2.28s/batch]\n"
     ]
    },
    {
     "name": "stdout",
     "output_type": "stream",
     "text": [
      "epoch 55/100 | loss 21.87679672241211 | time 18.24171233177185\n"
     ]
    },
    {
     "name": "stderr",
     "output_type": "stream",
     "text": [
      "Epoch 56/100 |: 100%|██████████| 8/8 [00:18<00:00,  2.35s/batch]\n"
     ]
    },
    {
     "name": "stdout",
     "output_type": "stream",
     "text": [
      "epoch 56/100 | loss 21.75187110900879 | time 18.79324460029602\n"
     ]
    },
    {
     "name": "stderr",
     "output_type": "stream",
     "text": [
      "Epoch 57/100 |: 100%|██████████| 8/8 [00:18<00:00,  2.31s/batch]\n"
     ]
    },
    {
     "name": "stdout",
     "output_type": "stream",
     "text": [
      "epoch 57/100 | loss 21.706209182739258 | time 18.481658220291138\n"
     ]
    },
    {
     "name": "stderr",
     "output_type": "stream",
     "text": [
      "Epoch 58/100 |: 100%|██████████| 8/8 [00:18<00:00,  2.30s/batch]\n"
     ]
    },
    {
     "name": "stdout",
     "output_type": "stream",
     "text": [
      "epoch 58/100 | loss 21.57791519165039 | time 18.389821767807007\n"
     ]
    },
    {
     "name": "stderr",
     "output_type": "stream",
     "text": [
      "Epoch 59/100 |: 100%|██████████| 8/8 [00:18<00:00,  2.26s/batch]\n"
     ]
    },
    {
     "name": "stdout",
     "output_type": "stream",
     "text": [
      "epoch 59/100 | loss 21.545486450195312 | time 18.079971313476562\n"
     ]
    },
    {
     "name": "stderr",
     "output_type": "stream",
     "text": [
      "Epoch 60/100 |: 100%|██████████| 8/8 [00:18<00:00,  2.27s/batch]\n"
     ]
    },
    {
     "name": "stdout",
     "output_type": "stream",
     "text": [
      "epoch 60/100 | loss 21.456073760986328 | time 18.167425870895386\n"
     ]
    },
    {
     "name": "stderr",
     "output_type": "stream",
     "text": [
      "Epoch 61/100 |: 100%|██████████| 8/8 [00:18<00:00,  2.30s/batch]\n"
     ]
    },
    {
     "name": "stdout",
     "output_type": "stream",
     "text": [
      "epoch 61/100 | loss 21.423851013183594 | time 18.42743945121765\n"
     ]
    },
    {
     "name": "stderr",
     "output_type": "stream",
     "text": [
      "Epoch 62/100 |: 100%|██████████| 8/8 [00:18<00:00,  2.27s/batch]\n"
     ]
    },
    {
     "name": "stdout",
     "output_type": "stream",
     "text": [
      "epoch 62/100 | loss 21.343372344970703 | time 18.16793727874756\n"
     ]
    },
    {
     "name": "stderr",
     "output_type": "stream",
     "text": [
      "Epoch 63/100 |: 100%|██████████| 8/8 [00:18<00:00,  2.28s/batch]\n"
     ]
    },
    {
     "name": "stdout",
     "output_type": "stream",
     "text": [
      "epoch 63/100 | loss 21.258689880371094 | time 18.235328912734985\n"
     ]
    },
    {
     "name": "stderr",
     "output_type": "stream",
     "text": [
      "Epoch 64/100 |: 100%|██████████| 8/8 [00:17<00:00,  2.25s/batch]\n"
     ]
    },
    {
     "name": "stdout",
     "output_type": "stream",
     "text": [
      "epoch 64/100 | loss 21.22774887084961 | time 17.985283136367798\n"
     ]
    },
    {
     "name": "stderr",
     "output_type": "stream",
     "text": [
      "Epoch 65/100 |: 100%|██████████| 8/8 [00:18<00:00,  2.30s/batch]\n"
     ]
    },
    {
     "name": "stdout",
     "output_type": "stream",
     "text": [
      "epoch 65/100 | loss 21.20960235595703 | time 18.4124596118927\n"
     ]
    },
    {
     "name": "stderr",
     "output_type": "stream",
     "text": [
      "Epoch 66/100 |: 100%|██████████| 8/8 [00:18<00:00,  2.28s/batch]\n"
     ]
    },
    {
     "name": "stdout",
     "output_type": "stream",
     "text": [
      "epoch 66/100 | loss 21.13492202758789 | time 18.252376079559326\n"
     ]
    },
    {
     "name": "stderr",
     "output_type": "stream",
     "text": [
      "Epoch 67/100 |: 100%|██████████| 8/8 [00:18<00:00,  2.25s/batch]\n"
     ]
    },
    {
     "name": "stdout",
     "output_type": "stream",
     "text": [
      "epoch 67/100 | loss 21.025362014770508 | time 18.0187087059021\n"
     ]
    },
    {
     "name": "stderr",
     "output_type": "stream",
     "text": [
      "Epoch 68/100 |: 100%|██████████| 8/8 [00:18<00:00,  2.32s/batch]\n"
     ]
    },
    {
     "name": "stdout",
     "output_type": "stream",
     "text": [
      "epoch 68/100 | loss 20.976760864257812 | time 18.58318018913269\n"
     ]
    },
    {
     "name": "stderr",
     "output_type": "stream",
     "text": [
      "Epoch 69/100 |: 100%|██████████| 8/8 [00:18<00:00,  2.27s/batch]\n"
     ]
    },
    {
     "name": "stdout",
     "output_type": "stream",
     "text": [
      "epoch 69/100 | loss 20.890605926513672 | time 18.13117003440857\n"
     ]
    },
    {
     "name": "stderr",
     "output_type": "stream",
     "text": [
      "Epoch 70/100 |: 100%|██████████| 8/8 [00:17<00:00,  2.24s/batch]\n"
     ]
    },
    {
     "name": "stdout",
     "output_type": "stream",
     "text": [
      "epoch 70/100 | loss 20.86811065673828 | time 17.933352947235107\n"
     ]
    },
    {
     "name": "stderr",
     "output_type": "stream",
     "text": [
      "Epoch 71/100 |: 100%|██████████| 8/8 [00:18<00:00,  2.31s/batch]\n"
     ]
    },
    {
     "name": "stdout",
     "output_type": "stream",
     "text": [
      "epoch 71/100 | loss 20.727327346801758 | time 18.515994548797607\n"
     ]
    },
    {
     "name": "stderr",
     "output_type": "stream",
     "text": [
      "Epoch 72/100 |: 100%|██████████| 8/8 [00:18<00:00,  2.29s/batch]\n"
     ]
    },
    {
     "name": "stdout",
     "output_type": "stream",
     "text": [
      "epoch 72/100 | loss 20.677858352661133 | time 18.30551052093506\n"
     ]
    },
    {
     "name": "stderr",
     "output_type": "stream",
     "text": [
      "Epoch 73/100 |: 100%|██████████| 8/8 [00:17<00:00,  2.24s/batch]\n"
     ]
    },
    {
     "name": "stdout",
     "output_type": "stream",
     "text": [
      "epoch 73/100 | loss 20.60679054260254 | time 17.929510593414307\n"
     ]
    },
    {
     "name": "stderr",
     "output_type": "stream",
     "text": [
      "Epoch 74/100 |: 100%|██████████| 8/8 [00:18<00:00,  2.29s/batch]\n"
     ]
    },
    {
     "name": "stdout",
     "output_type": "stream",
     "text": [
      "epoch 74/100 | loss 20.58609962463379 | time 18.319668292999268\n"
     ]
    },
    {
     "name": "stderr",
     "output_type": "stream",
     "text": [
      "Epoch 75/100 |: 100%|██████████| 8/8 [00:18<00:00,  2.30s/batch]\n"
     ]
    },
    {
     "name": "stdout",
     "output_type": "stream",
     "text": [
      "epoch 75/100 | loss 20.51468849182129 | time 18.40676236152649\n"
     ]
    },
    {
     "name": "stderr",
     "output_type": "stream",
     "text": [
      "Epoch 76/100 |: 100%|██████████| 8/8 [00:18<00:00,  2.28s/batch]\n"
     ]
    },
    {
     "name": "stdout",
     "output_type": "stream",
     "text": [
      "epoch 76/100 | loss 20.377050399780273 | time 18.206313610076904\n"
     ]
    },
    {
     "name": "stderr",
     "output_type": "stream",
     "text": [
      "Epoch 77/100 |: 100%|██████████| 8/8 [00:18<00:00,  2.26s/batch]\n"
     ]
    },
    {
     "name": "stdout",
     "output_type": "stream",
     "text": [
      "epoch 77/100 | loss 20.377155303955078 | time 18.063209533691406\n"
     ]
    },
    {
     "name": "stderr",
     "output_type": "stream",
     "text": [
      "Epoch 78/100 |: 100%|██████████| 8/8 [00:18<00:00,  2.33s/batch]\n"
     ]
    },
    {
     "name": "stdout",
     "output_type": "stream",
     "text": [
      "epoch 78/100 | loss 20.244388580322266 | time 18.60857582092285\n"
     ]
    },
    {
     "name": "stderr",
     "output_type": "stream",
     "text": [
      "Epoch 79/100 |: 100%|██████████| 8/8 [00:18<00:00,  2.31s/batch]\n"
     ]
    },
    {
     "name": "stdout",
     "output_type": "stream",
     "text": [
      "epoch 79/100 | loss 20.22287368774414 | time 18.47366452217102\n"
     ]
    },
    {
     "name": "stderr",
     "output_type": "stream",
     "text": [
      "Epoch 80/100 |: 100%|██████████| 8/8 [00:17<00:00,  2.25s/batch]\n"
     ]
    },
    {
     "name": "stdout",
     "output_type": "stream",
     "text": [
      "epoch 80/100 | loss 20.106945037841797 | time 17.979169368743896\n"
     ]
    },
    {
     "name": "stderr",
     "output_type": "stream",
     "text": [
      "Epoch 81/100 |: 100%|██████████| 8/8 [00:18<00:00,  2.28s/batch]\n"
     ]
    },
    {
     "name": "stdout",
     "output_type": "stream",
     "text": [
      "epoch 81/100 | loss 20.117223739624023 | time 18.255573749542236\n"
     ]
    },
    {
     "name": "stderr",
     "output_type": "stream",
     "text": [
      "Epoch 82/100 |: 100%|██████████| 8/8 [00:18<00:00,  2.31s/batch]\n"
     ]
    },
    {
     "name": "stdout",
     "output_type": "stream",
     "text": [
      "epoch 82/100 | loss 20.017183303833008 | time 18.477583169937134\n"
     ]
    },
    {
     "name": "stderr",
     "output_type": "stream",
     "text": [
      "Epoch 83/100 |: 100%|██████████| 8/8 [00:17<00:00,  2.24s/batch]\n"
     ]
    },
    {
     "name": "stdout",
     "output_type": "stream",
     "text": [
      "epoch 83/100 | loss 19.947681427001953 | time 17.945003509521484\n"
     ]
    },
    {
     "name": "stderr",
     "output_type": "stream",
     "text": [
      "Epoch 84/100 |: 100%|██████████| 8/8 [00:17<00:00,  2.24s/batch]\n"
     ]
    },
    {
     "name": "stdout",
     "output_type": "stream",
     "text": [
      "epoch 84/100 | loss 19.907743453979492 | time 17.90779447555542\n"
     ]
    },
    {
     "name": "stderr",
     "output_type": "stream",
     "text": [
      "Epoch 85/100 |: 100%|██████████| 8/8 [00:18<00:00,  2.30s/batch]\n"
     ]
    },
    {
     "name": "stdout",
     "output_type": "stream",
     "text": [
      "epoch 85/100 | loss 19.833833694458008 | time 18.42211389541626\n"
     ]
    },
    {
     "name": "stderr",
     "output_type": "stream",
     "text": [
      "Epoch 86/100 |: 100%|██████████| 8/8 [00:18<00:00,  2.27s/batch]\n"
     ]
    },
    {
     "name": "stdout",
     "output_type": "stream",
     "text": [
      "epoch 86/100 | loss 19.82773780822754 | time 18.1512393951416\n"
     ]
    },
    {
     "name": "stderr",
     "output_type": "stream",
     "text": [
      "Epoch 87/100 |: 100%|██████████| 8/8 [00:17<00:00,  2.21s/batch]\n"
     ]
    },
    {
     "name": "stdout",
     "output_type": "stream",
     "text": [
      "epoch 87/100 | loss 19.619853973388672 | time 17.64326572418213\n"
     ]
    },
    {
     "name": "stderr",
     "output_type": "stream",
     "text": [
      "Epoch 88/100 |: 100%|██████████| 8/8 [00:18<00:00,  2.34s/batch]\n"
     ]
    },
    {
     "name": "stdout",
     "output_type": "stream",
     "text": [
      "epoch 88/100 | loss 19.471363067626953 | time 18.7345027923584\n"
     ]
    },
    {
     "name": "stderr",
     "output_type": "stream",
     "text": [
      "Epoch 89/100 |: 100%|██████████| 8/8 [00:18<00:00,  2.28s/batch]\n"
     ]
    },
    {
     "name": "stdout",
     "output_type": "stream",
     "text": [
      "epoch 89/100 | loss 19.349349975585938 | time 18.224059104919434\n"
     ]
    },
    {
     "name": "stderr",
     "output_type": "stream",
     "text": [
      "Epoch 90/100 |: 100%|██████████| 8/8 [00:17<00:00,  2.24s/batch]\n"
     ]
    },
    {
     "name": "stdout",
     "output_type": "stream",
     "text": [
      "epoch 90/100 | loss 19.25105094909668 | time 17.90454626083374\n"
     ]
    },
    {
     "name": "stderr",
     "output_type": "stream",
     "text": [
      "Epoch 91/100 |: 100%|██████████| 8/8 [00:18<00:00,  2.28s/batch]\n"
     ]
    },
    {
     "name": "stdout",
     "output_type": "stream",
     "text": [
      "epoch 91/100 | loss 19.20840072631836 | time 18.227272510528564\n"
     ]
    },
    {
     "name": "stderr",
     "output_type": "stream",
     "text": [
      "Epoch 92/100 |: 100%|██████████| 8/8 [00:18<00:00,  2.26s/batch]\n"
     ]
    },
    {
     "name": "stdout",
     "output_type": "stream",
     "text": [
      "epoch 92/100 | loss 19.08904266357422 | time 18.118288278579712\n"
     ]
    },
    {
     "name": "stderr",
     "output_type": "stream",
     "text": [
      "Epoch 93/100 |: 100%|██████████| 8/8 [00:18<00:00,  2.26s/batch]\n"
     ]
    },
    {
     "name": "stdout",
     "output_type": "stream",
     "text": [
      "epoch 93/100 | loss 19.065185546875 | time 18.078261137008667\n"
     ]
    },
    {
     "name": "stderr",
     "output_type": "stream",
     "text": [
      "Epoch 94/100 |: 100%|██████████| 8/8 [00:17<00:00,  2.24s/batch]\n"
     ]
    },
    {
     "name": "stdout",
     "output_type": "stream",
     "text": [
      "epoch 94/100 | loss 18.989439010620117 | time 17.947097778320312\n"
     ]
    },
    {
     "name": "stderr",
     "output_type": "stream",
     "text": [
      "Epoch 95/100 |: 100%|██████████| 8/8 [00:18<00:00,  2.30s/batch]\n"
     ]
    },
    {
     "name": "stdout",
     "output_type": "stream",
     "text": [
      "epoch 95/100 | loss 18.95599937438965 | time 18.393491506576538\n"
     ]
    },
    {
     "name": "stderr",
     "output_type": "stream",
     "text": [
      "Epoch 96/100 |: 100%|██████████| 8/8 [00:18<00:00,  2.27s/batch]\n"
     ]
    },
    {
     "name": "stdout",
     "output_type": "stream",
     "text": [
      "epoch 96/100 | loss 18.89863395690918 | time 18.12728261947632\n"
     ]
    },
    {
     "name": "stderr",
     "output_type": "stream",
     "text": [
      "Epoch 97/100 |: 100%|██████████| 8/8 [00:17<00:00,  2.22s/batch]\n"
     ]
    },
    {
     "name": "stdout",
     "output_type": "stream",
     "text": [
      "epoch 97/100 | loss 18.885889053344727 | time 17.795225143432617\n"
     ]
    },
    {
     "name": "stderr",
     "output_type": "stream",
     "text": [
      "Epoch 98/100 |: 100%|██████████| 8/8 [00:18<00:00,  2.26s/batch]\n"
     ]
    },
    {
     "name": "stdout",
     "output_type": "stream",
     "text": [
      "epoch 98/100 | loss 18.83961296081543 | time 18.11105489730835\n"
     ]
    },
    {
     "name": "stderr",
     "output_type": "stream",
     "text": [
      "Epoch 99/100 |: 100%|██████████| 8/8 [00:18<00:00,  2.27s/batch]\n"
     ]
    },
    {
     "name": "stdout",
     "output_type": "stream",
     "text": [
      "epoch 99/100 | loss 18.714792251586914 | time 18.197400093078613\n"
     ]
    },
    {
     "name": "stderr",
     "output_type": "stream",
     "text": [
      "Epoch 100/100 |: 100%|██████████| 8/8 [00:17<00:00,  2.25s/batch]"
     ]
    },
    {
     "name": "stdout",
     "output_type": "stream",
     "text": [
      "epoch 100/100 | loss 18.58608627319336 | time 17.968130826950073\n"
     ]
    },
    {
     "name": "stderr",
     "output_type": "stream",
     "text": [
      "\n"
     ]
    }
   ],
   "source": [
    "#masked input\n",
    "\n",
    "model.train()\n",
    "start_time = time.time()\n",
    "\n",
    "for epoch in range(num_epoch):\n",
    "    epoch_start_time = time.time()\n",
    "    i = 0\n",
    "    loss  = 0\n",
    "    \n",
    "\n",
    "    for batch in tqdm(dataloader, desc=f'Epoch {epoch+1}/{num_epoch} |', unit='batch'):\n",
    "        inputs_shape = batch[\"input_ids\"].shape  # トークンID列    \n",
    "        mask_border_index = inputs_shape[1]//4\n",
    "        masked_inputs = batch[\"input_ids\"][:,1:].clone().to(device)\n",
    "        masked_inputs[:,mask_border_index:] = tokenizer.pad_token_id  # マスクされた入力\n",
    "        \n",
    "        #encoder_input = batch[\"input_ids\"][:,1:].to(device)\n",
    "        decoder_input = batch[\"input_ids\"][:,:-1].to(device)\n",
    "        labels = batch[\"input_ids\"][:,1:].to(device)\n",
    "        labels_one_hot = F.one_hot(labels, num_classes=tokenizer.vocab_size).float()\n",
    "        \n",
    "        out = model(masked_inputs, decoder_input)\n",
    "        loss = criterion(out[0],labels_one_hot[0])\n",
    "        \n",
    "        for h in range(1,len(out)):\n",
    "            loss += criterion(out[h],labels_one_hot[h])\n",
    "        optimizer.zero_grad()\n",
    "        loss.backward()\n",
    "        optimizer.step()\n",
    "        i += 1\n",
    "    \n",
    "    print(f'epoch {epoch+1}/{num_epoch} | loss {loss} | time {time.time()-epoch_start_time}')\n",
    "    outfile = \"models/\" + \"lstmwithatt_\" + \"maskedinput_\" + str(hidden_size) + \"_\" + dataset_name + \"_\" + str(epoch+1) + \".pt\"\n",
    "    torch.save(model.state_dict(),outfile)  \n",
    "    "
   ]
  },
  {
   "cell_type": "markdown",
   "metadata": {},
   "source": [
    "### 生成-プロンプトのトークン化"
   ]
  },
  {
   "cell_type": "code",
   "execution_count": 11,
   "metadata": {},
   "outputs": [
    {
     "data": {
      "text/plain": [
       "(torch.Size([1, 490]),\n",
       " tensor([[ 2973,  3465,    58,  8344,  2729, 13485,  3300, 11913,  1503,  2650,\n",
       "          18858,  4918,  3197, 20006,  3091,  1458,  6462,  3850,  2259, 22554,\n",
       "           2650,  1845,  2873,  1235,   482,  2436,  3465,    58,  8344,  4641,\n",
       "           5528,  1501,  5040, 11913,  1503,  5266,  2024,  4303,  1559,  8208,\n",
       "           3197, 11135,  2731,  3091,  1458,  6462,  2778,  3194,  2290,  1229,\n",
       "           7308, 18991,  3786, 22734,  1502,  9196,  2108,  6167,  4255,  6899,\n",
       "           8341,  3827, 22968,  3911,  2048,  5039,  2254,  7291, 23365,  5517,\n",
       "           2211, 18528,  7858, 18145,  1097, 11482, 22734,  3487,    46,  4187,\n",
       "           6897,  4255, 10990,  4428,  5019,  2018,    41,   382, 22968,   369,\n",
       "          15713, 17062,    41,   365, 18461, 15636,   378,  8341,  7308, 28398,\n",
       "           3081, 26001,    48,   339,  6526,  4104,  5514,  8386,  4668,  1906,\n",
       "           4464,  3406,  6543,  5893,  2561,  1582,  3367,  9282,  4474,  2118,\n",
       "           4111,  2183,  5051,  3394,  8513,  3401,  3296,  1966,  9235,  2025,\n",
       "           2412,  2453,  5656,  3613,  9876,  3091,  1694,  2402,  2078,  5842,\n",
       "           2054,  1905,  3982,  2650,  9845,  1900,  7530,  3613,  9876,  3091,\n",
       "           8386,  3850,  2181,  4464,  1846,  2650, 10754,  1734,  5176,  7360,\n",
       "           3855,  4660,  5021, 22274,  2496,  5040,  4429,  2714,  4103, 16094,\n",
       "          13492, 26238,    42, 22541,  9192,    37, 18844,   346, 13956,    39,\n",
       "          17080,  8374,  5007,  7820, 28398,  3081,   399, 15713,  7067,   304,\n",
       "           9142,  3470,  9146, 12274,    37, 25889, 15712,  4251, 13958,  2852,\n",
       "           3585,  2172, 12952,    37,  8713,  8119,  8090, 25893,  6672,  9509,\n",
       "          11397, 12889,  7520, 20824,  9980,  3824,  8426,  5805,   526, 11519,\n",
       "           7527,  4732,  8703,   384,    47, 11410, 20804,  2289,  4629, 18528,\n",
       "           7858, 18991,  2638, 22734,  1502,    46,  4187,  6167,  4255,  6899,\n",
       "          18167,  1355,  3827,  1259,  2858,  1579,  5963,  2048, 15734,  4088,\n",
       "          23365,  5517,    49,  6671,  2500,  9159,  1613, 15591,  3551,    47,\n",
       "           2532,  6328,  5635,   384, 19837, 15629,  1930, 13844,  9159,  2079,\n",
       "           2342,  1473,   335,  6354,  6916, 18474,    47, 11410, 11445,  5517,\n",
       "             49,  6671,  2500,  9159,  1613, 15591,  3551,    47,  2532,  6328,\n",
       "           5635,  8122,  4720, 17041, 22828, 13844,  3708, 11981,  1486,  3911,\n",
       "          18210,  3057, 18474,    47, 11410, 11445, 16106,    46,  1870,  9878,\n",
       "           9980,  9035,  2493,   337,  4554,  3674, 22518,    39,  5653,  8095,\n",
       "           6324,  6665, 12889,  7520, 20824, 13958,  2853,  6517,  1456, 26251,\n",
       "          22541,  9192,    37,  8122, 15750,  3945,  3962,  4094,    47,  4974,\n",
       "             42, 29987,  3551, 14079, 29721,    42,   384,  1993, 19793,  2656,\n",
       "           8341,  5015,  1936, 22312,  5159,  2048,  5039,  2254,  4088, 23365,\n",
       "           2778, 11913,  1503,  5266, 10895,  4918,  7348, 13447,  5021,  2185,\n",
       "          12093,  3620,  8341,  5015, 18858,  5159, 14079,  4435,  5833,  4088,\n",
       "           3273,  7296,  3181,  8453,  1339, 15465,  6543, 18991,  3786, 29738,\n",
       "           9829, 18256,  1732,  2656,  1906, 18188,  3743,  2359,  2561,  2086,\n",
       "           3354,  7360, 18548,  3091,  3834,  5020,  2078,  6507,  4094, 24120,\n",
       "           7243,  6189,  2503,  1734, 14734,   236,  7348,  1695, 19787,   384,\n",
       "           3273,  7372,  2518,   301,  3962,  5239,  4835,   230,  2930,  5251,\n",
       "           6878,    53,  1704,  1456,   796, 21606, 10457,   972,  2958,  1506,\n",
       "           2077,  1266,  1397, 25507, 25219, 13461, 13343, 27811,  1671,  4712,\n",
       "            438,   880,   309,   646, 12723, 12047,  7683,   544,   230, 26603,\n",
       "           3461,   821,  6641,  6454, 21859,  1171, 25164,   748,   331, 21864,\n",
       "            713, 21220,   853,   234,  1457,  3525,   784,   682,  8575,    44,\n",
       "           2385,  2485,   577,  5538,  1482,    46,  1031,    49, 13333,  1211]]))"
      ]
     },
     "execution_count": 11,
     "metadata": {},
     "output_type": "execute_result"
    }
   ],
   "source": [
    "# 入力トークン列の例\n",
    "prompt = (\"prompt/piano1_only_bach_850.mid\")\n",
    "\n",
    "input_ids = torch.tensor([tokenizer(prompt)]).to(device)\n",
    "input_ids.shape, input_ids"
   ]
  },
  {
   "cell_type": "markdown",
   "metadata": {},
   "source": [
    "生成"
   ]
  },
  {
   "cell_type": "code",
   "execution_count": 17,
   "metadata": {},
   "outputs": [
    {
     "name": "stderr",
     "output_type": "stream",
     "text": [
      "/var/folders/7f/fjwjx3xd5mbf2t9x4r4k4__00000gn/T/ipykernel_21876/1712198453.py:3: FutureWarning: You are using `torch.load` with `weights_only=False` (the current default value), which uses the default pickle module implicitly. It is possible to construct malicious pickle data which will execute arbitrary code during unpickling (See https://github.com/pytorch/pytorch/blob/main/SECURITY.md#untrusted-models for more details). In a future release, the default value for `weights_only` will be flipped to `True`. This limits the functions that could be executed during unpickling. Arbitrary objects will no longer be allowed to be loaded via this mode unless they are explicitly allowlisted by the user via `torch.serialization.add_safe_globals`. We recommend you start setting `weights_only=True` for any use case where you don't have full control of the loaded file. Please open an issue on GitHub for any issues related to this experimental feature.\n",
      "  model.load_state_dict(torch.load(\"lstmwithatt_better.model\",map_location=torch.device('cpu')))\n"
     ]
    },
    {
     "name": "stdout",
     "output_type": "stream",
     "text": [
      "[6877, 17955, 1735, 19508, 11337, 29262, 6373, 1889, 8018, 6877, 1889, 15789, 7996, 8825, 23004, 9739, 9848, 7027, 9896, 1660, 5685, 2781, 17888, 4171, 11835, 5685, 16650, 2781, 17888, 555, 11337, 7674, 12799, 13156, 17888, 3363, 11337, 15210, 17888, 17888, 17888, 23004, 5718, 17497, 17888, 4879, 8185, 20484, 25, 10102, 19377, 19508, 4879, 1889, 12032, 885, 14379, 258, 22701, 17888, 17888, 2351, 11337, 18558, 4697, 4989, 12558, 10102, 15789, 15640, 6023, 15210, 17888, 17888, 16654, 909, 4582, 4879, 1889, 17888, 17888, 17888, 17888, 17888, 17888, 17888, 17888, 17888, 17888, 17888, 17888, 17888, 17888, 17888, 17888, 17888, 17888, 17888, 17888, 17888, 17888, 17888, 17888, 17888, 17888, 17888, 17888, 17888, 17888, 17888, 17888, 17888, 17888, 17888, 17888, 17888, 17888, 17888, 17888, 17888, 17888, 17888, 17888, 17888, 17888, 17888, 17888, 17888, 17888, 17888, 17888, 17888, 17888, 17888, 17888, 17888, 17888, 17888, 17888, 17888, 17888, 17888, 17888, 17888, 17888, 17888, 17888, 17888, 17888, 17888, 17888, 17888, 17888, 17888, 17888, 17888, 17888, 11337, 29016, 5718, 20484, 3149, 10102, 12799, 17888, 1889, 17888, 17888, 17888, 17888, 17888, 17888, 17888, 17888, 17888, 17888, 17888, 17888, 17888, 17888, 17888, 17888, 17888, 17888, 17888, 9896, 26813, 20484, 4910, 18060, 26813, 287, 11337, 6327, 23057, 26446, 1889, 7996, 8644, 2617, 11337, 22808, 12799, 10644, 12266, 1889, 4387, 2781, 1356, 11337, 29016, 11337, 28593, 287, 15837, 15789, 12799, 909, 17888, 17888, 11903, 10102, 2108, 18872, 26813, 2351, 1327, 4879, 8018, 10102, 12266, 16786, 921, 10102, 23261, 10102, 26780, 15661, 1889, 1889, 1356, 11337, 22808, 12799, 10102, 15611, 20484, 22115, 17955, 2617, 11337, 22808, 6373, 8514, 8018, 26813, 29016, 2781, 27451, 8942, 4171, 18942, 220, 17888, 17888, 2351, 11337, 28593, 9131, 287, 11337, 3895, 6849, 10102, 20479, 4879, 1446, 3876, 17888, 8018, 11337, 1188, 7575, 26813, 22808, 11337, 993, 26619, 26619, 26523, 513, 1889, 14379, 3895, 3895, 3895, 3895, 3895, 8444, 9586, 14128, 21708, 4202, 806, 17888, 6877, 1889, 14379, 20479, 15629, 29262, 287, 3577, 27281, 8639, 12799, 21634, 1889, 3150, 1889, 17888, 5743, 5743, 2351, 11337, 3080, 21634, 16681, 10102, 12799, 18696, 22701, 12799, 1157, 885, 17888, 15789, 9515, 19531, 13244, 12266, 8460, 6398, 22943, 10102, 600, 4879, 1446, 24822, 3577, 20484, 15210, 18060, 1889, 448, 1327, 26619, 14895, 18592, 9291, 4171, 28593, 10102, 14487, 19508, 3080, 14379, 22701, 14997, 28256, 11596, 27451, 4694, 5743, 2617, 17888, 17888, 23004, 22808, 12799, 3577, 12799, 17888, 1889, 17888, 5743, 5743, 258, 10102, 1191, 20484, 9415, 15453, 11337, 5743, 17888, 11337, 15789, 3895, 17050, 5718, 10102, 12799, 17302, 20479, 1889, 14250, 2781, 6873, 1889, 8018, 21634, 8385, 26619, 9308, 6373, 22808, 18560, 1327, 28372, 10102, 1997, 3876, 17888, 29262, 11337, 28593, 11337, 26475, 3895, 9273, 17302, 21651, 1169, 7088, 4171, 22115, 12266, 7027, 21708, 9896, 20894, 20484, 6877, 16681, 10102, 27281, 27933, 20479, 7261, 8825, 11724, 16650, 590, 15210, 7660, 220, 1169, 10102, 16786, 8209, 4989, 10102, 10334, 3876, 284, 17888, 17888, 20484, 22020, 20484, 2548, 23261, 20484, 20335, 17497, 17888, 11337, 5132, 7632, 6877, 17050, 4989, 10102, 26504, 12279, 7575, 10102, 11692, 4879, 29016, 26619, 14895, 4387, 17974, 18233, 11337, 15611, 4989, 8514, 18813, 23261, 3577, 6873, 23261, 2946, 7674, 16650, 885, 8825, 5743, 2351, 11337, 3080, 8650, 17890, 4182, 258, 258, 220, 11337, 1889, 11337, 15789, 1889, 1889, 3080, 10644, 1889, 1889, 1889, 6787, 12266, 714, 6767, 15661, 2745, 1889, 1889, 20077, 20484, 10102, 6107, 8825, 16264, 20484, 6505, 13244, 20484, 20484, 10514, 8359, 17497, 1889, 17888, 17888, 16654, 11596, 17888, 17888, 17888, 2351, 11337, 11596, 17497, 17888, 17888, 17888, 2559, 20077, 18592, 8018, 1327, 12514, 20077, 6877, 5743, 2617, 17888, 17888, 14128, 21708, 806, 11337, 22808, 29016, 15306, 12049, 23014, 3577, 1889, 17888, 9896, 6200, 20484, 2505, 580, 17888, 17888, 17888, 17888, 17888, 17888, 17888, 17888, 9896, 26813, 10473, 17888, 17888, 2351, 9131, 11596, 17888, 6373, 8514, 14961, 8183, 6877, 3577, 16264, 15661, 5736, 1889, 17888, 17888, 24523, 6873, 600, 28593, 14379, 22337, 3080, 7380, 17888, 2781, 11337, 11596, 11065, 17888, 17888, 9896, 6571, 10102, 4188, 10102, 21634, 1502, 220, 14895, 21259, 23014, 13156, 27764, 20077, 8564, 220, 11337, 22808, 12799, 909, 909, 17888, 12279, 9896, 2351, 12799, 17888, 1889, 13101, 8514, 8018, 17711, 9848, 7575, 6161, 18312, 15614, 27451, 10102, 8634, 12266, 21480, 21708, 28593, 14379, 6023, 14379, 6023, 14895, 16875, 1997, 4879, 8018, 19235, 3363, 1889, 14379, 909, 11337, 15789, 9515, 19531, 12678, 22115, 16681, 13244, 3798, 12266, 17888, 5743, 11337, 15789, 11337, 22808, 12799, 10102, 15611, 20484, 29016, 11337, 4251, 10644, 22808, 1889, 17888, 16654, 12799, 26619, 8460, 3876, 17888, 17888, 17050, 12266, 2921, 19508, 4879, 14250, 11337, 1667, 11337, 1889, 11337, 4337, 885, 6873, 11596, 26813, 21500, 6301, 10102, 21708, 17888, 17974, 11337, 3895, 3895, 12032, 17888, 2816, 1188, 3080, 17974, 11337, 3080, 21634, 3798, 16681, 1327, 12279, 8018, 11337, 9739, 16650, 1735, 5743, 5743, 7249, 14128, 3577, 14379, 12279, 8018, 11337, 12266, 11337, 5718, 11337, 4879, 5685, 18025, 11181, 10974, 23880, 5549, 2524, 22891, 3363, 7660, 2781, 17888, 1889, 11337, 15789, 3080, 20077, 6877, 22808, 16264, 27624, 792, 4171, 16264, 27624, 29016, 3577, 27451, 4879, 12657, 5685, 9633, 21137, 29315, 4879, 14128, 10647, 8209, 19235, 4337, 2781, 1356, 9131, 4337, 982, 10102, 12678, 3577, 27281, 22924, 17955, 8825, 23004, 12279, 8018, 11337, 9739, 10102, 12799, 1660, 8639, 9131, 5718, 17888, 3577, 993, 26619, 14379, 1191, 11337, 4879, 714, 11337, 17050, 8634, 3080, 7380, 12520, 20077, 17888, 26813, 284, 17888, 11337, 3080, 20077, 15306, 17888, 17888, 7617, 16650, 2781, 12799, 8846, 4997, 18592, 25570, 17888, 2108, 3895, 21708, 17888, 21420, 12799, 220, 20484, 6877, 17888, 9739, 11337, 8868, 11337, 22808, 12799, 12035, 285, 20484, 600, 3950, 13101, 12279, 20077, 11337, 9739, 1047, 11337, 4879, 1774, 15789, 17888, 28593, 11337, 22115, 16389, 12183, 1188, 7575, 600, 7575, 27580, 15937, 13812, 1889, 17888, 17888, 17888, 17888, 17888, 17888, 17888, 17888, 17888, 17888, 17888, 17888, 17888, 17888, 17888, 17888, 17888, 17888, 17888, 17888, 17888, 17888, 17888, 17888, 17888, 3003, 15372, 4694, 11337, 11596, 20484, 12279, 10102, 12481, 10102, 16773, 10514, 26447, 5718, 8514, 8018, 11337, 5718, 11337, 15789, 993, 26619, 26619, 3274, 18025, 11337, 3363, 20484, 993, 1007, 22808, 16650, 885, 3363, 22808, 29016, 825, 12266, 17888, 993, 26619, 16650, 17711, 11338, 7674, 6337, 885, 3363, 15789, 26813, 12713, 21708, 21420, 9515, 21634, 10102, 12266, 15453, 11337, 1889, 982, 22808, 806, 11337, 22808, 1889, 4171, 16654, 11337, 11596, 907, 9515, 27281, 15210, 27451, 15611, 26813, 792, 4171, 580, 17888, 17888, 17888, 17888, 17888, 17888, 17888, 17888, 17888, 17888, 17888, 9896, 27281, 5743, 287, 17888, 5743, 17888, 9896, 3501, 9131, 3363, 7660, 12266, 11337, 993, 4335, 17888, 4251, 885, 20484, 4684, 26813, 15611, 1889, 20077, 5705, 12713, 1191, 12266, 21480, 26619, 14895, 15967, 5718, 258, 17888, 1356, 11337, 29016, 11337, 28593, 14379, 6023, 6327, 11337, 9739, 6373, 20484, 27, 20484, 555, 10102, 16773, 8825, 6873, 15902, 258, 356, 26813, 287, 11337, 6327, 4989, 5743, 17888, 17888, 11337, 15611, 19387, 7139, 20484, 4910, 11337, 22808, 12799, 927, 9515, 9515, 29016, 3577, 1889, 12799, 17888, 1889, 17888, 5743, 5743, 20484, 2397, 982, 16786, 4392, 1327, 26619, 3274, 258, 258, 1085, 11337, 5718, 11337, 3080, 27005, 6327, 11337, 8514, 15453, 11337, 11596, 285, 22701, 17888, 5980, 10102, 14961, 1889, 1889, 16654, 11337, 14961, 600, 8942, 6161, 28593, 10102, 4171, 5718, 20484, 8825, 27580, 25451, 1735, 10102, 11692, 3577, 20479, 1950, 9896, 9131, 555, 27451, 9131, 3080, 8650, 1735, 22808, 12799, 10102, 29016, 1327, 11337, 4879, 11546, 4392, 1889, 12799, 26619, 2946, 12279, 20127, 3895, 9273, 26619, 26619, 13156, 11337, 3080, 14379, 17973, 12514, 3577, 14379, 10102, 15611, 15789, 3080, 23038, 17888, 17888, 11337, 22808, 12799, 8846, 1889, 17888, 17888, 17888, 1830, 12049, 26813, 284, 9896, 17888, 9896, 9896, 982, 11337, 600, 7996, 7996, 27933, 982, 11337, 19531, 11465, 10102, 20696, 20783, 2074, 23726, 4989, 3896, 15789, 10102, 4188, 11337, 19508, 4582, 15661, 6877, 17888, 5132, 1889, 3577, 10102, 6337, 1889, 17098, 11337, 23014, 20329, 25205, 21708, 14128, 6772, 15306, 17888, 3577, 1889, 600, 1211, 17888, 17888, 5743, 20484, 12279, 9896, 17888, 9896, 9896, 6213, 11596, 20484, 4910, 18060, 5718, 600, 287, 9415, 10102, 27580, 11596, 9848, 11337, 28266, 10647, 12266, 11337, 7996, 15611, 23004, 2351, 17888, 1889, 14250, 1735, 5089, 12266, 11337, 1889, 6925, 4392, 3577, 6161, 600, 71, 17888, 26813, 2207, 11065, 1889, 927, 6327, 27082, 26813, 12266, 18872, 5743, 17888, 2351, 11337, 11596, 17888, 11337, 15789, 12799, 909, 890, 1889, 19235, 580, 7617, 26619, 12279, 16569, 11337, 5718, 11337, 15789, 4392, 12799, 909, 258, 258, 220, 17888, 12799, 1157, 982, 17888, 6873, 1889, 11337, 15789, 29016, 17974, 1889, 14250, 11337, 12266, 11337, 3080, 21634, 17955, 258, 17888, 17888, 11337, 15789, 27281, 26475, 22115, 8825, 4989, 10102, 22808, 1889, 17711, 17888, 15210, 1735, 10102, 27281, 1735, 8846, 4787, 27764, 287, 5743, 11337, 6327, 2108, 10102, 12799, 26619, 15139, 17888, 27933, 3581, 11337, 5132, 15629, 22115, 1889, 4989, 1889, 17888, 6373, 28593, 9896, 8018, 8574, 1188, 1188, 17888, 3577, 12799, 14998, 11337, 15611, 7139, 20484, 10102, 27281, 14276, 12799, 17888, 17888, 17888, 17888, 17888, 17888, 17888, 6031, 10102, 1238, 10102, 28477, 4582, 18312, 15614, 2281, 2281, 2281, 2281, 2281, 2281, 2281, 2281, 2281, 2281, 2281, 2281, 2281, 2281, 2281, 2281, 2281, 2281, 2281, 2281, 1327, 17888, 17888, 17888, 17888, 28593, 21708, 12514, 14379, 17050, 11596, 17888, 10102, 8634, 1327, 26619, 14895, 6327, 2108, 29315, 9131, 11581, 12799, 17888, 1889, 1356, 9896, 11337, 15789, 26813, 12266, 9896, 21708, 7575, 6161, 29436, 17497, 600, 7575, 21708, 21420, 11596, 20484, 2600, 10102, 20484, 12266, 10102, 12799, 26619, 21259, 19508, 18476, 7261, 258, 17888, 7121, 600, 15629, 5718, 20484, 1889, 16786, 1327, 17888, 5718, 11337, 28593, 26619, 26190, 26619, 24830, 20479, 4879, 7996, 27933, 982, 11337, 3080, 20077, 29455, 1327, 26619, 26619, 28242, 6327, 14282, 12279, 8018, 11337, 9739, 9496, 258, 13812, 4232, 11337, 20479, 17888, 3363, 11337, 11596, 285, 10975, 9930, 5718, 20484, 11465, 10102, 27281, 12678, 28593, 734, 600, 1188, 11337, 11596, 12799, 885, 17888, 11337, 22808, 12799, 17888, 1889, 17888, 5743, 5743, 17888, 2351, 11337, 11596, 4171, 17888, 17888, 17888, 11337, 29016, 11337, 3080, 20077, 15306, 1735, 2781, 27580, 4392, 12799, 26619, 5369, 27933, 3581, 27033, 3876, 17888, 4989, 17888, 4989, 11337, 4879, 1116, 3577, 14379, 22701, 4879, 5685, 14379, 3876, 17888, 2816, 3080, 1889, 8018, 1435, 1889, 21651, 258, 26619, 23880, 3876, 7575, 17888, 2351, 11337, 3080, 26475, 1667, 17888, 21708, 2781, 11337, 1889, 15937, 12799, 12799, 14961, 1889, 17888, 17888, 26221, 287, 11337, 22808, 12799, 17888, 5743, 5743, 2351, 11337, 3080, 21634, 16681, 10102, 12799, 18696, 22701, 12799, 1157, 885, 17888, 15789, 9515, 19531, 13244, 12266, 8460, 6398, 22943, 10102, 600, 4879, 1446, 24822, 3577, 20484, 15210, 18060, 1889, 448, 1327, 26619, 14895, 18592, 9291, 4171, 28593, 10102, 14487, 19508, 3080, 14379, 22701, 14997, 28256, 11596, 27451, 4694, 5743, 2617, 17888, 17888, 23004, 22808, 12799, 3577, 12799, 17888, 1889, 17888, 5743, 5743, 258, 10102, 1191, 20484, 9415, 15453, 11337, 5743, 17888, 11337, 15789, 3895, 17050, 5718, 10102, 12799, 17302, 20479, 1889, 14250, 2781, 6873, 1889, 8018, 21634, 8385, 26619, 9308, 6373, 22808, 18560, 1327, 28372, 10102, 1997, 3876, 17888, 29262, 11337, 28593, 11337, 26475, 3895, 9273, 17302, 21651, 1169, 7088, 4171, 22115, 12266, 7027, 21708, 9896, 20894, 20484, 6877, 16681, 10102, 27281, 27933, 20479, 7261, 8825, 11724, 16650, 590, 15210, 7660, 220, 1169, 10102, 16786, 8209, 4989, 10102, 10334, 3876, 284, 17888, 17888, 20484, 22020, 20484, 2548, 23261, 20484, 20335, 17497, 17888, 11337, 5132, 7632, 6877, 17050, 4989, 10102, 26504, 12279, 7575, 10102, 11692, 4879, 29016, 26619, 14895, 4387, 17974, 18233, 11337, 15611, 4989, 8514, 18813, 23261, 3577, 6873, 23261, 2946, 7674, 16650, 885, 8825, 5743, 2351, 11337, 3080, 8650, 17890, 4182, 258, 258, 220, 11337, 1889, 11337, 15789, 1889, 1889, 3080, 10644, 1889, 1889, 1889, 6787, 12266, 714, 6767, 15661, 2745, 1889, 1889, 20077, 20484, 10102, 6107, 8825, 16264, 20484, 6505, 13244, 20484, 20484, 10514, 8359, 17497, 1889, 17888, 17888, 16654, 11596, 17888, 17888, 17888, 2351, 11337, 11596, 17497, 17888, 17888, 17888, 2559, 20077, 18592, 8018, 1327, 12514, 20077, 6877, 5743, 2617, 17888, 17888, 14128, 21708, 806, 11337, 22808, 29016, 15306, 12049, 23014, 3577, 1889, 17888, 9896, 6200, 20484, 2505, 580, 17888, 17888, 17888, 17888, 17888, 17888, 17888, 17888, 9896, 26813, 10473, 17888, 17888, 2351, 9131, 11596, 17888, 6373, 8514, 14961, 8183, 6877, 3577, 16264, 15661, 5736, 1889, 17888, 17888, 24523, 6873, 600]\n"
     ]
    }
   ],
   "source": [
    "# Generate a MIDI file\n",
    "\n",
    "model.load_state_dict(torch.load(\"lstmwithatt_better.model\",map_location=torch.device('cpu')))\n",
    "\n",
    "\n",
    "#torch.set_printoptions(threshold=torch.inf)\n",
    "model.eval()\n",
    "\n",
    "gen_token = []\n",
    "\n",
    "with torch.no_grad():\n",
    "    #prompt_input = torch.LongTensor( input_ids ).to(device)\n",
    "    #print(input_ids.shape)\n",
    "    x = model.input_emb(input_ids)\n",
    "    #print(x.shape)\n",
    "    ox, (hnx, cnx) = model.lstm1(x)\n",
    "    #print(ox.shape, hnx.shape,cnx.shape)\n",
    "    hnx, cnx = hnx[:,0,:], cnx[:,0,:]\n",
    "    \n",
    "    wid = input_ids[0][0]\n",
    "    \n",
    "    sl = 0\n",
    "    while True:\n",
    "        wids = torch.LongTensor([wid]).to(device)\n",
    "        y = model.answer_emb(wids)\n",
    "        #print(y.shape)\n",
    "        \n",
    "        oy, (hnx, cnx) = model.lstm2(y, (hnx, cnx))\n",
    "        oy = oy.unsqueeze(1)\n",
    "        ox1 = ox.permute(0,2,1)\n",
    "        sim = torch.bmm(oy,ox1)\n",
    "        bs, yws, xws = sim.shape\n",
    "        sim2 = sim.reshape(bs*yws,xws)\n",
    "        alpha = F.softmax(sim2,dim=1).reshape(bs, yws, xws)\n",
    "        ct = torch.bmm(alpha,ox)\n",
    "        oy1 = torch.cat([ct,oy],dim=2)\n",
    "        oy2 = model.Wc(oy1)\n",
    "        oy3 = model.W(oy2)\n",
    "        wid = torch.argmax(oy3[0]).item()\n",
    "        gen_token.append(wid)\n",
    "        #if (wid == esid):\n",
    "            #break\n",
    "        if (sl == 2000):\n",
    "            break\n",
    "        sl += 1\n",
    "    print(gen_token)"
   ]
  },
  {
   "cell_type": "code",
   "execution_count": 16,
   "metadata": {},
   "outputs": [
    {
     "name": "stdout",
     "output_type": "stream",
     "text": [
      "Generated MIDI Tokens: Score(ttype=Tick, tpq=8, begin=0, end=3170, tracks=1, notes=1848, time_sig=1, key_sig=0, markers=0)\n",
      "generated_test_1734311796.2703722.mid\n"
     ]
    }
   ],
   "source": [
    "generated = tokenizer.decode(gen_token)\n",
    "print(\"Generated MIDI Tokens:\", generated)\n",
    "generated_time = str(time.time())\n",
    "\n",
    "generated.dump_midi(\"generated_test_\"+ generated_time +\".mid\")\n",
    "print(\"generated_test_\"+ generated_time +\".mid\")"
   ]
  },
  {
   "cell_type": "markdown",
   "metadata": {},
   "source": [
    "## Trasformerによる学習，生成"
   ]
  },
  {
   "cell_type": "markdown",
   "metadata": {},
   "source": [
    "### 学習パラメータの設定"
   ]
  },
  {
   "cell_type": "code",
   "execution_count": 10,
   "metadata": {},
   "outputs": [],
   "source": [
    "from transformers import GPT2Config, GPT2LMHeadModel\n",
    "\n",
    "\n",
    "config = GPT2Config(\n",
    "    vocab_size=tokenizer.vocab_size,\n",
    "    n_positions=1024,\n",
    "    n_ctx=1024,\n",
    "    n_embd=256,\n",
    "    n_layer=4,\n",
    "    n_head=4,\n",
    "    \n",
    "    bos_token_id=tokenizer[\"BOS_None\"],\n",
    "    eos_token_id=tokenizer[\"EOS_None\"],\n",
    "    pad_token_id=tokenizer.pad_token_id\n",
    "    \n",
    "    )\n",
    "\n",
    "model = GPT2LMHeadModel(config).to(device)\n",
    "\n",
    "# 損失関数とオプティマイザ\n",
    "criterion = torch.nn.CrossEntropyLoss()  # トークンの予測タスクに使う\n",
    "optimizer = torch.optim.AdamW(model.parameters(), lr=5e-5)  # 適切な学習率を設定"
   ]
  },
  {
   "cell_type": "markdown",
   "metadata": {},
   "source": [
    "### 学習"
   ]
  },
  {
   "cell_type": "code",
   "execution_count": 27,
   "metadata": {},
   "outputs": [
    {
     "name": "stderr",
     "output_type": "stream",
     "text": [
      "Epoch 1/300: 100%|██████████| 29/29 [00:15<00:00,  1.85it/s]\n"
     ]
    },
    {
     "name": "stdout",
     "output_type": "stream",
     "text": [
      "Epoch 1/300 - Loss: 4.4964\n"
     ]
    },
    {
     "name": "stderr",
     "output_type": "stream",
     "text": [
      "Epoch 2/300: 100%|██████████| 29/29 [00:15<00:00,  1.86it/s]\n"
     ]
    },
    {
     "name": "stdout",
     "output_type": "stream",
     "text": [
      "Epoch 2/300 - Loss: 4.4984\n"
     ]
    },
    {
     "name": "stderr",
     "output_type": "stream",
     "text": [
      "Epoch 3/300: 100%|██████████| 29/29 [00:15<00:00,  1.89it/s]\n"
     ]
    },
    {
     "name": "stdout",
     "output_type": "stream",
     "text": [
      "Epoch 3/300 - Loss: 4.4974\n"
     ]
    },
    {
     "name": "stderr",
     "output_type": "stream",
     "text": [
      "Epoch 4/300:  24%|██▍       | 7/29 [00:03<00:12,  1.76it/s]\n"
     ]
    },
    {
     "ename": "KeyboardInterrupt",
     "evalue": "",
     "output_type": "error",
     "traceback": [
      "\u001b[1;31m---------------------------------------------------------------------------\u001b[0m",
      "\u001b[1;31mKeyboardInterrupt\u001b[0m                         Traceback (most recent call last)",
      "Cell \u001b[1;32mIn[27], line 10\u001b[0m\n\u001b[0;32m      7\u001b[0m model\u001b[38;5;241m.\u001b[39mtrain()  \u001b[38;5;66;03m# モデルを学習モードに切り替え\u001b[39;00m\n\u001b[0;32m      8\u001b[0m total_loss \u001b[38;5;241m=\u001b[39m \u001b[38;5;241m0\u001b[39m\n\u001b[1;32m---> 10\u001b[0m \u001b[38;5;28;01mfor\u001b[39;00m batch \u001b[38;5;129;01min\u001b[39;00m tqdm(dataloader, desc\u001b[38;5;241m=\u001b[39m\u001b[38;5;124mf\u001b[39m\u001b[38;5;124m\"\u001b[39m\u001b[38;5;124mEpoch \u001b[39m\u001b[38;5;132;01m{\u001b[39;00mepoch\u001b[38;5;241m+\u001b[39m\u001b[38;5;241m1\u001b[39m\u001b[38;5;132;01m}\u001b[39;00m\u001b[38;5;124m/\u001b[39m\u001b[38;5;132;01m{\u001b[39;00mepochs\u001b[38;5;132;01m}\u001b[39;00m\u001b[38;5;124m\"\u001b[39m):\n\u001b[0;32m     11\u001b[0m \u001b[38;5;250m    \u001b[39m\u001b[38;5;124;03m'''inputs_shape = batch[\"input_ids\"].shape  # トークンID列    \u001b[39;00m\n\u001b[0;32m     12\u001b[0m \u001b[38;5;124;03m    \u001b[39;00m\n\u001b[0;32m     13\u001b[0m \u001b[38;5;124;03m    \u001b[39;00m\n\u001b[1;32m   (...)\u001b[0m\n\u001b[0;32m     18\u001b[0m \u001b[38;5;124;03m    \u001b[39;00m\n\u001b[0;32m     19\u001b[0m \u001b[38;5;124;03m    labels = batch[\"labels\"][:,:-1].to(device)    # 正解ラベル'''\u001b[39;00m\n\u001b[0;32m     20\u001b[0m     attention_mask \u001b[38;5;241m=\u001b[39m batch[\u001b[38;5;124m\"\u001b[39m\u001b[38;5;124mattention_mask\u001b[39m\u001b[38;5;124m\"\u001b[39m]\u001b[38;5;241m.\u001b[39mto(device)  \u001b[38;5;66;03m# マスク（任意）\u001b[39;00m\n",
      "File \u001b[1;32m~\\AppData\\Roaming\\Python\\Python39\\site-packages\\tqdm\\std.py:1182\u001b[0m, in \u001b[0;36mtqdm.__iter__\u001b[1;34m(self)\u001b[0m\n\u001b[0;32m   1179\u001b[0m time \u001b[38;5;241m=\u001b[39m \u001b[38;5;28mself\u001b[39m\u001b[38;5;241m.\u001b[39m_time\n\u001b[0;32m   1181\u001b[0m \u001b[38;5;28;01mtry\u001b[39;00m:\n\u001b[1;32m-> 1182\u001b[0m     \u001b[38;5;28;01mfor\u001b[39;00m obj \u001b[38;5;129;01min\u001b[39;00m iterable:\n\u001b[0;32m   1183\u001b[0m         \u001b[38;5;28;01myield\u001b[39;00m obj\n\u001b[0;32m   1184\u001b[0m         \u001b[38;5;66;03m# Update and possibly print the progressbar.\u001b[39;00m\n\u001b[0;32m   1185\u001b[0m         \u001b[38;5;66;03m# Note: does not call self.update(1) for speed optimisation.\u001b[39;00m\n",
      "File \u001b[1;32m~\\AppData\\Roaming\\Python\\Python39\\site-packages\\torch\\utils\\data\\dataloader.py:630\u001b[0m, in \u001b[0;36m_BaseDataLoaderIter.__next__\u001b[1;34m(self)\u001b[0m\n\u001b[0;32m    627\u001b[0m \u001b[38;5;28;01mif\u001b[39;00m \u001b[38;5;28mself\u001b[39m\u001b[38;5;241m.\u001b[39m_sampler_iter \u001b[38;5;129;01mis\u001b[39;00m \u001b[38;5;28;01mNone\u001b[39;00m:\n\u001b[0;32m    628\u001b[0m     \u001b[38;5;66;03m# TODO(https://github.com/pytorch/pytorch/issues/76750)\u001b[39;00m\n\u001b[0;32m    629\u001b[0m     \u001b[38;5;28mself\u001b[39m\u001b[38;5;241m.\u001b[39m_reset()  \u001b[38;5;66;03m# type: ignore[call-arg]\u001b[39;00m\n\u001b[1;32m--> 630\u001b[0m data \u001b[38;5;241m=\u001b[39m \u001b[38;5;28;43mself\u001b[39;49m\u001b[38;5;241;43m.\u001b[39;49m\u001b[43m_next_data\u001b[49m\u001b[43m(\u001b[49m\u001b[43m)\u001b[49m\n\u001b[0;32m    631\u001b[0m \u001b[38;5;28mself\u001b[39m\u001b[38;5;241m.\u001b[39m_num_yielded \u001b[38;5;241m+\u001b[39m\u001b[38;5;241m=\u001b[39m \u001b[38;5;241m1\u001b[39m\n\u001b[0;32m    632\u001b[0m \u001b[38;5;28;01mif\u001b[39;00m \u001b[38;5;28mself\u001b[39m\u001b[38;5;241m.\u001b[39m_dataset_kind \u001b[38;5;241m==\u001b[39m _DatasetKind\u001b[38;5;241m.\u001b[39mIterable \u001b[38;5;129;01mand\u001b[39;00m \\\n\u001b[0;32m    633\u001b[0m         \u001b[38;5;28mself\u001b[39m\u001b[38;5;241m.\u001b[39m_IterableDataset_len_called \u001b[38;5;129;01mis\u001b[39;00m \u001b[38;5;129;01mnot\u001b[39;00m \u001b[38;5;28;01mNone\u001b[39;00m \u001b[38;5;129;01mand\u001b[39;00m \\\n\u001b[0;32m    634\u001b[0m         \u001b[38;5;28mself\u001b[39m\u001b[38;5;241m.\u001b[39m_num_yielded \u001b[38;5;241m>\u001b[39m \u001b[38;5;28mself\u001b[39m\u001b[38;5;241m.\u001b[39m_IterableDataset_len_called:\n",
      "File \u001b[1;32m~\\AppData\\Roaming\\Python\\Python39\\site-packages\\torch\\utils\\data\\dataloader.py:673\u001b[0m, in \u001b[0;36m_SingleProcessDataLoaderIter._next_data\u001b[1;34m(self)\u001b[0m\n\u001b[0;32m    671\u001b[0m \u001b[38;5;28;01mdef\u001b[39;00m \u001b[38;5;21m_next_data\u001b[39m(\u001b[38;5;28mself\u001b[39m):\n\u001b[0;32m    672\u001b[0m     index \u001b[38;5;241m=\u001b[39m \u001b[38;5;28mself\u001b[39m\u001b[38;5;241m.\u001b[39m_next_index()  \u001b[38;5;66;03m# may raise StopIteration\u001b[39;00m\n\u001b[1;32m--> 673\u001b[0m     data \u001b[38;5;241m=\u001b[39m \u001b[38;5;28;43mself\u001b[39;49m\u001b[38;5;241;43m.\u001b[39;49m\u001b[43m_dataset_fetcher\u001b[49m\u001b[38;5;241;43m.\u001b[39;49m\u001b[43mfetch\u001b[49m\u001b[43m(\u001b[49m\u001b[43mindex\u001b[49m\u001b[43m)\u001b[49m  \u001b[38;5;66;03m# may raise StopIteration\u001b[39;00m\n\u001b[0;32m    674\u001b[0m     \u001b[38;5;28;01mif\u001b[39;00m \u001b[38;5;28mself\u001b[39m\u001b[38;5;241m.\u001b[39m_pin_memory:\n\u001b[0;32m    675\u001b[0m         data \u001b[38;5;241m=\u001b[39m _utils\u001b[38;5;241m.\u001b[39mpin_memory\u001b[38;5;241m.\u001b[39mpin_memory(data, \u001b[38;5;28mself\u001b[39m\u001b[38;5;241m.\u001b[39m_pin_memory_device)\n",
      "File \u001b[1;32m~\\AppData\\Roaming\\Python\\Python39\\site-packages\\torch\\utils\\data\\_utils\\fetch.py:52\u001b[0m, in \u001b[0;36m_MapDatasetFetcher.fetch\u001b[1;34m(self, possibly_batched_index)\u001b[0m\n\u001b[0;32m     50\u001b[0m         data \u001b[38;5;241m=\u001b[39m \u001b[38;5;28mself\u001b[39m\u001b[38;5;241m.\u001b[39mdataset\u001b[38;5;241m.\u001b[39m__getitems__(possibly_batched_index)\n\u001b[0;32m     51\u001b[0m     \u001b[38;5;28;01melse\u001b[39;00m:\n\u001b[1;32m---> 52\u001b[0m         data \u001b[38;5;241m=\u001b[39m [\u001b[38;5;28mself\u001b[39m\u001b[38;5;241m.\u001b[39mdataset[idx] \u001b[38;5;28;01mfor\u001b[39;00m idx \u001b[38;5;129;01min\u001b[39;00m possibly_batched_index]\n\u001b[0;32m     53\u001b[0m \u001b[38;5;28;01melse\u001b[39;00m:\n\u001b[0;32m     54\u001b[0m     data \u001b[38;5;241m=\u001b[39m \u001b[38;5;28mself\u001b[39m\u001b[38;5;241m.\u001b[39mdataset[possibly_batched_index]\n",
      "File \u001b[1;32m~\\AppData\\Roaming\\Python\\Python39\\site-packages\\torch\\utils\\data\\_utils\\fetch.py:52\u001b[0m, in \u001b[0;36m<listcomp>\u001b[1;34m(.0)\u001b[0m\n\u001b[0;32m     50\u001b[0m         data \u001b[38;5;241m=\u001b[39m \u001b[38;5;28mself\u001b[39m\u001b[38;5;241m.\u001b[39mdataset\u001b[38;5;241m.\u001b[39m__getitems__(possibly_batched_index)\n\u001b[0;32m     51\u001b[0m     \u001b[38;5;28;01melse\u001b[39;00m:\n\u001b[1;32m---> 52\u001b[0m         data \u001b[38;5;241m=\u001b[39m [\u001b[38;5;28;43mself\u001b[39;49m\u001b[38;5;241;43m.\u001b[39;49m\u001b[43mdataset\u001b[49m\u001b[43m[\u001b[49m\u001b[43midx\u001b[49m\u001b[43m]\u001b[49m \u001b[38;5;28;01mfor\u001b[39;00m idx \u001b[38;5;129;01min\u001b[39;00m possibly_batched_index]\n\u001b[0;32m     53\u001b[0m \u001b[38;5;28;01melse\u001b[39;00m:\n\u001b[0;32m     54\u001b[0m     data \u001b[38;5;241m=\u001b[39m \u001b[38;5;28mself\u001b[39m\u001b[38;5;241m.\u001b[39mdataset[possibly_batched_index]\n",
      "File \u001b[1;32m~\\AppData\\Roaming\\Python\\Python39\\site-packages\\miditok\\pytorch_data\\datasets.py:226\u001b[0m, in \u001b[0;36mDatasetMIDI.__getitem__\u001b[1;34m(self, idx)\u001b[0m\n\u001b[0;32m    223\u001b[0m         item[\u001b[38;5;28mself\u001b[39m\u001b[38;5;241m.\u001b[39mlabels_key_name] \u001b[38;5;241m=\u001b[39m labels\n\u001b[0;32m    224\u001b[0m     \u001b[38;5;28;01mreturn\u001b[39;00m item\n\u001b[1;32m--> 226\u001b[0m tseq \u001b[38;5;241m=\u001b[39m \u001b[38;5;28;43mself\u001b[39;49m\u001b[38;5;241;43m.\u001b[39;49m\u001b[43m_tokenize_score\u001b[49m\u001b[43m(\u001b[49m\u001b[43mscore\u001b[49m\u001b[43m)\u001b[49m\n\u001b[0;32m    227\u001b[0m \u001b[38;5;66;03m# If not one_token_stream, we only take the first track/sequence\u001b[39;00m\n\u001b[0;32m    228\u001b[0m token_ids \u001b[38;5;241m=\u001b[39m tseq\u001b[38;5;241m.\u001b[39mids \u001b[38;5;28;01mif\u001b[39;00m \u001b[38;5;28mself\u001b[39m\u001b[38;5;241m.\u001b[39mtokenizer\u001b[38;5;241m.\u001b[39mone_token_stream \u001b[38;5;28;01melse\u001b[39;00m tseq[\u001b[38;5;241m0\u001b[39m]\u001b[38;5;241m.\u001b[39mids\n",
      "File \u001b[1;32m~\\AppData\\Roaming\\Python\\Python39\\site-packages\\miditok\\pytorch_data\\datasets.py:256\u001b[0m, in \u001b[0;36mDatasetMIDI._tokenize_score\u001b[1;34m(self, score)\u001b[0m\n\u001b[0;32m    248\u001b[0m     ac_indexes \u001b[38;5;241m=\u001b[39m create_random_ac_indexes(\n\u001b[0;32m    249\u001b[0m         score,\n\u001b[0;32m    250\u001b[0m         \u001b[38;5;28mself\u001b[39m\u001b[38;5;241m.\u001b[39mtokenizer\u001b[38;5;241m.\u001b[39mattribute_controls,\n\u001b[0;32m    251\u001b[0m         \u001b[38;5;28mself\u001b[39m\u001b[38;5;241m.\u001b[39mtracks_idx_random_ratio_range,\n\u001b[0;32m    252\u001b[0m         \u001b[38;5;28mself\u001b[39m\u001b[38;5;241m.\u001b[39mbars_idx_random_ratio_range,\n\u001b[0;32m    253\u001b[0m     )\n\u001b[0;32m    255\u001b[0m \u001b[38;5;66;03m# Tokenize it\u001b[39;00m\n\u001b[1;32m--> 256\u001b[0m tokseq \u001b[38;5;241m=\u001b[39m \u001b[38;5;28;43mself\u001b[39;49m\u001b[38;5;241;43m.\u001b[39;49m\u001b[43mtokenizer\u001b[49m\u001b[38;5;241;43m.\u001b[39;49m\u001b[43mencode\u001b[49m\u001b[43m(\u001b[49m\n\u001b[0;32m    257\u001b[0m \u001b[43m    \u001b[49m\u001b[43mscore\u001b[49m\u001b[43m,\u001b[49m\n\u001b[0;32m    258\u001b[0m \u001b[43m    \u001b[49m\u001b[43mno_preprocess_score\u001b[49m\u001b[38;5;241;43m=\u001b[39;49m\u001b[38;5;28;43;01mTrue\u001b[39;49;00m\u001b[43m,\u001b[49m\n\u001b[0;32m    259\u001b[0m \u001b[43m    \u001b[49m\u001b[43mattribute_controls_indexes\u001b[49m\u001b[38;5;241;43m=\u001b[39;49m\u001b[43mac_indexes\u001b[49m\u001b[43m,\u001b[49m\n\u001b[0;32m    260\u001b[0m \u001b[43m\u001b[49m\u001b[43m)\u001b[49m\n\u001b[0;32m    262\u001b[0m \u001b[38;5;66;03m# If tokenizing on the fly a multi-stream tokenizer, only keeps the first track\u001b[39;00m\n\u001b[0;32m    263\u001b[0m \u001b[38;5;28;01mif\u001b[39;00m \u001b[38;5;129;01mnot\u001b[39;00m \u001b[38;5;28mself\u001b[39m\u001b[38;5;241m.\u001b[39mpre_tokenize \u001b[38;5;129;01mand\u001b[39;00m \u001b[38;5;129;01mnot\u001b[39;00m \u001b[38;5;28mself\u001b[39m\u001b[38;5;241m.\u001b[39mtokenizer\u001b[38;5;241m.\u001b[39mone_token_stream:\n",
      "File \u001b[1;32m~\\AppData\\Roaming\\Python\\Python39\\site-packages\\miditok\\midi_tokenizer.py:1658\u001b[0m, in \u001b[0;36mMusicTokenizer.encode\u001b[1;34m(self, score, encode_ids, no_preprocess_score, attribute_controls_indexes)\u001b[0m\n\u001b[0;32m   1655\u001b[0m     score \u001b[38;5;241m=\u001b[39m \u001b[38;5;28mself\u001b[39m\u001b[38;5;241m.\u001b[39mpreprocess_score(score)\n\u001b[0;32m   1657\u001b[0m \u001b[38;5;66;03m# Tokenize it\u001b[39;00m\n\u001b[1;32m-> 1658\u001b[0m tokens \u001b[38;5;241m=\u001b[39m \u001b[38;5;28;43mself\u001b[39;49m\u001b[38;5;241;43m.\u001b[39;49m\u001b[43m_score_to_tokens\u001b[49m\u001b[43m(\u001b[49m\u001b[43mscore\u001b[49m\u001b[43m,\u001b[49m\u001b[43m \u001b[49m\u001b[43mattribute_controls_indexes\u001b[49m\u001b[43m)\u001b[49m\n\u001b[0;32m   1659\u001b[0m \u001b[38;5;66;03m# Add bar/beat ticks here to TokSeq as they need to be from preprocessed Score\u001b[39;00m\n\u001b[0;32m   1660\u001b[0m add_bar_beats_ticks_to_tokseq(tokens, score)\n",
      "File \u001b[1;32m~\\AppData\\Roaming\\Python\\Python39\\site-packages\\miditok\\midi_tokenizer.py:1179\u001b[0m, in \u001b[0;36mMusicTokenizer._score_to_tokens\u001b[1;34m(self, score, attribute_controls_indexes)\u001b[0m\n\u001b[0;32m   1177\u001b[0m ticks_beats \u001b[38;5;241m=\u001b[39m get_beats_ticks(score, only_notes_onsets\u001b[38;5;241m=\u001b[39m\u001b[38;5;28;01mTrue\u001b[39;00m)\n\u001b[0;32m   1178\u001b[0m \u001b[38;5;28;01mfor\u001b[39;00m ti, track \u001b[38;5;129;01min\u001b[39;00m \u001b[38;5;28menumerate\u001b[39m(score\u001b[38;5;241m.\u001b[39mtracks):\n\u001b[1;32m-> 1179\u001b[0m     track_events \u001b[38;5;241m=\u001b[39m \u001b[38;5;28;43mself\u001b[39;49m\u001b[38;5;241;43m.\u001b[39;49m\u001b[43m_create_track_events\u001b[49m\u001b[43m(\u001b[49m\n\u001b[0;32m   1180\u001b[0m \u001b[43m        \u001b[49m\u001b[43mtrack\u001b[49m\u001b[43m,\u001b[49m\n\u001b[0;32m   1181\u001b[0m \u001b[43m        \u001b[49m\u001b[43mticks_per_beat\u001b[49m\u001b[43m,\u001b[49m\n\u001b[0;32m   1182\u001b[0m \u001b[43m        \u001b[49m\u001b[43mscore\u001b[49m\u001b[38;5;241;43m.\u001b[39;49m\u001b[43mticks_per_quarter\u001b[49m\u001b[43m,\u001b[49m\n\u001b[0;32m   1183\u001b[0m \u001b[43m        \u001b[49m\u001b[43mticks_bars\u001b[49m\u001b[43m,\u001b[49m\n\u001b[0;32m   1184\u001b[0m \u001b[43m        \u001b[49m\u001b[43mticks_beats\u001b[49m\u001b[43m,\u001b[49m\n\u001b[0;32m   1185\u001b[0m \u001b[43m        \u001b[49m\u001b[43mattribute_controls_indexes\u001b[49m\u001b[38;5;241;43m.\u001b[39;49m\u001b[43mget\u001b[49m\u001b[43m(\u001b[49m\u001b[43mti\u001b[49m\u001b[43m,\u001b[49m\u001b[43m \u001b[49m\u001b[38;5;28;43;01mNone\u001b[39;49;00m\u001b[43m)\u001b[49m\u001b[43m,\u001b[49m\n\u001b[0;32m   1186\u001b[0m \u001b[43m    \u001b[49m\u001b[43m)\u001b[49m\n\u001b[0;32m   1187\u001b[0m     \u001b[38;5;28;01mif\u001b[39;00m \u001b[38;5;28mself\u001b[39m\u001b[38;5;241m.\u001b[39mconfig\u001b[38;5;241m.\u001b[39mone_token_stream_for_programs:\n\u001b[0;32m   1188\u001b[0m         all_events \u001b[38;5;241m+\u001b[39m\u001b[38;5;241m=\u001b[39m track_events\n",
      "File \u001b[1;32m~\\AppData\\Roaming\\Python\\Python39\\site-packages\\miditok\\midi_tokenizer.py:1360\u001b[0m, in \u001b[0;36mMusicTokenizer._create_track_events\u001b[1;34m(self, track, ticks_per_beat, time_division, ticks_bars, ticks_beats, attribute_controls_indexes)\u001b[0m\n\u001b[0;32m   1356\u001b[0m \u001b[38;5;66;03m# Control changes (in the future, and handle pedals redundancy)\u001b[39;00m\n\u001b[0;32m   1357\u001b[0m \n\u001b[0;32m   1358\u001b[0m \u001b[38;5;66;03m# Add chords\u001b[39;00m\n\u001b[0;32m   1359\u001b[0m \u001b[38;5;28;01mif\u001b[39;00m \u001b[38;5;28mself\u001b[39m\u001b[38;5;241m.\u001b[39mconfig\u001b[38;5;241m.\u001b[39muse_chords \u001b[38;5;129;01mand\u001b[39;00m \u001b[38;5;129;01mnot\u001b[39;00m track\u001b[38;5;241m.\u001b[39mis_drum:\n\u001b[1;32m-> 1360\u001b[0m     chords \u001b[38;5;241m=\u001b[39m \u001b[43mdetect_chords\u001b[49m\u001b[43m(\u001b[49m\n\u001b[0;32m   1361\u001b[0m \u001b[43m        \u001b[49m\u001b[43mtrack\u001b[49m\u001b[38;5;241;43m.\u001b[39;49m\u001b[43mnotes\u001b[49m\u001b[43m,\u001b[49m\n\u001b[0;32m   1362\u001b[0m \u001b[43m        \u001b[49m\u001b[43mticks_per_beat\u001b[49m\u001b[43m,\u001b[49m\n\u001b[0;32m   1363\u001b[0m \u001b[43m        \u001b[49m\u001b[43mchord_maps\u001b[49m\u001b[38;5;241;43m=\u001b[39;49m\u001b[38;5;28;43mself\u001b[39;49m\u001b[38;5;241;43m.\u001b[39;49m\u001b[43mconfig\u001b[49m\u001b[38;5;241;43m.\u001b[39;49m\u001b[43mchord_maps\u001b[49m\u001b[43m,\u001b[49m\n\u001b[0;32m   1364\u001b[0m \u001b[43m        \u001b[49m\u001b[43mprogram\u001b[49m\u001b[38;5;241;43m=\u001b[39;49m\u001b[43mprogram\u001b[49m\u001b[43m,\u001b[49m\n\u001b[0;32m   1365\u001b[0m \u001b[43m        \u001b[49m\u001b[43mspecify_root_note\u001b[49m\u001b[38;5;241;43m=\u001b[39;49m\u001b[38;5;28;43mself\u001b[39;49m\u001b[38;5;241;43m.\u001b[39;49m\u001b[43mconfig\u001b[49m\u001b[38;5;241;43m.\u001b[39;49m\u001b[43mchord_tokens_with_root_note\u001b[49m\u001b[43m,\u001b[49m\n\u001b[0;32m   1366\u001b[0m \u001b[43m        \u001b[49m\u001b[43mbeat_res\u001b[49m\u001b[38;5;241;43m=\u001b[39;49m\u001b[38;5;28;43mself\u001b[39;49m\u001b[38;5;241;43m.\u001b[39;49m\u001b[43m_first_beat_res\u001b[49m\u001b[43m,\u001b[49m\n\u001b[0;32m   1367\u001b[0m \u001b[43m        \u001b[49m\u001b[43munknown_chords_num_notes_range\u001b[49m\u001b[38;5;241;43m=\u001b[39;49m\u001b[38;5;28;43mself\u001b[39;49m\u001b[38;5;241;43m.\u001b[39;49m\u001b[43mconfig\u001b[49m\u001b[38;5;241;43m.\u001b[39;49m\u001b[43mchord_unknown\u001b[49m\u001b[43m,\u001b[49m\n\u001b[0;32m   1368\u001b[0m \u001b[43m    \u001b[49m\u001b[43m)\u001b[49m\n\u001b[0;32m   1369\u001b[0m     \u001b[38;5;28;01mfor\u001b[39;00m chord \u001b[38;5;129;01min\u001b[39;00m chords:\n\u001b[0;32m   1370\u001b[0m         \u001b[38;5;28;01mif\u001b[39;00m \u001b[38;5;28mself\u001b[39m\u001b[38;5;241m.\u001b[39mconfig\u001b[38;5;241m.\u001b[39muse_programs \u001b[38;5;129;01mand\u001b[39;00m \u001b[38;5;129;01mnot\u001b[39;00m \u001b[38;5;28mself\u001b[39m\u001b[38;5;241m.\u001b[39mconfig\u001b[38;5;241m.\u001b[39mprogram_changes:\n",
      "File \u001b[1;32m~\\AppData\\Roaming\\Python\\Python39\\site-packages\\miditok\\utils\\utils.py:272\u001b[0m, in \u001b[0;36mdetect_chords\u001b[1;34m(notes, ticks_per_beat, chord_maps, program, specify_root_note, beat_res, onset_offset, unknown_chords_num_notes_range, simul_notes_limit)\u001b[0m\n\u001b[0;32m    270\u001b[0m \u001b[38;5;66;03m# Selects the possible chords notes\u001b[39;00m\n\u001b[0;32m    271\u001b[0m \u001b[38;5;28;01mif\u001b[39;00m notes[count, \u001b[38;5;241m2\u001b[39m] \u001b[38;5;241m-\u001b[39m notes[count, \u001b[38;5;241m1\u001b[39m] \u001b[38;5;241m<\u001b[39m\u001b[38;5;241m=\u001b[39m tpb_half:\n\u001b[1;32m--> 272\u001b[0m     onset_notes \u001b[38;5;241m=\u001b[39m \u001b[43monset_notes\u001b[49m\u001b[43m[\u001b[49m\u001b[43mnp\u001b[49m\u001b[38;5;241;43m.\u001b[39;49m\u001b[43mwhere\u001b[49m\u001b[43m(\u001b[49m\u001b[43monset_notes\u001b[49m\u001b[43m[\u001b[49m\u001b[43m:\u001b[49m\u001b[43m,\u001b[49m\u001b[43m \u001b[49m\u001b[38;5;241;43m1\u001b[39;49m\u001b[43m]\u001b[49m\u001b[43m \u001b[49m\u001b[38;5;241;43m==\u001b[39;49m\u001b[43m \u001b[49m\u001b[43monset_notes\u001b[49m\u001b[43m[\u001b[49m\u001b[38;5;241;43m0\u001b[39;49m\u001b[43m,\u001b[49m\u001b[43m \u001b[49m\u001b[38;5;241;43m1\u001b[39;49m\u001b[43m]\u001b[49m\u001b[43m)\u001b[49m\u001b[43m]\u001b[49m\n\u001b[0;32m    273\u001b[0m chord \u001b[38;5;241m=\u001b[39m onset_notes[np\u001b[38;5;241m.\u001b[39mwhere(onset_notes[:, \u001b[38;5;241m2\u001b[39m] \u001b[38;5;241m-\u001b[39m onset_notes[\u001b[38;5;241m0\u001b[39m, \u001b[38;5;241m2\u001b[39m] \u001b[38;5;241m<\u001b[39m\u001b[38;5;241m=\u001b[39m tpb_half)]\n\u001b[0;32m    275\u001b[0m \u001b[38;5;66;03m# Creates the \"chord map\" and see if it has a \"known\" quality, append a chord\u001b[39;00m\n\u001b[0;32m    276\u001b[0m \u001b[38;5;66;03m# event if it is valid\u001b[39;00m\n",
      "\u001b[1;31mKeyboardInterrupt\u001b[0m: "
     ]
    },
    {
     "ename": "",
     "evalue": "",
     "output_type": "error",
     "traceback": [
      "\u001b[1;31m現在のセルまたは前のセルでコードを実行中に、カーネル (Kernel) がクラッシュしました。\n",
      "\u001b[1;31mエラーの原因を特定するには、セル内のコードを確認してください。\n",
      "\u001b[1;31m詳細については<a href='https://aka.ms/vscodeJupyterKernelCrash'>こちら</a>をクリックします。\n",
      "\u001b[1;31m詳細については、Jupyter <a href='command:jupyter.viewOutput'>ログ</a> を参照してください。"
     ]
    }
   ],
   "source": [
    "torch.set_printoptions(edgeitems=torch.inf)\n",
    "\n",
    "# 学習ループ\n",
    "epochs = 300 # エポック数\n",
    "\n",
    "for epoch in range(epochs):\n",
    "    model.train()  # モデルを学習モードに切り替え\n",
    "    total_loss = 0\n",
    "\n",
    "    for batch in tqdm(dataloader, desc=f\"Epoch {epoch+1}/{epochs}\"):\n",
    "        inputs_shape = batch[\"input_ids\"].shape  # トークンID列    \n",
    "        \n",
    "        \n",
    "        mask_border_index = inputs_shape[1]//4\n",
    "        masked_inputs = batch[\"input_ids\"][:,1:].clone().to(device)\n",
    "        masked_inputs[:,mask_border_index:] = tokenizer.pad_token_id  # マスクされた入力\n",
    "        \n",
    "        \n",
    "        labels = batch[\"labels\"][:,:-1].to(device)    # 正解ラベル\n",
    "        attention_mask = batch[\"attention_mask\"].to(device)  # マスク（任意）\n",
    "        \n",
    "        \n",
    "        \n",
    "        #print(inputs[0],labels[0])\n",
    "        \n",
    "        # 勾配を初期化\n",
    "        optimizer.zero_grad()\n",
    "\n",
    "        # モデルの前方計算\n",
    "        outputs = model(\n",
    "            input_ids=inputs,\n",
    "            labels=labels,\n",
    "            attention_mask=attention_mask,\n",
    "        )\n",
    "        loss = outputs.loss  # GPT2LMHeadModelは自動で損失を計算する\n",
    "\n",
    "        # 勾配の計算とパラメータの更新\n",
    "        loss.backward()\n",
    "        optimizer.step()\n",
    "        \n",
    "        # 損失を記録\n",
    "        total_loss += loss.item()\n",
    "        \n",
    "\n",
    "    # エポックごとの平均損失を出力\n",
    "    avg_loss = total_loss / len(dataloader)\n",
    "    print(f\"Epoch {epoch+1}/{epochs} - Loss: {avg_loss:.4f}\")\n",
    "    \n",
    "    #model.save_pretrained(\"models/transformer/\" + \"piano1_only/test\" + str(epoch+1) + \".pt\")"
   ]
  },
  {
   "cell_type": "code",
   "execution_count": 11,
   "metadata": {},
   "outputs": [
    {
     "ename": "NameError",
     "evalue": "name 'epoch' is not defined",
     "output_type": "error",
     "traceback": [
      "\u001b[1;31m---------------------------------------------------------------------------\u001b[0m",
      "\u001b[1;31mNameError\u001b[0m                                 Traceback (most recent call last)",
      "Cell \u001b[1;32mIn[11], line 1\u001b[0m\n\u001b[1;32m----> 1\u001b[0m model\u001b[38;5;241m.\u001b[39msave_pretrained(\u001b[38;5;124m\"\u001b[39m\u001b[38;5;124mmodels/transformer/\u001b[39m\u001b[38;5;124m\"\u001b[39m \u001b[38;5;241m+\u001b[39m \u001b[38;5;124m\"\u001b[39m\u001b[38;5;124mpiano1_only/shifted_test\u001b[39m\u001b[38;5;124m\"\u001b[39m \u001b[38;5;241m+\u001b[39m \u001b[38;5;28mstr\u001b[39m(\u001b[43mepoch\u001b[49m\u001b[38;5;241m+\u001b[39m\u001b[38;5;241m1\u001b[39m) \u001b[38;5;241m+\u001b[39m \u001b[38;5;124m\"\u001b[39m\u001b[38;5;124m.pt\u001b[39m\u001b[38;5;124m\"\u001b[39m)\n",
      "\u001b[1;31mNameError\u001b[0m: name 'epoch' is not defined"
     ]
    }
   ],
   "source": [
    "model.save_pretrained(\"models/transformer/\" + \"piano1_only/shifted_test\" + str(epoch+1) + \".pt\")"
   ]
  },
  {
   "cell_type": "markdown",
   "metadata": {},
   "source": [
    "### 生成-プロンプトのトークン化"
   ]
  },
  {
   "cell_type": "code",
   "execution_count": 12,
   "metadata": {},
   "outputs": [
    {
     "data": {
      "text/plain": [
       "tensor([[  4, 175, 280,   9, 102, 109, 176, 280,  32, 102, 114, 182, 280,  28,\n",
       "         102, 109, 183, 280,  33, 102, 110, 185, 280,  32, 102, 112, 189, 280,\n",
       "          28, 102, 109, 191, 280,  35, 102, 109, 192, 280,  40, 102, 110, 194,\n",
       "         280,  39, 102, 112, 198, 280,  38, 102, 116,   4, 175, 280,  29, 102,\n",
       "         109, 176, 280,  41, 102, 114, 182, 280,  36, 102, 109, 183, 280,  17,\n",
       "         102, 109, 184, 280,  41, 102, 115, 191, 280,  36, 102, 109, 192, 280,\n",
       "          39, 102, 117]], device='cuda:0')"
      ]
     },
     "execution_count": 12,
     "metadata": {},
     "output_type": "execute_result"
    }
   ],
   "source": [
    "\n",
    "\n",
    "# 入力トークン列の例\n",
    "prompt = (\"prompt/output.mid\")\n",
    "\n",
    "input_ids = torch.tensor([tokenizer(prompt)]).to(device)\n",
    "input_ids"
   ]
  },
  {
   "cell_type": "code",
   "execution_count": null,
   "metadata": {},
   "outputs": [
    {
     "name": "stdout",
     "output_type": "stream",
     "text": [
      "tensor([[  4, 175, 280,   9, 102, 109, 176, 280,  32, 102, 114, 182, 280,  28,\n",
      "         102, 109, 183, 280,  33, 102, 110, 185, 280,  32, 102, 112, 189, 280,\n",
      "          28, 102, 109, 191, 280,  35, 102, 109, 192, 280,  40, 102, 110, 194,\n",
      "         280,  39, 102, 112, 198, 280,  38, 102, 116,   4, 175, 280,  29, 102,\n",
      "         109, 176, 280,  41, 102, 114, 182, 280,  36, 102, 109, 183, 280,  17,\n",
      "         102, 109, 184, 280,  41, 102, 115, 191, 280,  36, 102, 109, 192, 280,\n",
      "          39, 102, 117,   0,   0,   0,   0,   0,   0,   0,   0,   0,   0,   0,\n",
      "           0,   0,   0,   0,   0,   0,   0,   0,   0,   0,   0,   0,   0,   0,\n",
      "           0,   0,   0,   0,   0,   0,   0,   0,   0,   0,   0,   0,   0,   0,\n",
      "           0,   0,   0,   0,   0,   0,   0,   0,   0,   0,   0,   0,   0,   0,\n",
      "           0,   0,   0,   0,   0,   0,   0,   0,   0,   0,   0,   0,   0,   0,\n",
      "           0,   0,   0,   0,   0,   0,   0,   0,   0,   0,   0,   0,   0,   0,\n",
      "           0,   0,   0,   0,   0,   0,   0,   0,   0,   0,   0,   0,   0,   0,\n",
      "           0,   0,   0,   0,   0,   0,   0,   0,   0,   0,   0,   0,   0,   0,\n",
      "           0,   0,   0,   0,   0,   0,   0,   0,   0,   0,   0,   0,   0,   0,\n",
      "           0,   0,   0,   0,   0,   0,   0,   0,   0,   0,   0,   0,   0,   0,\n",
      "           0,   0,   0,   0,   0,   0,   0,   0,   0,   0,   0,   0,   0,   0,\n",
      "           0,   0,   0,   0,   0,   0,   0,   0,   0,   0,   0,   0,   0,   0,\n",
      "           0,   0,   0,   0,   0,   0,   0,   0,   0,   0,   0,   0,   0,   0,\n",
      "           0,   0,   0,   0,   0,   0,   0,   0,   0,   0,   0,   0,   0,   0,\n",
      "           0,   0,   0,   0,   0,   0,   0,   0,   0,   0,   0,   0,   0,   0,\n",
      "           0,   0,   0,   0,   0,   0,   0,   0,   0,   0,   0,   0,   0,   0,\n",
      "           0,   0,   0,   0,   0,   0,   0,   0,   0,   0,   0,   0,   0,   0,\n",
      "           0,   0,   0,   0,   0,   0,   0,   0,   0,   0,   0,   0,   0,   0,\n",
      "           0,   0,   0,   0,   0,   0,   0,   0,   0,   0,   0,   0,   0,   0,\n",
      "           0,   0,   0,   0,   0,   0,   0,   0,   0,   0,   0,   0,   0,   0,\n",
      "           0,   0,   0,   0,   0,   0,   0,   0,   0,   0,   0,   0,   0,   0,\n",
      "           0,   0,   0,   0,   0,   0,   0,   0,   0,   0,   0,   0,   0,   0,\n",
      "           0,   0,   0,   0,   0,   0,   0,   0,   0,   0,   0,   0,   0,   0,\n",
      "           0,   0,   0,   0,   0,   0,   0,   0,   0,   0,   0,   0,   0,   0,\n",
      "           0,   0,   0,   0,   0,   0,   0,   0,   0,   0,   0,   0,   0,   0,\n",
      "           0,   0,   0,   0,   0,   0,   0,   0,   0,   0,   0,   0,   0,   0,\n",
      "           0,   0,   0,   0,   0,   0,   0,   0,   0,   0,   0,   0,   0,   0,\n",
      "           0,   0,   0,   0,   0,   0,   0,   0,   0,   0,   0,   0,   0,   0,\n",
      "           0,   0,   0,   0,   0,   0,   0,   0,   0,   0,   0,   0,   0,   0,\n",
      "           0,   0,   0,   0,   0,   0,   0,   0,   0,   0,   0,   0,   0,   0,\n",
      "           0,   0,   0,   0,   0,   0,   0,   0,   0,   0,   0,   0,   0,   0,\n",
      "           0,   0,   0,   0,   0,   0,   0,   0,   0,   0,   0,   0,   0,   0,\n",
      "           0,   0,   0,   0,   0,   0,   0,   0,   0,   0,   0,   0,   0,   0,\n",
      "           0,   0,   0,   0,   0,   0,   0,   0,   0,   0,   0,   0,   0,   0,\n",
      "           0,   0,   0,   0,   0,   0,   0,   0,   0,   0,   0,   0,   0,   0,\n",
      "           0,   0,   0,   0,   0,   0,   0,   0,   0,   0,   0,   0,   0,   0,\n",
      "           0,   0,   0,   0,   0,   0,   0,   0,   0,   0,   0,   0,   0,   0,\n",
      "           0,   0,   0,   0,   0,   0,   0,   0,   0,   0,   0,   0,   0,   0,\n",
      "           0,   0,   0,   0,   0,   0,   0,   0,   0,   0,   0,   0,   0,   0,\n",
      "           0,   0,   0,   0,   0,   0,   0,   0,   0,   0,   0,   0,   0,   0,\n",
      "           0,   0,   0,   0,   0,   0,   0,   0,   0,   0,   0,   0,   0,   0,\n",
      "           0,   0,   0,   0,   0,   0,   0,   0,   0,   0,   0,   0,   0,   0,\n",
      "           0,   0,   0,   0,   0,   0,   0,   0,   0,   0,   0,   0,   0,   0,\n",
      "           0,   0,   0,   0,   0,   0,   0,   0,   0,   0,   0,   0,   0,   0,\n",
      "           0,   0,   0,   0,   0,   0,   0,   0,   0,   0,   0,   0,   0,   0,\n",
      "           0,   0,   0,   0,   0,   0,   0,   0,   0,   0,   0,   0,   0,   0,\n",
      "           0,   0,   0,   0,   0,   0,   0,   0,   0,   0,   0,   0,   0,   0,\n",
      "           0,   0,   0,   0,   0,   0,   0,   0,   0,   0,   0,   0,   0,   0,\n",
      "           0,   0,   0,   0,   0,   0,   0,   0,   0,   0,   0,   0,   0,   0,\n",
      "           0,   0,   0,   0,   0,   0,   0,   0,   0,   0,   0,   0,   0,   0,\n",
      "           0,   0,   0,   0,   0,   0,   0,   0,   0,   0,   0,   0,   0,   0,\n",
      "           0,   0,   0,   0,   0,   0,   0,   0,   0,   0,   0,   0,   0,   0,\n",
      "           0,   0,   0,   0,   0,   0,   0,   0,   0,   0,   0,   0,   0,   0,\n",
      "           0,   0,   0,   0,   0,   0,   0,   0,   0,   0,   0,   0,   0,   0,\n",
      "           0,   0,   0,   0,   0,   0,   0,   0,   0,   0,   0,   0,   0,   0,\n",
      "           0,   0,   0,   0,   0,   0,   0,   0,   0,   0,   0,   0,   0,   0,\n",
      "           0,   0,   0,   0,   0,   0,   0,   0,   0,   0,   0,   0,   0,   0,\n",
      "           0,   0,   0,   0,   0,   0,   0,   0,   0,   0,   0,   0,   0,   0,\n",
      "           0,   0,   0,   0,   0,   0,   0,   0,   0,   0,   0,   0,   0,   0,\n",
      "           0,   0,   0,   0,   0,   0,   0,   0,   0,   0,   0,   0,   0,   0,\n",
      "           0,   0,   0,   0,   0,   0,   0,   0,   0,   0,   0,   0,   0,   0,\n",
      "           0,   0,   0,   0,   0,   0,   0,   0,   0,   0,   0,   0,   0,   0,\n",
      "           0,   0,   0,   0,   0,   0,   0,   0,   0,   0,   0,   0,   0,   0,\n",
      "           0,   0,   0,   0,   0,   0,   0,   0,   0,   0,   0,   0,   0,   0,\n",
      "           0,   0,   0,   0,   0,   0,   0,   0,   0,   0,   0,   0,   0,   0,\n",
      "           0,   0,   0,   0,   0,   0,   0,   0,   0,   0,   0,   0,   0,   0,\n",
      "           0,   0,   0,   0,   0,   0,   0,   0,   0,   0,   0,   0,   0,   0,\n",
      "           0]], device='cuda:0')\n",
      "torch.Size([1, 1023])\n"
     ]
    }
   ],
   "source": [
    "#ぱっでぃんぐは不要でした\n",
    "\n",
    "# 1次元で50要素を持つベクトル\n",
    "vector = input_ids\n",
    "\n",
    "# 1024要素に拡張するためのパディング\n",
    "target_length = 1023\n",
    "padding_length = target_length - input_ids.size(1)\n",
    "\n",
    "# 末尾にパディングを追加\n",
    "padded_vector = F.pad(input_ids, (0, padding_length), value=0)  # value=0 はパディングの値\n",
    "\n",
    "print(padded_vector)\n",
    "print(padded_vector.size())  # torch.Size([1024])"
   ]
  },
  {
   "cell_type": "markdown",
   "metadata": {},
   "source": [
    "### 生成-メインプロセス"
   ]
  },
  {
   "cell_type": "code",
   "execution_count": 14,
   "metadata": {},
   "outputs": [
    {
     "name": "stderr",
     "output_type": "stream",
     "text": [
      "C:\\Users\\keisu\\AppData\\Roaming\\Python\\Python39\\site-packages\\transformers\\generation\\configuration_utils.py:515: UserWarning: `do_sample` is set to `False`. However, `temperature` is set to `1.2` -- this flag is only used in sample-based generation modes. You should set `do_sample=True` or unset `temperature`.\n",
      "  warnings.warn(\n",
      "C:\\Users\\keisu\\AppData\\Roaming\\Python\\Python39\\site-packages\\transformers\\generation\\configuration_utils.py:520: UserWarning: `do_sample` is set to `False`. However, `top_p` is set to `0.95` -- this flag is only used in sample-based generation modes. You should set `do_sample=True` or unset `top_p`.\n",
      "  warnings.warn(\n"
     ]
    }
   ],
   "source": [
    "#regenerate\n",
    "\n",
    "# モデルの読み込み\n",
    "model = GPT2LMHeadModel.from_pretrained(\"models/transformer/piano1_only/shifted_test27.pt\")\n",
    "#model = GPT2LMHeadModel.from_pretrained(\"models/transformer/\" + \"piano1_only/shifted_test\" + \"26\" + \".pt\")\n",
    "#C:\\Users\\keisu\\Programming\\humor\\humusic\\midi_generator\\models\\transformer\\piano1_only\\shifted_test27.pt\n",
    "model.to(device)\n",
    "model.eval()\n",
    "\n",
    "# モデルによる生成\n",
    "# output = model.generate(\n",
    "#     input_ids=input_ids,\n",
    "#     max_length=1024,\n",
    "#     num_beams=5,\n",
    "#     no_repeat_ngram_size=2,\n",
    "# )\n",
    "\n",
    "# モデルによる生成\n",
    "with torch.no_grad():\n",
    "    output = model.generate(\n",
    "        input_ids=input_ids,\n",
    "        max_length=1024,\n",
    "        num_beams=5,  # ビームサーチ\n",
    "        no_repeat_ngram_size=2,  # 同じn-gramを繰り返さない\n",
    "        temperature=1.2,  # サンプリングの多様性を調整\n",
    "        top_k=50,  # 上位k個のトークンをサンプリング\n",
    "        top_p=0.95,  # 累積確率cutoff\n",
    "        )"
   ]
  },
  {
   "cell_type": "markdown",
   "metadata": {},
   "source": [
    "### 生成-結果をdetokenize"
   ]
  },
  {
   "cell_type": "code",
   "execution_count": 15,
   "metadata": {},
   "outputs": [
    {
     "name": "stdout",
     "output_type": "stream",
     "text": [
      "Generated MIDI Tokens: Score(ttype=Tick, tpq=8, begin=0, end=1368, tracks=1, notes=49, time_sig=1, key_sig=0, markers=0)\n"
     ]
    }
   ],
   "source": [
    "# トークン列をデコードして結果を表示\n",
    "generated = tokenizer.decode(output[0].tolist())\n",
    "print(\"Generated MIDI Tokens:\", generated)\n",
    "\n",
    "generated.dump_midi(\"maskedinput_transformer_shifted_10_5_pad.mid\")"
   ]
  },
  {
   "cell_type": "markdown",
   "metadata": {},
   "source": [
    "## python(GPU)のキャッシュクリア"
   ]
  },
  {
   "cell_type": "code",
   "execution_count": null,
   "metadata": {},
   "outputs": [],
   "source": [
    "del model, dataset, dataloader, collator\n",
    "torch.cuda.empty_cache()"
   ]
  },
  {
   "cell_type": "markdown",
   "metadata": {},
   "source": [
    "## 生成したmidiの再生\n",
    "強制終了するとipykernelがクラッシュするので注意"
   ]
  },
  {
   "cell_type": "code",
   "execution_count": 76,
   "metadata": {},
   "outputs": [],
   "source": [
    "#pygameによる再生\n",
    "\n",
    "file_name = Path(\"generated_test_\"+ generated_time +\".mid\")\n",
    "\n",
    "import time\n",
    "import pygame\n",
    "\n",
    "# Initialize pygame\n",
    "pygame.init()\n",
    "\n",
    "# Set up the mixer\n",
    "pygame.mixer.init()\n",
    "\n",
    "# Load the MIDI file\n",
    "#pygame.mixer.music.load('bach_850.mid')\n",
    "pygame.mixer.music.load(file_name)\n",
    "#pygame.mixer.music.load('test.mid')\n",
    "\n",
    "# Play the MIDI file\n",
    "pygame.mixer.music.set_volume(0.25)\n",
    "pygame.mixer.music.play()\n",
    "\n",
    "\n",
    "# Keep the program running until the music stops\n",
    "while pygame.mixer.music.get_busy():\n",
    "    if input(\"Press 'q' to quit: \") == 'q':\n",
    "        break\n",
    "    pygame.time.Clock().tick(10)\n",
    "\n",
    "# Quit pygame\n",
    "pygame.quit()"
   ]
  },
  {
   "cell_type": "markdown",
   "metadata": {},
   "source": [
    "# prompt.midの作成セル"
   ]
  },
  {
   "cell_type": "code",
   "execution_count": 29,
   "metadata": {},
   "outputs": [],
   "source": [
    "# まずは1小節のnote（ド、C4）を1つ生成してみる\n",
    "import mido\n",
    "from mido import Message, MidiFile, MidiTrack, MetaMessage\n",
    "\n",
    "mid = MidiFile()\n",
    "track = MidiTrack()\n",
    "mid.tracks.append(track)\n",
    "track.append(MetaMessage('set_tempo', tempo=mido.bpm2tempo(120))) # bpm120\n",
    "\n",
    "track.append(Message('note_on', note=74, velocity=57, time=120))\n",
    "track.append(Message('note_on', note=76, velocity=57, time=120))\n",
    "track.append(Message('note_off', note=74, velocity=0, time=20))\n",
    "track.append(Message('note_on', note=78, velocity=57, time=100))\n",
    "track.append(Message('note_off', note=76, velocity=0, time=20))\n",
    "track.append(Message('note_on', note=69, velocity=60, time=100))\n",
    "track.append(Message('note_off', note=78, velocity=0, time=20))\n",
    "track.append(Message('note_off', note=69, velocity=0, time=100))\n",
    "track.append(Message('note_on', note=78, velocity=57, time=0))\n",
    "track.append(Message('note_on', note=76, velocity=57, time=120))\n",
    "track.append(Message('note_off', note=78, velocity=0, time=20))\n",
    "track.append(Message('note_on', note=74, velocity=57, time=100))\n",
    "track.append(Message('note_off', note=76, velocity=0, time=20))\n",
    "track.append(Message('note_on', note=81, velocity=62, time=100))\n",
    "track.append(Message('note_off', note=74, velocity=0, time=20))\n",
    "track.append(Message('note_off', note=81, velocity=0, time=100))\n",
    "track.append(Message('note_on', note=74, velocity=58, time=0))\n",
    "track.append(Message('note_on', note=76, velocity=58, time=120))\n",
    "track.append(Message('note_off', note=74, velocity=0, time=20))\n",
    "track.append(Message('note_on', note=78, velocity=58, time=100))\n",
    "track.append(Message('note_off', note=76, velocity=0, time=20))\n",
    "track.append(Message('note_on', note=69, velocity=61, time=100))\n",
    "track.append(Message('note_off', note=78, velocity=0, time=20))\n",
    "track.append(Message('note_off', note=69, velocity=0, time=100))\n",
    "track.append(Message('note_on', note=78, velocity=57, time=0))\n",
    "track.append(Message('note_on', note=76, velocity=57, time=120))\n",
    "track.append(Message('note_off', note=78, velocity=0, time=20))\n",
    "track.append(Message('note_on', note=74, velocity=57, time=100))\n",
    "track.append(Message('note_off', note=76, velocity=0, time=20))\n",
    "track.append(Message('note_on', note=79, velocity=60, time=100))\n",
    "track.append(Message('note_off', note=74, velocity=0, time=20))\n",
    "\n",
    "\n",
    "mid.save('prompt.mid') # MidiFileを保存\n"
   ]
  }
 ],
 "metadata": {
  "kernelspec": {
   "display_name": ".venv",
   "language": "python",
   "name": "python3"
  },
  "language_info": {
   "codemirror_mode": {
    "name": "ipython",
    "version": 3
   },
   "file_extension": ".py",
   "mimetype": "text/x-python",
   "name": "python",
   "nbconvert_exporter": "python",
   "pygments_lexer": "ipython3",
   "version": "3.9.13"
  }
 },
 "nbformat": 4,
 "nbformat_minor": 2
}
