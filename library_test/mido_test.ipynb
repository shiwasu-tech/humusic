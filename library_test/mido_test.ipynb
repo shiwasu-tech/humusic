{
 "cells": [
  {
   "cell_type": "code",
   "execution_count": 1,
   "metadata": {},
   "outputs": [],
   "source": [
    "import mido"
   ]
  },
  {
   "cell_type": "code",
   "execution_count": 2,
   "metadata": {},
   "outputs": [],
   "source": [
    "# まずは1小節のnote（ド、C4）を1つ生成してみる\n",
    "\n",
    "from mido import Message, MidiFile, MidiTrack, MetaMessage\n",
    "\n",
    "mid = MidiFile()\n",
    "track = MidiTrack()\n",
    "mid.tracks.append(track)\n",
    "track.append(MetaMessage('set_tempo', tempo=mido.bpm2tempo(120))) # bpm120\n",
    "\n",
    "# timeはnote_onを基準（0）とし、note_offをどこで行うかと考える。\n",
    "# 1920 = 1小節, 960 = 2分音符, 480 = 4部音符\n",
    "# ちゃんと計算すれば付点音符や連符なんかも表現できる\n",
    "track.append(Message('note_on', note=60, velocity=100, time=0))\n",
    "track.append(Message('note_off', note=60, velocity=64, time = 1920))\n",
    "# note情報をこうする（ドレミ）\n",
    "# お察しの通りnoteに+1すると1半音上、+2すると1全音上になる（+12でオクターブ上）\n",
    "\n",
    "track.append(Message('note_on', note=60, velocity=100, time=0))\n",
    "track.append(Message('note_off', note=60, velocity=64, time = 1920))\n",
    "track.append(Message('note_on', note=60+2, velocity=100, time=0)) \n",
    "track.append(Message('note_off', note=60+2, velocity=64, time = 1920)) \n",
    "track.append(Message('note_on', note=60+4, velocity=100, time=0))\n",
    "track.append(Message('note_off', note=60+4, velocity=64, time = 1920))\n",
    "\n",
    "mid.save('test.mid') # MidiFileを保存\n"
   ]
  },
  {
   "cell_type": "code",
   "execution_count": 3,
   "metadata": {},
   "outputs": [],
   "source": [
    "#piano1のみ抽出する\n",
    "\n",
    "from mido import MidiFile\n",
    "\n",
    "# Load the MIDI file from the current directory\n",
    "mid = MidiFile('bach_850.mid')\n",
    "\n",
    "\n",
    "# Extract only the piano1 track from the midi file\n",
    "piano1_track = None\n",
    "for i, track in enumerate(mid.tracks):\n",
    "    for msg in track:\n",
    "        if msg.type == 'program_change' and msg.program == 0:  # Assuming piano1 has program number 0\n",
    "            piano1_track = track\n",
    "            break\n",
    "    if piano1_track:\n",
    "        break\n",
    "\n",
    "if piano1_track:\n",
    "    new_mid = MidiFile()\n",
    "    new_mid.tracks.append(piano1_track)\n",
    "    new_mid.save('piano1_only.mid')\n",
    "else:\n",
    "    print(\"Piano1 track not found\")"
   ]
  },
  {
   "cell_type": "code",
   "execution_count": 8,
   "metadata": {},
   "outputs": [],
   "source": [
    "#pygameによる再生\n",
    "\n",
    "import time\n",
    "import pygame\n",
    "\n",
    "\n",
    "'''\n",
    "# Play the MIDI file in the current directory\n",
    "for msg in mid.play():\n",
    "    time.sleep(msg.time)\n",
    "    if not msg.is_meta:\n",
    "        print(msg)\n",
    "'''\n",
    "# Initialize pygame\n",
    "pygame.init()\n",
    "\n",
    "# Set up the mixer\n",
    "pygame.mixer.init()\n",
    "\n",
    "# Load the MIDI file\n",
    "pygame.mixer.music.load('bach_850.mid')\n",
    "#pygame.mixer.music.load('piano1_only.mid')\n",
    "#pygame.mixer.music.load('test.mid')\n",
    "\n",
    "# Play the MIDI file\n",
    "pygame.mixer.music.play()\n",
    "\n",
    "# Keep the program running until the music stops\n",
    "while pygame.mixer.music.get_busy():\n",
    "    pygame.time.Clock().tick(10)\n",
    "\n",
    "# Quit pygame\n",
    "pygame.quit()"
   ]
  },
  {
   "cell_type": "code",
   "execution_count": null,
   "metadata": {},
   "outputs": [],
   "source": [
    "#midiのテキスト出力\n",
    "\n",
    "midi = mido.MidiFile(\"bach_850.mid\")\n",
    "print(midi)"
   ]
  }
 ],
 "metadata": {
  "kernelspec": {
   "display_name": "Python 3",
   "language": "python",
   "name": "python3"
  },
  "language_info": {
   "codemirror_mode": {
    "name": "ipython",
    "version": 3
   },
   "file_extension": ".py",
   "mimetype": "text/x-python",
   "name": "python",
   "nbconvert_exporter": "python",
   "pygments_lexer": "ipython3",
   "version": "3.9.13"
  }
 },
 "nbformat": 4,
 "nbformat_minor": 2
}
